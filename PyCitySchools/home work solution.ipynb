{
 "cells": [
  {
   "cell_type": "code",
   "execution_count": 4,
   "id": "15c8fa6f",
   "metadata": {},
   "outputs": [],
   "source": [
    "# import Dependencies\n",
    "import pandas as pd"
   ]
  },
  {
   "cell_type": "code",
   "execution_count": 7,
   "id": "fb324a58",
   "metadata": {
    "scrolled": false
   },
   "outputs": [
    {
     "data": {
      "text/html": [
       "<div>\n",
       "<style scoped>\n",
       "    .dataframe tbody tr th:only-of-type {\n",
       "        vertical-align: middle;\n",
       "    }\n",
       "\n",
       "    .dataframe tbody tr th {\n",
       "        vertical-align: top;\n",
       "    }\n",
       "\n",
       "    .dataframe thead th {\n",
       "        text-align: right;\n",
       "    }\n",
       "</style>\n",
       "<table border=\"1\" class=\"dataframe\">\n",
       "  <thead>\n",
       "    <tr style=\"text-align: right;\">\n",
       "      <th></th>\n",
       "      <th>School ID</th>\n",
       "      <th>school_name</th>\n",
       "      <th>type</th>\n",
       "      <th>size</th>\n",
       "      <th>budget</th>\n",
       "    </tr>\n",
       "  </thead>\n",
       "  <tbody>\n",
       "    <tr>\n",
       "      <th>0</th>\n",
       "      <td>0</td>\n",
       "      <td>Huang High School</td>\n",
       "      <td>District</td>\n",
       "      <td>2917</td>\n",
       "      <td>1910635</td>\n",
       "    </tr>\n",
       "    <tr>\n",
       "      <th>1</th>\n",
       "      <td>1</td>\n",
       "      <td>Figueroa High School</td>\n",
       "      <td>District</td>\n",
       "      <td>2949</td>\n",
       "      <td>1884411</td>\n",
       "    </tr>\n",
       "    <tr>\n",
       "      <th>2</th>\n",
       "      <td>2</td>\n",
       "      <td>Shelton High School</td>\n",
       "      <td>Charter</td>\n",
       "      <td>1761</td>\n",
       "      <td>1056600</td>\n",
       "    </tr>\n",
       "    <tr>\n",
       "      <th>3</th>\n",
       "      <td>3</td>\n",
       "      <td>Hernandez High School</td>\n",
       "      <td>District</td>\n",
       "      <td>4635</td>\n",
       "      <td>3022020</td>\n",
       "    </tr>\n",
       "    <tr>\n",
       "      <th>4</th>\n",
       "      <td>4</td>\n",
       "      <td>Griffin High School</td>\n",
       "      <td>Charter</td>\n",
       "      <td>1468</td>\n",
       "      <td>917500</td>\n",
       "    </tr>\n",
       "    <tr>\n",
       "      <th>5</th>\n",
       "      <td>5</td>\n",
       "      <td>Wilson High School</td>\n",
       "      <td>Charter</td>\n",
       "      <td>2283</td>\n",
       "      <td>1319574</td>\n",
       "    </tr>\n",
       "    <tr>\n",
       "      <th>6</th>\n",
       "      <td>6</td>\n",
       "      <td>Cabrera High School</td>\n",
       "      <td>Charter</td>\n",
       "      <td>1858</td>\n",
       "      <td>1081356</td>\n",
       "    </tr>\n",
       "    <tr>\n",
       "      <th>7</th>\n",
       "      <td>7</td>\n",
       "      <td>Bailey High School</td>\n",
       "      <td>District</td>\n",
       "      <td>4976</td>\n",
       "      <td>3124928</td>\n",
       "    </tr>\n",
       "    <tr>\n",
       "      <th>8</th>\n",
       "      <td>8</td>\n",
       "      <td>Holden High School</td>\n",
       "      <td>Charter</td>\n",
       "      <td>427</td>\n",
       "      <td>248087</td>\n",
       "    </tr>\n",
       "    <tr>\n",
       "      <th>9</th>\n",
       "      <td>9</td>\n",
       "      <td>Pena High School</td>\n",
       "      <td>Charter</td>\n",
       "      <td>962</td>\n",
       "      <td>585858</td>\n",
       "    </tr>\n",
       "  </tbody>\n",
       "</table>\n",
       "</div>"
      ],
      "text/plain": [
       "   School ID            school_name      type  size   budget\n",
       "0          0      Huang High School  District  2917  1910635\n",
       "1          1   Figueroa High School  District  2949  1884411\n",
       "2          2    Shelton High School   Charter  1761  1056600\n",
       "3          3  Hernandez High School  District  4635  3022020\n",
       "4          4    Griffin High School   Charter  1468   917500\n",
       "5          5     Wilson High School   Charter  2283  1319574\n",
       "6          6    Cabrera High School   Charter  1858  1081356\n",
       "7          7     Bailey High School  District  4976  3124928\n",
       "8          8     Holden High School   Charter   427   248087\n",
       "9          9       Pena High School   Charter   962   585858"
      ]
     },
     "execution_count": 7,
     "metadata": {},
     "output_type": "execute_result"
    }
   ],
   "source": [
    "#Reference the file where csv is located\n",
    "school_data_to_load = \"Resources/schools_complete.csv\"\n",
    "student_data_to_load = \"Resources/students_complete.csv\"\n",
    "school_data_df = pd.read_csv(school_data_to_load)\n",
    "student_data_df = pd.read_csv(student_data_to_load)\n",
    "school_data_df.head(10)\n"
   ]
  },
  {
   "cell_type": "code",
   "execution_count": 181,
   "id": "8881e01a",
   "metadata": {},
   "outputs": [
    {
     "data": {
      "text/plain": [
       "24649428"
      ]
     },
     "execution_count": 181,
     "metadata": {},
     "output_type": "execute_result"
    }
   ],
   "source": [
    "Average_budget = school_data_df[\"budget\"].sum()\n",
    "Average_budget"
   ]
  },
  {
   "cell_type": "code",
   "execution_count": 8,
   "id": "de33359b",
   "metadata": {
    "scrolled": true
   },
   "outputs": [
    {
     "data": {
      "text/html": [
       "<div>\n",
       "<style scoped>\n",
       "    .dataframe tbody tr th:only-of-type {\n",
       "        vertical-align: middle;\n",
       "    }\n",
       "\n",
       "    .dataframe tbody tr th {\n",
       "        vertical-align: top;\n",
       "    }\n",
       "\n",
       "    .dataframe thead th {\n",
       "        text-align: right;\n",
       "    }\n",
       "</style>\n",
       "<table border=\"1\" class=\"dataframe\">\n",
       "  <thead>\n",
       "    <tr style=\"text-align: right;\">\n",
       "      <th></th>\n",
       "      <th>Student ID</th>\n",
       "      <th>student_name</th>\n",
       "      <th>gender</th>\n",
       "      <th>grade</th>\n",
       "      <th>school_name</th>\n",
       "      <th>reading_score</th>\n",
       "      <th>math_score</th>\n",
       "    </tr>\n",
       "  </thead>\n",
       "  <tbody>\n",
       "    <tr>\n",
       "      <th>0</th>\n",
       "      <td>0</td>\n",
       "      <td>Paul Bradley</td>\n",
       "      <td>M</td>\n",
       "      <td>9th</td>\n",
       "      <td>Huang High School</td>\n",
       "      <td>66</td>\n",
       "      <td>79</td>\n",
       "    </tr>\n",
       "    <tr>\n",
       "      <th>1</th>\n",
       "      <td>1</td>\n",
       "      <td>Victor Smith</td>\n",
       "      <td>M</td>\n",
       "      <td>12th</td>\n",
       "      <td>Huang High School</td>\n",
       "      <td>94</td>\n",
       "      <td>61</td>\n",
       "    </tr>\n",
       "    <tr>\n",
       "      <th>2</th>\n",
       "      <td>2</td>\n",
       "      <td>Kevin Rodriguez</td>\n",
       "      <td>M</td>\n",
       "      <td>12th</td>\n",
       "      <td>Huang High School</td>\n",
       "      <td>90</td>\n",
       "      <td>60</td>\n",
       "    </tr>\n",
       "    <tr>\n",
       "      <th>3</th>\n",
       "      <td>3</td>\n",
       "      <td>Dr. Richard Scott</td>\n",
       "      <td>M</td>\n",
       "      <td>12th</td>\n",
       "      <td>Huang High School</td>\n",
       "      <td>67</td>\n",
       "      <td>58</td>\n",
       "    </tr>\n",
       "    <tr>\n",
       "      <th>4</th>\n",
       "      <td>4</td>\n",
       "      <td>Bonnie Ray</td>\n",
       "      <td>F</td>\n",
       "      <td>9th</td>\n",
       "      <td>Huang High School</td>\n",
       "      <td>97</td>\n",
       "      <td>84</td>\n",
       "    </tr>\n",
       "  </tbody>\n",
       "</table>\n",
       "</div>"
      ],
      "text/plain": [
       "   Student ID       student_name gender grade        school_name  \\\n",
       "0           0       Paul Bradley      M   9th  Huang High School   \n",
       "1           1       Victor Smith      M  12th  Huang High School   \n",
       "2           2    Kevin Rodriguez      M  12th  Huang High School   \n",
       "3           3  Dr. Richard Scott      M  12th  Huang High School   \n",
       "4           4         Bonnie Ray      F   9th  Huang High School   \n",
       "\n",
       "   reading_score  math_score  \n",
       "0             66          79  \n",
       "1             94          61  \n",
       "2             90          60  \n",
       "3             67          58  \n",
       "4             97          84  "
      ]
     },
     "execution_count": 8,
     "metadata": {},
     "output_type": "execute_result"
    }
   ],
   "source": [
    "student_data_df.head()"
   ]
  },
  {
   "cell_type": "code",
   "execution_count": 9,
   "id": "590aa6e5",
   "metadata": {},
   "outputs": [
    {
     "data": {
      "text/plain": [
       "39170"
      ]
     },
     "execution_count": 9,
     "metadata": {},
     "output_type": "execute_result"
    }
   ],
   "source": [
    "student_data_df[\"math_score\"].count()"
   ]
  },
  {
   "cell_type": "code",
   "execution_count": 10,
   "id": "97f9cc0b",
   "metadata": {
    "scrolled": true
   },
   "outputs": [
    {
     "data": {
      "text/html": [
       "<div>\n",
       "<style scoped>\n",
       "    .dataframe tbody tr th:only-of-type {\n",
       "        vertical-align: middle;\n",
       "    }\n",
       "\n",
       "    .dataframe tbody tr th {\n",
       "        vertical-align: top;\n",
       "    }\n",
       "\n",
       "    .dataframe thead th {\n",
       "        text-align: right;\n",
       "    }\n",
       "</style>\n",
       "<table border=\"1\" class=\"dataframe\">\n",
       "  <thead>\n",
       "    <tr style=\"text-align: right;\">\n",
       "      <th></th>\n",
       "      <th>Student ID</th>\n",
       "      <th>student_name</th>\n",
       "      <th>gender</th>\n",
       "      <th>grade</th>\n",
       "      <th>school_name</th>\n",
       "      <th>reading_score</th>\n",
       "      <th>math_score</th>\n",
       "      <th>School ID</th>\n",
       "      <th>type</th>\n",
       "      <th>size</th>\n",
       "      <th>budget</th>\n",
       "    </tr>\n",
       "  </thead>\n",
       "  <tbody>\n",
       "    <tr>\n",
       "      <th>0</th>\n",
       "      <td>0</td>\n",
       "      <td>Paul Bradley</td>\n",
       "      <td>M</td>\n",
       "      <td>9th</td>\n",
       "      <td>Huang High School</td>\n",
       "      <td>66</td>\n",
       "      <td>79</td>\n",
       "      <td>0</td>\n",
       "      <td>District</td>\n",
       "      <td>2917</td>\n",
       "      <td>1910635</td>\n",
       "    </tr>\n",
       "    <tr>\n",
       "      <th>1</th>\n",
       "      <td>1</td>\n",
       "      <td>Victor Smith</td>\n",
       "      <td>M</td>\n",
       "      <td>12th</td>\n",
       "      <td>Huang High School</td>\n",
       "      <td>94</td>\n",
       "      <td>61</td>\n",
       "      <td>0</td>\n",
       "      <td>District</td>\n",
       "      <td>2917</td>\n",
       "      <td>1910635</td>\n",
       "    </tr>\n",
       "    <tr>\n",
       "      <th>2</th>\n",
       "      <td>2</td>\n",
       "      <td>Kevin Rodriguez</td>\n",
       "      <td>M</td>\n",
       "      <td>12th</td>\n",
       "      <td>Huang High School</td>\n",
       "      <td>90</td>\n",
       "      <td>60</td>\n",
       "      <td>0</td>\n",
       "      <td>District</td>\n",
       "      <td>2917</td>\n",
       "      <td>1910635</td>\n",
       "    </tr>\n",
       "    <tr>\n",
       "      <th>3</th>\n",
       "      <td>3</td>\n",
       "      <td>Dr. Richard Scott</td>\n",
       "      <td>M</td>\n",
       "      <td>12th</td>\n",
       "      <td>Huang High School</td>\n",
       "      <td>67</td>\n",
       "      <td>58</td>\n",
       "      <td>0</td>\n",
       "      <td>District</td>\n",
       "      <td>2917</td>\n",
       "      <td>1910635</td>\n",
       "    </tr>\n",
       "    <tr>\n",
       "      <th>4</th>\n",
       "      <td>4</td>\n",
       "      <td>Bonnie Ray</td>\n",
       "      <td>F</td>\n",
       "      <td>9th</td>\n",
       "      <td>Huang High School</td>\n",
       "      <td>97</td>\n",
       "      <td>84</td>\n",
       "      <td>0</td>\n",
       "      <td>District</td>\n",
       "      <td>2917</td>\n",
       "      <td>1910635</td>\n",
       "    </tr>\n",
       "    <tr>\n",
       "      <th>5</th>\n",
       "      <td>5</td>\n",
       "      <td>Bryan Miranda</td>\n",
       "      <td>M</td>\n",
       "      <td>9th</td>\n",
       "      <td>Huang High School</td>\n",
       "      <td>94</td>\n",
       "      <td>94</td>\n",
       "      <td>0</td>\n",
       "      <td>District</td>\n",
       "      <td>2917</td>\n",
       "      <td>1910635</td>\n",
       "    </tr>\n",
       "    <tr>\n",
       "      <th>6</th>\n",
       "      <td>6</td>\n",
       "      <td>Sheena Carter</td>\n",
       "      <td>F</td>\n",
       "      <td>11th</td>\n",
       "      <td>Huang High School</td>\n",
       "      <td>82</td>\n",
       "      <td>80</td>\n",
       "      <td>0</td>\n",
       "      <td>District</td>\n",
       "      <td>2917</td>\n",
       "      <td>1910635</td>\n",
       "    </tr>\n",
       "    <tr>\n",
       "      <th>7</th>\n",
       "      <td>7</td>\n",
       "      <td>Nicole Baker</td>\n",
       "      <td>F</td>\n",
       "      <td>12th</td>\n",
       "      <td>Huang High School</td>\n",
       "      <td>96</td>\n",
       "      <td>69</td>\n",
       "      <td>0</td>\n",
       "      <td>District</td>\n",
       "      <td>2917</td>\n",
       "      <td>1910635</td>\n",
       "    </tr>\n",
       "    <tr>\n",
       "      <th>8</th>\n",
       "      <td>8</td>\n",
       "      <td>Michael Roth</td>\n",
       "      <td>M</td>\n",
       "      <td>10th</td>\n",
       "      <td>Huang High School</td>\n",
       "      <td>95</td>\n",
       "      <td>87</td>\n",
       "      <td>0</td>\n",
       "      <td>District</td>\n",
       "      <td>2917</td>\n",
       "      <td>1910635</td>\n",
       "    </tr>\n",
       "    <tr>\n",
       "      <th>9</th>\n",
       "      <td>9</td>\n",
       "      <td>Matthew Greene</td>\n",
       "      <td>M</td>\n",
       "      <td>10th</td>\n",
       "      <td>Huang High School</td>\n",
       "      <td>96</td>\n",
       "      <td>84</td>\n",
       "      <td>0</td>\n",
       "      <td>District</td>\n",
       "      <td>2917</td>\n",
       "      <td>1910635</td>\n",
       "    </tr>\n",
       "  </tbody>\n",
       "</table>\n",
       "</div>"
      ],
      "text/plain": [
       "   Student ID       student_name gender grade        school_name  \\\n",
       "0           0       Paul Bradley      M   9th  Huang High School   \n",
       "1           1       Victor Smith      M  12th  Huang High School   \n",
       "2           2    Kevin Rodriguez      M  12th  Huang High School   \n",
       "3           3  Dr. Richard Scott      M  12th  Huang High School   \n",
       "4           4         Bonnie Ray      F   9th  Huang High School   \n",
       "5           5      Bryan Miranda      M   9th  Huang High School   \n",
       "6           6      Sheena Carter      F  11th  Huang High School   \n",
       "7           7       Nicole Baker      F  12th  Huang High School   \n",
       "8           8       Michael Roth      M  10th  Huang High School   \n",
       "9           9     Matthew Greene      M  10th  Huang High School   \n",
       "\n",
       "   reading_score  math_score  School ID      type  size   budget  \n",
       "0             66          79          0  District  2917  1910635  \n",
       "1             94          61          0  District  2917  1910635  \n",
       "2             90          60          0  District  2917  1910635  \n",
       "3             67          58          0  District  2917  1910635  \n",
       "4             97          84          0  District  2917  1910635  \n",
       "5             94          94          0  District  2917  1910635  \n",
       "6             82          80          0  District  2917  1910635  \n",
       "7             96          69          0  District  2917  1910635  \n",
       "8             95          87          0  District  2917  1910635  \n",
       "9             96          84          0  District  2917  1910635  "
      ]
     },
     "execution_count": 10,
     "metadata": {},
     "output_type": "execute_result"
    }
   ],
   "source": [
    "# Combine the data into a single dataset.  \n",
    "school_data_complete_df = pd.merge(student_data_df, school_data_df, how=\"left\", on=[\"school_name\", \"school_name\"])\n",
    "school_data_complete_df.head(10)"
   ]
  },
  {
   "cell_type": "markdown",
   "id": "54f387f8",
   "metadata": {},
   "source": []
  },
  {
   "cell_type": "code",
   "execution_count": 12,
   "id": "2570e7af",
   "metadata": {},
   "outputs": [
    {
     "data": {
      "text/plain": [
       "39170"
      ]
     },
     "execution_count": 12,
     "metadata": {},
     "output_type": "execute_result"
    }
   ],
   "source": [
    "total_students = student_data_df[\"student_name\"].count()\n",
    "total_students"
   ]
  },
  {
   "cell_type": "code",
   "execution_count": 13,
   "id": "701d0626",
   "metadata": {},
   "outputs": [
    {
     "data": {
      "text/plain": [
       "81.87784018381414"
      ]
     },
     "execution_count": 13,
     "metadata": {},
     "output_type": "execute_result"
    }
   ],
   "source": [
    "average_reading_score  =school_data_complete_df[\"reading_score\"].mean()\n",
    "average_reading_score"
   ]
  },
  {
   "cell_type": "code",
   "execution_count": 14,
   "id": "452ee02a",
   "metadata": {},
   "outputs": [
    {
     "data": {
      "text/plain": [
       "78.98537145774827"
      ]
     },
     "execution_count": 14,
     "metadata": {},
     "output_type": "execute_result"
    }
   ],
   "source": [
    "average_math_score  =school_data_complete_df[\"math_score\"].mean()\n",
    "average_math_score"
   ]
  },
  {
   "cell_type": "code",
   "execution_count": 15,
   "id": "dd7da955",
   "metadata": {
    "scrolled": false
   },
   "outputs": [
    {
     "data": {
      "text/html": [
       "<div>\n",
       "<style scoped>\n",
       "    .dataframe tbody tr th:only-of-type {\n",
       "        vertical-align: middle;\n",
       "    }\n",
       "\n",
       "    .dataframe tbody tr th {\n",
       "        vertical-align: top;\n",
       "    }\n",
       "\n",
       "    .dataframe thead th {\n",
       "        text-align: right;\n",
       "    }\n",
       "</style>\n",
       "<table border=\"1\" class=\"dataframe\">\n",
       "  <thead>\n",
       "    <tr style=\"text-align: right;\">\n",
       "      <th></th>\n",
       "      <th>Student ID</th>\n",
       "      <th>student name</th>\n",
       "      <th>gender</th>\n",
       "      <th>grade</th>\n",
       "      <th>school name</th>\n",
       "      <th>reading score</th>\n",
       "      <th>math score</th>\n",
       "      <th>School ID</th>\n",
       "      <th>type</th>\n",
       "      <th>size</th>\n",
       "      <th>budget</th>\n",
       "    </tr>\n",
       "  </thead>\n",
       "  <tbody>\n",
       "    <tr>\n",
       "      <th>0</th>\n",
       "      <td>0</td>\n",
       "      <td>Paul Bradley</td>\n",
       "      <td>M</td>\n",
       "      <td>9th</td>\n",
       "      <td>Huang High School</td>\n",
       "      <td>66</td>\n",
       "      <td>79</td>\n",
       "      <td>0</td>\n",
       "      <td>District</td>\n",
       "      <td>2917</td>\n",
       "      <td>1910635</td>\n",
       "    </tr>\n",
       "    <tr>\n",
       "      <th>1</th>\n",
       "      <td>1</td>\n",
       "      <td>Victor Smith</td>\n",
       "      <td>M</td>\n",
       "      <td>12th</td>\n",
       "      <td>Huang High School</td>\n",
       "      <td>94</td>\n",
       "      <td>61</td>\n",
       "      <td>0</td>\n",
       "      <td>District</td>\n",
       "      <td>2917</td>\n",
       "      <td>1910635</td>\n",
       "    </tr>\n",
       "    <tr>\n",
       "      <th>2</th>\n",
       "      <td>2</td>\n",
       "      <td>Kevin Rodriguez</td>\n",
       "      <td>M</td>\n",
       "      <td>12th</td>\n",
       "      <td>Huang High School</td>\n",
       "      <td>90</td>\n",
       "      <td>60</td>\n",
       "      <td>0</td>\n",
       "      <td>District</td>\n",
       "      <td>2917</td>\n",
       "      <td>1910635</td>\n",
       "    </tr>\n",
       "    <tr>\n",
       "      <th>3</th>\n",
       "      <td>3</td>\n",
       "      <td>Dr. Richard Scott</td>\n",
       "      <td>M</td>\n",
       "      <td>12th</td>\n",
       "      <td>Huang High School</td>\n",
       "      <td>67</td>\n",
       "      <td>58</td>\n",
       "      <td>0</td>\n",
       "      <td>District</td>\n",
       "      <td>2917</td>\n",
       "      <td>1910635</td>\n",
       "    </tr>\n",
       "    <tr>\n",
       "      <th>4</th>\n",
       "      <td>4</td>\n",
       "      <td>Bonnie Ray</td>\n",
       "      <td>F</td>\n",
       "      <td>9th</td>\n",
       "      <td>Huang High School</td>\n",
       "      <td>97</td>\n",
       "      <td>84</td>\n",
       "      <td>0</td>\n",
       "      <td>District</td>\n",
       "      <td>2917</td>\n",
       "      <td>1910635</td>\n",
       "    </tr>\n",
       "  </tbody>\n",
       "</table>\n",
       "</div>"
      ],
      "text/plain": [
       "   Student ID       student name gender grade        school name  \\\n",
       "0           0       Paul Bradley      M   9th  Huang High School   \n",
       "1           1       Victor Smith      M  12th  Huang High School   \n",
       "2           2    Kevin Rodriguez      M  12th  Huang High School   \n",
       "3           3  Dr. Richard Scott      M  12th  Huang High School   \n",
       "4           4         Bonnie Ray      F   9th  Huang High School   \n",
       "\n",
       "   reading score  math score  School ID      type  size   budget  \n",
       "0             66          79          0  District  2917  1910635  \n",
       "1             94          61          0  District  2917  1910635  \n",
       "2             90          60          0  District  2917  1910635  \n",
       "3             67          58          0  District  2917  1910635  \n",
       "4             97          84          0  District  2917  1910635  "
      ]
     },
     "execution_count": 15,
     "metadata": {},
     "output_type": "execute_result"
    }
   ],
   "source": [
    "School_complete_rename_df = school_data_complete_df.rename(columns={\"school_name\":\"school name\", \"student_name\":\"student name\", \"reading_score\":\"reading score\", \"math_score\":\"math score\", \"budget\":\"budget\"})\n",
    "School_complete_rename_df.head()                                                                   "
   ]
  },
  {
   "cell_type": "markdown",
   "id": "048cfd5a",
   "metadata": {},
   "source": [
    "District Summary"
   ]
  },
  {
   "cell_type": "code",
   "execution_count": 16,
   "id": "95024132",
   "metadata": {},
   "outputs": [
    {
     "data": {
      "text/html": [
       "<div>\n",
       "<style scoped>\n",
       "    .dataframe tbody tr th:only-of-type {\n",
       "        vertical-align: middle;\n",
       "    }\n",
       "\n",
       "    .dataframe tbody tr th {\n",
       "        vertical-align: top;\n",
       "    }\n",
       "\n",
       "    .dataframe thead th {\n",
       "        text-align: right;\n",
       "    }\n",
       "</style>\n",
       "<table border=\"1\" class=\"dataframe\">\n",
       "  <thead>\n",
       "    <tr style=\"text-align: right;\">\n",
       "      <th></th>\n",
       "      <th>Student ID</th>\n",
       "      <th>student_name</th>\n",
       "      <th>gender</th>\n",
       "      <th>grade</th>\n",
       "      <th>school_name</th>\n",
       "      <th>reading_score</th>\n",
       "      <th>math_score</th>\n",
       "      <th>School ID</th>\n",
       "      <th>type</th>\n",
       "      <th>size</th>\n",
       "      <th>budget</th>\n",
       "    </tr>\n",
       "  </thead>\n",
       "  <tbody>\n",
       "    <tr>\n",
       "      <th>0</th>\n",
       "      <td>0</td>\n",
       "      <td>Paul Bradley</td>\n",
       "      <td>M</td>\n",
       "      <td>9th</td>\n",
       "      <td>Huang High School</td>\n",
       "      <td>66</td>\n",
       "      <td>79</td>\n",
       "      <td>0</td>\n",
       "      <td>District</td>\n",
       "      <td>2917</td>\n",
       "      <td>1910635</td>\n",
       "    </tr>\n",
       "    <tr>\n",
       "      <th>4</th>\n",
       "      <td>4</td>\n",
       "      <td>Bonnie Ray</td>\n",
       "      <td>F</td>\n",
       "      <td>9th</td>\n",
       "      <td>Huang High School</td>\n",
       "      <td>97</td>\n",
       "      <td>84</td>\n",
       "      <td>0</td>\n",
       "      <td>District</td>\n",
       "      <td>2917</td>\n",
       "      <td>1910635</td>\n",
       "    </tr>\n",
       "    <tr>\n",
       "      <th>5</th>\n",
       "      <td>5</td>\n",
       "      <td>Bryan Miranda</td>\n",
       "      <td>M</td>\n",
       "      <td>9th</td>\n",
       "      <td>Huang High School</td>\n",
       "      <td>94</td>\n",
       "      <td>94</td>\n",
       "      <td>0</td>\n",
       "      <td>District</td>\n",
       "      <td>2917</td>\n",
       "      <td>1910635</td>\n",
       "    </tr>\n",
       "    <tr>\n",
       "      <th>6</th>\n",
       "      <td>6</td>\n",
       "      <td>Sheena Carter</td>\n",
       "      <td>F</td>\n",
       "      <td>11th</td>\n",
       "      <td>Huang High School</td>\n",
       "      <td>82</td>\n",
       "      <td>80</td>\n",
       "      <td>0</td>\n",
       "      <td>District</td>\n",
       "      <td>2917</td>\n",
       "      <td>1910635</td>\n",
       "    </tr>\n",
       "    <tr>\n",
       "      <th>8</th>\n",
       "      <td>8</td>\n",
       "      <td>Michael Roth</td>\n",
       "      <td>M</td>\n",
       "      <td>10th</td>\n",
       "      <td>Huang High School</td>\n",
       "      <td>95</td>\n",
       "      <td>87</td>\n",
       "      <td>0</td>\n",
       "      <td>District</td>\n",
       "      <td>2917</td>\n",
       "      <td>1910635</td>\n",
       "    </tr>\n",
       "  </tbody>\n",
       "</table>\n",
       "</div>"
      ],
      "text/plain": [
       "   Student ID   student_name gender grade        school_name  reading_score  \\\n",
       "0           0   Paul Bradley      M   9th  Huang High School             66   \n",
       "4           4     Bonnie Ray      F   9th  Huang High School             97   \n",
       "5           5  Bryan Miranda      M   9th  Huang High School             94   \n",
       "6           6  Sheena Carter      F  11th  Huang High School             82   \n",
       "8           8   Michael Roth      M  10th  Huang High School             95   \n",
       "\n",
       "   math_score  School ID      type  size   budget  \n",
       "0          79          0  District  2917  1910635  \n",
       "4          84          0  District  2917  1910635  \n",
       "5          94          0  District  2917  1910635  \n",
       "6          80          0  District  2917  1910635  \n",
       "8          87          0  District  2917  1910635  "
      ]
     },
     "execution_count": 16,
     "metadata": {},
     "output_type": "execute_result"
    }
   ],
   "source": [
    "combined_math_score_df = school_data_complete_df.loc[(school_data_complete_df[\"math_score\"]>=70)]\n",
    "combined_math_score_df.head()                                                                            "
   ]
  },
  {
   "cell_type": "code",
   "execution_count": 26,
   "id": "33a3b71b",
   "metadata": {},
   "outputs": [
    {
     "data": {
      "text/plain": [
       "29370"
      ]
     },
     "execution_count": 26,
     "metadata": {},
     "output_type": "execute_result"
    }
   ],
   "source": [
    "maths_df = combined_math_score_df[\"math_score\"].count()\n",
    "maths_df"
   ]
  },
  {
   "cell_type": "code",
   "execution_count": 17,
   "id": "08f700f3",
   "metadata": {
    "scrolled": true
   },
   "outputs": [
    {
     "data": {
      "text/html": [
       "<div>\n",
       "<style scoped>\n",
       "    .dataframe tbody tr th:only-of-type {\n",
       "        vertical-align: middle;\n",
       "    }\n",
       "\n",
       "    .dataframe tbody tr th {\n",
       "        vertical-align: top;\n",
       "    }\n",
       "\n",
       "    .dataframe thead th {\n",
       "        text-align: right;\n",
       "    }\n",
       "</style>\n",
       "<table border=\"1\" class=\"dataframe\">\n",
       "  <thead>\n",
       "    <tr style=\"text-align: right;\">\n",
       "      <th></th>\n",
       "      <th>Student ID</th>\n",
       "      <th>student_name</th>\n",
       "      <th>gender</th>\n",
       "      <th>grade</th>\n",
       "      <th>school_name</th>\n",
       "      <th>reading_score</th>\n",
       "      <th>math_score</th>\n",
       "      <th>School ID</th>\n",
       "      <th>type</th>\n",
       "      <th>size</th>\n",
       "      <th>budget</th>\n",
       "    </tr>\n",
       "  </thead>\n",
       "  <tbody>\n",
       "    <tr>\n",
       "      <th>1</th>\n",
       "      <td>1</td>\n",
       "      <td>Victor Smith</td>\n",
       "      <td>M</td>\n",
       "      <td>12th</td>\n",
       "      <td>Huang High School</td>\n",
       "      <td>94</td>\n",
       "      <td>61</td>\n",
       "      <td>0</td>\n",
       "      <td>District</td>\n",
       "      <td>2917</td>\n",
       "      <td>1910635</td>\n",
       "    </tr>\n",
       "    <tr>\n",
       "      <th>2</th>\n",
       "      <td>2</td>\n",
       "      <td>Kevin Rodriguez</td>\n",
       "      <td>M</td>\n",
       "      <td>12th</td>\n",
       "      <td>Huang High School</td>\n",
       "      <td>90</td>\n",
       "      <td>60</td>\n",
       "      <td>0</td>\n",
       "      <td>District</td>\n",
       "      <td>2917</td>\n",
       "      <td>1910635</td>\n",
       "    </tr>\n",
       "    <tr>\n",
       "      <th>4</th>\n",
       "      <td>4</td>\n",
       "      <td>Bonnie Ray</td>\n",
       "      <td>F</td>\n",
       "      <td>9th</td>\n",
       "      <td>Huang High School</td>\n",
       "      <td>97</td>\n",
       "      <td>84</td>\n",
       "      <td>0</td>\n",
       "      <td>District</td>\n",
       "      <td>2917</td>\n",
       "      <td>1910635</td>\n",
       "    </tr>\n",
       "    <tr>\n",
       "      <th>5</th>\n",
       "      <td>5</td>\n",
       "      <td>Bryan Miranda</td>\n",
       "      <td>M</td>\n",
       "      <td>9th</td>\n",
       "      <td>Huang High School</td>\n",
       "      <td>94</td>\n",
       "      <td>94</td>\n",
       "      <td>0</td>\n",
       "      <td>District</td>\n",
       "      <td>2917</td>\n",
       "      <td>1910635</td>\n",
       "    </tr>\n",
       "    <tr>\n",
       "      <th>6</th>\n",
       "      <td>6</td>\n",
       "      <td>Sheena Carter</td>\n",
       "      <td>F</td>\n",
       "      <td>11th</td>\n",
       "      <td>Huang High School</td>\n",
       "      <td>82</td>\n",
       "      <td>80</td>\n",
       "      <td>0</td>\n",
       "      <td>District</td>\n",
       "      <td>2917</td>\n",
       "      <td>1910635</td>\n",
       "    </tr>\n",
       "    <tr>\n",
       "      <th>...</th>\n",
       "      <td>...</td>\n",
       "      <td>...</td>\n",
       "      <td>...</td>\n",
       "      <td>...</td>\n",
       "      <td>...</td>\n",
       "      <td>...</td>\n",
       "      <td>...</td>\n",
       "      <td>...</td>\n",
       "      <td>...</td>\n",
       "      <td>...</td>\n",
       "      <td>...</td>\n",
       "    </tr>\n",
       "    <tr>\n",
       "      <th>39165</th>\n",
       "      <td>39165</td>\n",
       "      <td>Donna Howard</td>\n",
       "      <td>F</td>\n",
       "      <td>12th</td>\n",
       "      <td>Thomas High School</td>\n",
       "      <td>99</td>\n",
       "      <td>90</td>\n",
       "      <td>14</td>\n",
       "      <td>Charter</td>\n",
       "      <td>1635</td>\n",
       "      <td>1043130</td>\n",
       "    </tr>\n",
       "    <tr>\n",
       "      <th>39166</th>\n",
       "      <td>39166</td>\n",
       "      <td>Dawn Bell</td>\n",
       "      <td>F</td>\n",
       "      <td>10th</td>\n",
       "      <td>Thomas High School</td>\n",
       "      <td>95</td>\n",
       "      <td>70</td>\n",
       "      <td>14</td>\n",
       "      <td>Charter</td>\n",
       "      <td>1635</td>\n",
       "      <td>1043130</td>\n",
       "    </tr>\n",
       "    <tr>\n",
       "      <th>39167</th>\n",
       "      <td>39167</td>\n",
       "      <td>Rebecca Tanner</td>\n",
       "      <td>F</td>\n",
       "      <td>9th</td>\n",
       "      <td>Thomas High School</td>\n",
       "      <td>73</td>\n",
       "      <td>84</td>\n",
       "      <td>14</td>\n",
       "      <td>Charter</td>\n",
       "      <td>1635</td>\n",
       "      <td>1043130</td>\n",
       "    </tr>\n",
       "    <tr>\n",
       "      <th>39168</th>\n",
       "      <td>39168</td>\n",
       "      <td>Desiree Kidd</td>\n",
       "      <td>F</td>\n",
       "      <td>10th</td>\n",
       "      <td>Thomas High School</td>\n",
       "      <td>99</td>\n",
       "      <td>90</td>\n",
       "      <td>14</td>\n",
       "      <td>Charter</td>\n",
       "      <td>1635</td>\n",
       "      <td>1043130</td>\n",
       "    </tr>\n",
       "    <tr>\n",
       "      <th>39169</th>\n",
       "      <td>39169</td>\n",
       "      <td>Carolyn Jackson</td>\n",
       "      <td>F</td>\n",
       "      <td>11th</td>\n",
       "      <td>Thomas High School</td>\n",
       "      <td>95</td>\n",
       "      <td>75</td>\n",
       "      <td>14</td>\n",
       "      <td>Charter</td>\n",
       "      <td>1635</td>\n",
       "      <td>1043130</td>\n",
       "    </tr>\n",
       "  </tbody>\n",
       "</table>\n",
       "<p>33610 rows × 11 columns</p>\n",
       "</div>"
      ],
      "text/plain": [
       "       Student ID     student_name gender grade         school_name  \\\n",
       "1               1     Victor Smith      M  12th   Huang High School   \n",
       "2               2  Kevin Rodriguez      M  12th   Huang High School   \n",
       "4               4       Bonnie Ray      F   9th   Huang High School   \n",
       "5               5    Bryan Miranda      M   9th   Huang High School   \n",
       "6               6    Sheena Carter      F  11th   Huang High School   \n",
       "...           ...              ...    ...   ...                 ...   \n",
       "39165       39165     Donna Howard      F  12th  Thomas High School   \n",
       "39166       39166        Dawn Bell      F  10th  Thomas High School   \n",
       "39167       39167   Rebecca Tanner      F   9th  Thomas High School   \n",
       "39168       39168     Desiree Kidd      F  10th  Thomas High School   \n",
       "39169       39169  Carolyn Jackson      F  11th  Thomas High School   \n",
       "\n",
       "       reading_score  math_score  School ID      type  size   budget  \n",
       "1                 94          61          0  District  2917  1910635  \n",
       "2                 90          60          0  District  2917  1910635  \n",
       "4                 97          84          0  District  2917  1910635  \n",
       "5                 94          94          0  District  2917  1910635  \n",
       "6                 82          80          0  District  2917  1910635  \n",
       "...              ...         ...        ...       ...   ...      ...  \n",
       "39165             99          90         14   Charter  1635  1043130  \n",
       "39166             95          70         14   Charter  1635  1043130  \n",
       "39167             73          84         14   Charter  1635  1043130  \n",
       "39168             99          90         14   Charter  1635  1043130  \n",
       "39169             95          75         14   Charter  1635  1043130  \n",
       "\n",
       "[33610 rows x 11 columns]"
      ]
     },
     "execution_count": 17,
     "metadata": {},
     "output_type": "execute_result"
    }
   ],
   "source": [
    "combined_reading_score_df = school_data_complete_df.loc[(school_data_complete_df[\"reading_score\"]>= 70)]\n",
    "combined_reading_score_df                                                                                                                               "
   ]
  },
  {
   "cell_type": "code",
   "execution_count": 18,
   "id": "4c673bc6",
   "metadata": {},
   "outputs": [
    {
     "data": {
      "text/plain": [
       "33610"
      ]
     },
     "execution_count": 18,
     "metadata": {},
     "output_type": "execute_result"
    }
   ],
   "source": [
    "reading_pass_df = combined_reading_score_df[\"reading_score\"].count()\n",
    "reading_pass_df"
   ]
  },
  {
   "cell_type": "code",
   "execution_count": 22,
   "id": "6712425c",
   "metadata": {
    "scrolled": true
   },
   "outputs": [
    {
     "data": {
      "text/html": [
       "<div>\n",
       "<style scoped>\n",
       "    .dataframe tbody tr th:only-of-type {\n",
       "        vertical-align: middle;\n",
       "    }\n",
       "\n",
       "    .dataframe tbody tr th {\n",
       "        vertical-align: top;\n",
       "    }\n",
       "\n",
       "    .dataframe thead th {\n",
       "        text-align: right;\n",
       "    }\n",
       "</style>\n",
       "<table border=\"1\" class=\"dataframe\">\n",
       "  <thead>\n",
       "    <tr style=\"text-align: right;\">\n",
       "      <th></th>\n",
       "      <th>Student ID</th>\n",
       "      <th>student_name</th>\n",
       "      <th>gender</th>\n",
       "      <th>grade</th>\n",
       "      <th>school_name</th>\n",
       "      <th>reading_score</th>\n",
       "      <th>math_score</th>\n",
       "      <th>School ID</th>\n",
       "      <th>type</th>\n",
       "      <th>size</th>\n",
       "      <th>budget</th>\n",
       "    </tr>\n",
       "  </thead>\n",
       "  <tbody>\n",
       "    <tr>\n",
       "      <th>4</th>\n",
       "      <td>4</td>\n",
       "      <td>Bonnie Ray</td>\n",
       "      <td>F</td>\n",
       "      <td>9th</td>\n",
       "      <td>Huang High School</td>\n",
       "      <td>97</td>\n",
       "      <td>84</td>\n",
       "      <td>0</td>\n",
       "      <td>District</td>\n",
       "      <td>2917</td>\n",
       "      <td>1910635</td>\n",
       "    </tr>\n",
       "    <tr>\n",
       "      <th>5</th>\n",
       "      <td>5</td>\n",
       "      <td>Bryan Miranda</td>\n",
       "      <td>M</td>\n",
       "      <td>9th</td>\n",
       "      <td>Huang High School</td>\n",
       "      <td>94</td>\n",
       "      <td>94</td>\n",
       "      <td>0</td>\n",
       "      <td>District</td>\n",
       "      <td>2917</td>\n",
       "      <td>1910635</td>\n",
       "    </tr>\n",
       "    <tr>\n",
       "      <th>6</th>\n",
       "      <td>6</td>\n",
       "      <td>Sheena Carter</td>\n",
       "      <td>F</td>\n",
       "      <td>11th</td>\n",
       "      <td>Huang High School</td>\n",
       "      <td>82</td>\n",
       "      <td>80</td>\n",
       "      <td>0</td>\n",
       "      <td>District</td>\n",
       "      <td>2917</td>\n",
       "      <td>1910635</td>\n",
       "    </tr>\n",
       "    <tr>\n",
       "      <th>8</th>\n",
       "      <td>8</td>\n",
       "      <td>Michael Roth</td>\n",
       "      <td>M</td>\n",
       "      <td>10th</td>\n",
       "      <td>Huang High School</td>\n",
       "      <td>95</td>\n",
       "      <td>87</td>\n",
       "      <td>0</td>\n",
       "      <td>District</td>\n",
       "      <td>2917</td>\n",
       "      <td>1910635</td>\n",
       "    </tr>\n",
       "    <tr>\n",
       "      <th>9</th>\n",
       "      <td>9</td>\n",
       "      <td>Matthew Greene</td>\n",
       "      <td>M</td>\n",
       "      <td>10th</td>\n",
       "      <td>Huang High School</td>\n",
       "      <td>96</td>\n",
       "      <td>84</td>\n",
       "      <td>0</td>\n",
       "      <td>District</td>\n",
       "      <td>2917</td>\n",
       "      <td>1910635</td>\n",
       "    </tr>\n",
       "    <tr>\n",
       "      <th>...</th>\n",
       "      <td>...</td>\n",
       "      <td>...</td>\n",
       "      <td>...</td>\n",
       "      <td>...</td>\n",
       "      <td>...</td>\n",
       "      <td>...</td>\n",
       "      <td>...</td>\n",
       "      <td>...</td>\n",
       "      <td>...</td>\n",
       "      <td>...</td>\n",
       "      <td>...</td>\n",
       "    </tr>\n",
       "    <tr>\n",
       "      <th>39165</th>\n",
       "      <td>39165</td>\n",
       "      <td>Donna Howard</td>\n",
       "      <td>F</td>\n",
       "      <td>12th</td>\n",
       "      <td>Thomas High School</td>\n",
       "      <td>99</td>\n",
       "      <td>90</td>\n",
       "      <td>14</td>\n",
       "      <td>Charter</td>\n",
       "      <td>1635</td>\n",
       "      <td>1043130</td>\n",
       "    </tr>\n",
       "    <tr>\n",
       "      <th>39166</th>\n",
       "      <td>39166</td>\n",
       "      <td>Dawn Bell</td>\n",
       "      <td>F</td>\n",
       "      <td>10th</td>\n",
       "      <td>Thomas High School</td>\n",
       "      <td>95</td>\n",
       "      <td>70</td>\n",
       "      <td>14</td>\n",
       "      <td>Charter</td>\n",
       "      <td>1635</td>\n",
       "      <td>1043130</td>\n",
       "    </tr>\n",
       "    <tr>\n",
       "      <th>39167</th>\n",
       "      <td>39167</td>\n",
       "      <td>Rebecca Tanner</td>\n",
       "      <td>F</td>\n",
       "      <td>9th</td>\n",
       "      <td>Thomas High School</td>\n",
       "      <td>73</td>\n",
       "      <td>84</td>\n",
       "      <td>14</td>\n",
       "      <td>Charter</td>\n",
       "      <td>1635</td>\n",
       "      <td>1043130</td>\n",
       "    </tr>\n",
       "    <tr>\n",
       "      <th>39168</th>\n",
       "      <td>39168</td>\n",
       "      <td>Desiree Kidd</td>\n",
       "      <td>F</td>\n",
       "      <td>10th</td>\n",
       "      <td>Thomas High School</td>\n",
       "      <td>99</td>\n",
       "      <td>90</td>\n",
       "      <td>14</td>\n",
       "      <td>Charter</td>\n",
       "      <td>1635</td>\n",
       "      <td>1043130</td>\n",
       "    </tr>\n",
       "    <tr>\n",
       "      <th>39169</th>\n",
       "      <td>39169</td>\n",
       "      <td>Carolyn Jackson</td>\n",
       "      <td>F</td>\n",
       "      <td>11th</td>\n",
       "      <td>Thomas High School</td>\n",
       "      <td>95</td>\n",
       "      <td>75</td>\n",
       "      <td>14</td>\n",
       "      <td>Charter</td>\n",
       "      <td>1635</td>\n",
       "      <td>1043130</td>\n",
       "    </tr>\n",
       "  </tbody>\n",
       "</table>\n",
       "<p>25528 rows × 11 columns</p>\n",
       "</div>"
      ],
      "text/plain": [
       "       Student ID     student_name gender grade         school_name  \\\n",
       "4               4       Bonnie Ray      F   9th   Huang High School   \n",
       "5               5    Bryan Miranda      M   9th   Huang High School   \n",
       "6               6    Sheena Carter      F  11th   Huang High School   \n",
       "8               8     Michael Roth      M  10th   Huang High School   \n",
       "9               9   Matthew Greene      M  10th   Huang High School   \n",
       "...           ...              ...    ...   ...                 ...   \n",
       "39165       39165     Donna Howard      F  12th  Thomas High School   \n",
       "39166       39166        Dawn Bell      F  10th  Thomas High School   \n",
       "39167       39167   Rebecca Tanner      F   9th  Thomas High School   \n",
       "39168       39168     Desiree Kidd      F  10th  Thomas High School   \n",
       "39169       39169  Carolyn Jackson      F  11th  Thomas High School   \n",
       "\n",
       "       reading_score  math_score  School ID      type  size   budget  \n",
       "4                 97          84          0  District  2917  1910635  \n",
       "5                 94          94          0  District  2917  1910635  \n",
       "6                 82          80          0  District  2917  1910635  \n",
       "8                 95          87          0  District  2917  1910635  \n",
       "9                 96          84          0  District  2917  1910635  \n",
       "...              ...         ...        ...       ...   ...      ...  \n",
       "39165             99          90         14   Charter  1635  1043130  \n",
       "39166             95          70         14   Charter  1635  1043130  \n",
       "39167             73          84         14   Charter  1635  1043130  \n",
       "39168             99          90         14   Charter  1635  1043130  \n",
       "39169             95          75         14   Charter  1635  1043130  \n",
       "\n",
       "[25528 rows x 11 columns]"
      ]
     },
     "execution_count": 22,
     "metadata": {},
     "output_type": "execute_result"
    }
   ],
   "source": [
    "pass_combined_math_reading_df = school_data_complete_df.loc[(school_data_complete_df[\"reading_score\"]>=70) & (school_data_complete_df[\"math_score\"]>=70)]\n",
    "pass_combined_math_reading_df"
   ]
  },
  {
   "cell_type": "code",
   "execution_count": 23,
   "id": "e934ec60",
   "metadata": {},
   "outputs": [
    {
     "data": {
      "text/plain": [
       "25528"
      ]
     },
     "execution_count": 23,
     "metadata": {},
     "output_type": "execute_result"
    }
   ],
   "source": [
    "pass_overall_df = pass_combined_math_reading_df[\"math_score\"].count()\n",
    "pass_overall_df"
   ]
  },
  {
   "cell_type": "code",
   "execution_count": 24,
   "id": "a6816430",
   "metadata": {
    "scrolled": false
   },
   "outputs": [
    {
     "data": {
      "text/html": [
       "<div>\n",
       "<style scoped>\n",
       "    .dataframe tbody tr th:only-of-type {\n",
       "        vertical-align: middle;\n",
       "    }\n",
       "\n",
       "    .dataframe tbody tr th {\n",
       "        vertical-align: top;\n",
       "    }\n",
       "\n",
       "    .dataframe thead th {\n",
       "        text-align: right;\n",
       "    }\n",
       "</style>\n",
       "<table border=\"1\" class=\"dataframe\">\n",
       "  <thead>\n",
       "    <tr style=\"text-align: right;\">\n",
       "      <th></th>\n",
       "      <th>Student ID</th>\n",
       "      <th>student_name</th>\n",
       "      <th>gender</th>\n",
       "      <th>grade</th>\n",
       "      <th>school_name</th>\n",
       "      <th>reading_score</th>\n",
       "      <th>math_score</th>\n",
       "      <th>School ID</th>\n",
       "      <th>type</th>\n",
       "      <th>size</th>\n",
       "      <th>budget</th>\n",
       "    </tr>\n",
       "  </thead>\n",
       "  <tbody>\n",
       "    <tr>\n",
       "      <th>3</th>\n",
       "      <td>3</td>\n",
       "      <td>Dr. Richard Scott</td>\n",
       "      <td>M</td>\n",
       "      <td>12th</td>\n",
       "      <td>Huang High School</td>\n",
       "      <td>67</td>\n",
       "      <td>58</td>\n",
       "      <td>0</td>\n",
       "      <td>District</td>\n",
       "      <td>2917</td>\n",
       "      <td>1910635</td>\n",
       "    </tr>\n",
       "    <tr>\n",
       "      <th>18</th>\n",
       "      <td>18</td>\n",
       "      <td>Kevin Stevens</td>\n",
       "      <td>M</td>\n",
       "      <td>9th</td>\n",
       "      <td>Huang High School</td>\n",
       "      <td>64</td>\n",
       "      <td>69</td>\n",
       "      <td>0</td>\n",
       "      <td>District</td>\n",
       "      <td>2917</td>\n",
       "      <td>1910635</td>\n",
       "    </tr>\n",
       "    <tr>\n",
       "      <th>37</th>\n",
       "      <td>37</td>\n",
       "      <td>Jesse Newton</td>\n",
       "      <td>M</td>\n",
       "      <td>10th</td>\n",
       "      <td>Huang High School</td>\n",
       "      <td>63</td>\n",
       "      <td>66</td>\n",
       "      <td>0</td>\n",
       "      <td>District</td>\n",
       "      <td>2917</td>\n",
       "      <td>1910635</td>\n",
       "    </tr>\n",
       "    <tr>\n",
       "      <th>100</th>\n",
       "      <td>100</td>\n",
       "      <td>Jose Gonzalez</td>\n",
       "      <td>M</td>\n",
       "      <td>12th</td>\n",
       "      <td>Huang High School</td>\n",
       "      <td>69</td>\n",
       "      <td>67</td>\n",
       "      <td>0</td>\n",
       "      <td>District</td>\n",
       "      <td>2917</td>\n",
       "      <td>1910635</td>\n",
       "    </tr>\n",
       "    <tr>\n",
       "      <th>118</th>\n",
       "      <td>118</td>\n",
       "      <td>Daniel Jones</td>\n",
       "      <td>M</td>\n",
       "      <td>12th</td>\n",
       "      <td>Huang High School</td>\n",
       "      <td>66</td>\n",
       "      <td>68</td>\n",
       "      <td>0</td>\n",
       "      <td>District</td>\n",
       "      <td>2917</td>\n",
       "      <td>1910635</td>\n",
       "    </tr>\n",
       "    <tr>\n",
       "      <th>...</th>\n",
       "      <td>...</td>\n",
       "      <td>...</td>\n",
       "      <td>...</td>\n",
       "      <td>...</td>\n",
       "      <td>...</td>\n",
       "      <td>...</td>\n",
       "      <td>...</td>\n",
       "      <td>...</td>\n",
       "      <td>...</td>\n",
       "      <td>...</td>\n",
       "      <td>...</td>\n",
       "    </tr>\n",
       "    <tr>\n",
       "      <th>37657</th>\n",
       "      <td>37657</td>\n",
       "      <td>Anthony Olson</td>\n",
       "      <td>M</td>\n",
       "      <td>9th</td>\n",
       "      <td>Thomas High School</td>\n",
       "      <td>69</td>\n",
       "      <td>69</td>\n",
       "      <td>14</td>\n",
       "      <td>Charter</td>\n",
       "      <td>1635</td>\n",
       "      <td>1043130</td>\n",
       "    </tr>\n",
       "    <tr>\n",
       "      <th>37670</th>\n",
       "      <td>37670</td>\n",
       "      <td>Brittany Brown</td>\n",
       "      <td>F</td>\n",
       "      <td>12th</td>\n",
       "      <td>Thomas High School</td>\n",
       "      <td>69</td>\n",
       "      <td>68</td>\n",
       "      <td>14</td>\n",
       "      <td>Charter</td>\n",
       "      <td>1635</td>\n",
       "      <td>1043130</td>\n",
       "    </tr>\n",
       "    <tr>\n",
       "      <th>38213</th>\n",
       "      <td>38213</td>\n",
       "      <td>Vicki Miller</td>\n",
       "      <td>F</td>\n",
       "      <td>10th</td>\n",
       "      <td>Thomas High School</td>\n",
       "      <td>69</td>\n",
       "      <td>68</td>\n",
       "      <td>14</td>\n",
       "      <td>Charter</td>\n",
       "      <td>1635</td>\n",
       "      <td>1043130</td>\n",
       "    </tr>\n",
       "    <tr>\n",
       "      <th>38679</th>\n",
       "      <td>38679</td>\n",
       "      <td>Travis Spencer</td>\n",
       "      <td>M</td>\n",
       "      <td>11th</td>\n",
       "      <td>Thomas High School</td>\n",
       "      <td>69</td>\n",
       "      <td>68</td>\n",
       "      <td>14</td>\n",
       "      <td>Charter</td>\n",
       "      <td>1635</td>\n",
       "      <td>1043130</td>\n",
       "    </tr>\n",
       "    <tr>\n",
       "      <th>39109</th>\n",
       "      <td>39109</td>\n",
       "      <td>Ernest Lawrence</td>\n",
       "      <td>M</td>\n",
       "      <td>11th</td>\n",
       "      <td>Thomas High School</td>\n",
       "      <td>69</td>\n",
       "      <td>69</td>\n",
       "      <td>14</td>\n",
       "      <td>Charter</td>\n",
       "      <td>1635</td>\n",
       "      <td>1043130</td>\n",
       "    </tr>\n",
       "  </tbody>\n",
       "</table>\n",
       "<p>1718 rows × 11 columns</p>\n",
       "</div>"
      ],
      "text/plain": [
       "       Student ID       student_name gender grade         school_name  \\\n",
       "3               3  Dr. Richard Scott      M  12th   Huang High School   \n",
       "18             18      Kevin Stevens      M   9th   Huang High School   \n",
       "37             37       Jesse Newton      M  10th   Huang High School   \n",
       "100           100      Jose Gonzalez      M  12th   Huang High School   \n",
       "118           118       Daniel Jones      M  12th   Huang High School   \n",
       "...           ...                ...    ...   ...                 ...   \n",
       "37657       37657      Anthony Olson      M   9th  Thomas High School   \n",
       "37670       37670     Brittany Brown      F  12th  Thomas High School   \n",
       "38213       38213       Vicki Miller      F  10th  Thomas High School   \n",
       "38679       38679     Travis Spencer      M  11th  Thomas High School   \n",
       "39109       39109    Ernest Lawrence      M  11th  Thomas High School   \n",
       "\n",
       "       reading_score  math_score  School ID      type  size   budget  \n",
       "3                 67          58          0  District  2917  1910635  \n",
       "18                64          69          0  District  2917  1910635  \n",
       "37                63          66          0  District  2917  1910635  \n",
       "100               69          67          0  District  2917  1910635  \n",
       "118               66          68          0  District  2917  1910635  \n",
       "...              ...         ...        ...       ...   ...      ...  \n",
       "37657             69          69         14   Charter  1635  1043130  \n",
       "37670             69          68         14   Charter  1635  1043130  \n",
       "38213             69          68         14   Charter  1635  1043130  \n",
       "38679             69          68         14   Charter  1635  1043130  \n",
       "39109             69          69         14   Charter  1635  1043130  \n",
       "\n",
       "[1718 rows x 11 columns]"
      ]
     },
     "execution_count": 24,
     "metadata": {},
     "output_type": "execute_result"
    }
   ],
   "source": [
    "fail_combined_math_reading_df = school_data_complete_df.loc[(school_data_complete_df[\"reading_score\"]<70) & (school_data_complete_df[\"math_score\"]<70)]\n",
    "fail_combined_math_reading_df"
   ]
  },
  {
   "cell_type": "markdown",
   "id": "0abe0cf6",
   "metadata": {},
   "source": [
    "District Summary"
   ]
  },
  {
   "cell_type": "code",
   "execution_count": 25,
   "id": "11bc8377",
   "metadata": {},
   "outputs": [
    {
     "data": {
      "text/plain": [
       "85.80546336482001"
      ]
     },
     "execution_count": 25,
     "metadata": {},
     "output_type": "execute_result"
    }
   ],
   "source": [
    "reading_percent_df = (reading_pass_df/total_students)*100\n",
    "reading_percent_df"
   ]
  },
  {
   "cell_type": "code",
   "execution_count": 27,
   "id": "99f20ba6",
   "metadata": {},
   "outputs": [
    {
     "data": {
      "text/plain": [
       "74.9808526933878"
      ]
     },
     "execution_count": 27,
     "metadata": {},
     "output_type": "execute_result"
    }
   ],
   "source": [
    "maths_percent_df = (maths_df/total_students)*100\n",
    "maths_percent_df"
   ]
  },
  {
   "cell_type": "code",
   "execution_count": 28,
   "id": "c7adb7dd",
   "metadata": {},
   "outputs": [
    {
     "data": {
      "text/plain": [
       "65.17232575950983"
      ]
     },
     "execution_count": 28,
     "metadata": {},
     "output_type": "execute_result"
    }
   ],
   "source": [
    "overall_df = (pass_overall_df/total_students)*100\n",
    "overall_df"
   ]
  },
  {
   "cell_type": "code",
   "execution_count": 56,
   "id": "fda5c26b",
   "metadata": {},
   "outputs": [
    {
     "data": {
      "text/html": [
       "<div>\n",
       "<style scoped>\n",
       "    .dataframe tbody tr th:only-of-type {\n",
       "        vertical-align: middle;\n",
       "    }\n",
       "\n",
       "    .dataframe tbody tr th {\n",
       "        vertical-align: top;\n",
       "    }\n",
       "\n",
       "    .dataframe thead th {\n",
       "        text-align: right;\n",
       "    }\n",
       "</style>\n",
       "<table border=\"1\" class=\"dataframe\">\n",
       "  <thead>\n",
       "    <tr style=\"text-align: right;\">\n",
       "      <th></th>\n",
       "      <th>Total schools</th>\n",
       "      <th>Total students</th>\n",
       "      <th>Total budget</th>\n",
       "      <th>Average math score</th>\n",
       "      <th>% passing math</th>\n",
       "      <th>% passing reading</th>\n",
       "      <th>Overall Passing</th>\n",
       "    </tr>\n",
       "  </thead>\n",
       "  <tbody>\n",
       "    <tr>\n",
       "      <th>0</th>\n",
       "      <td>15.0</td>\n",
       "      <td>NaN</td>\n",
       "      <td>NaN</td>\n",
       "      <td>NaN</td>\n",
       "      <td>NaN</td>\n",
       "      <td>NaN</td>\n",
       "      <td>NaN</td>\n",
       "    </tr>\n",
       "    <tr>\n",
       "      <th>1</th>\n",
       "      <td>NaN</td>\n",
       "      <td>39170.0</td>\n",
       "      <td>NaN</td>\n",
       "      <td>NaN</td>\n",
       "      <td>NaN</td>\n",
       "      <td>NaN</td>\n",
       "      <td>NaN</td>\n",
       "    </tr>\n",
       "    <tr>\n",
       "      <th>2</th>\n",
       "      <td>NaN</td>\n",
       "      <td>NaN</td>\n",
       "      <td>24649428.0</td>\n",
       "      <td>NaN</td>\n",
       "      <td>NaN</td>\n",
       "      <td>NaN</td>\n",
       "      <td>NaN</td>\n",
       "    </tr>\n",
       "    <tr>\n",
       "      <th>3</th>\n",
       "      <td>NaN</td>\n",
       "      <td>NaN</td>\n",
       "      <td>NaN</td>\n",
       "      <td>78.9853</td>\n",
       "      <td>NaN</td>\n",
       "      <td>NaN</td>\n",
       "      <td>NaN</td>\n",
       "    </tr>\n",
       "    <tr>\n",
       "      <th>4</th>\n",
       "      <td>NaN</td>\n",
       "      <td>NaN</td>\n",
       "      <td>NaN</td>\n",
       "      <td>NaN</td>\n",
       "      <td>74.9808</td>\n",
       "      <td>NaN</td>\n",
       "      <td>NaN</td>\n",
       "    </tr>\n",
       "    <tr>\n",
       "      <th>5</th>\n",
       "      <td>NaN</td>\n",
       "      <td>NaN</td>\n",
       "      <td>NaN</td>\n",
       "      <td>NaN</td>\n",
       "      <td>NaN</td>\n",
       "      <td>85.8055</td>\n",
       "      <td>NaN</td>\n",
       "    </tr>\n",
       "    <tr>\n",
       "      <th>6</th>\n",
       "      <td>NaN</td>\n",
       "      <td>NaN</td>\n",
       "      <td>NaN</td>\n",
       "      <td>NaN</td>\n",
       "      <td>NaN</td>\n",
       "      <td>NaN</td>\n",
       "      <td>65.1723</td>\n",
       "    </tr>\n",
       "  </tbody>\n",
       "</table>\n",
       "</div>"
      ],
      "text/plain": [
       "   Total schools  Total students  Total budget  Average math score  \\\n",
       "0           15.0             NaN           NaN                 NaN   \n",
       "1            NaN         39170.0           NaN                 NaN   \n",
       "2            NaN             NaN    24649428.0                 NaN   \n",
       "3            NaN             NaN           NaN             78.9853   \n",
       "4            NaN             NaN           NaN                 NaN   \n",
       "5            NaN             NaN           NaN                 NaN   \n",
       "6            NaN             NaN           NaN                 NaN   \n",
       "\n",
       "   % passing math  % passing reading  Overall Passing  \n",
       "0             NaN                NaN              NaN  \n",
       "1             NaN                NaN              NaN  \n",
       "2             NaN                NaN              NaN  \n",
       "3             NaN                NaN              NaN  \n",
       "4         74.9808                NaN              NaN  \n",
       "5             NaN            85.8055              NaN  \n",
       "6             NaN                NaN          65.1723  "
      ]
     },
     "execution_count": 56,
     "metadata": {},
     "output_type": "execute_result"
    }
   ],
   "source": [
    "District_summary_df = pd.DataFrame([\n",
    "    {\"Total schools\":15}, {\"Total students\":39170}, {\"Total budget\" : 24649428}, {\"Average math score\": 78.9853}, {\"% passing math\" : 74.9808},{\"% passing reading\" : 85.8055},{\"Overall Passing\": 65.1723}\n",
    "])\n",
    "District_summary_df.head()"
   ]
  },
  {
   "cell_type": "markdown",
   "id": "e792c4aa",
   "metadata": {},
   "source": [
    "School summary\n",
    "\n",
    "\n",
    "\n",
    "\n"
   ]
  },
  {
   "cell_type": "code",
   "execution_count": 36,
   "id": "4941033b",
   "metadata": {},
   "outputs": [
    {
     "data": {
      "text/html": [
       "<div>\n",
       "<style scoped>\n",
       "    .dataframe tbody tr th:only-of-type {\n",
       "        vertical-align: middle;\n",
       "    }\n",
       "\n",
       "    .dataframe tbody tr th {\n",
       "        vertical-align: top;\n",
       "    }\n",
       "\n",
       "    .dataframe thead th {\n",
       "        text-align: right;\n",
       "    }\n",
       "</style>\n",
       "<table border=\"1\" class=\"dataframe\">\n",
       "  <thead>\n",
       "    <tr style=\"text-align: right;\">\n",
       "      <th></th>\n",
       "      <th>school_name</th>\n",
       "      <th>type</th>\n",
       "      <th>reading_score</th>\n",
       "      <th>math_score</th>\n",
       "      <th>budget</th>\n",
       "    </tr>\n",
       "  </thead>\n",
       "  <tbody>\n",
       "    <tr>\n",
       "      <th>0</th>\n",
       "      <td>Huang High School</td>\n",
       "      <td>District</td>\n",
       "      <td>66</td>\n",
       "      <td>79</td>\n",
       "      <td>1910635</td>\n",
       "    </tr>\n",
       "    <tr>\n",
       "      <th>1</th>\n",
       "      <td>Huang High School</td>\n",
       "      <td>District</td>\n",
       "      <td>94</td>\n",
       "      <td>61</td>\n",
       "      <td>1910635</td>\n",
       "    </tr>\n",
       "    <tr>\n",
       "      <th>2</th>\n",
       "      <td>Huang High School</td>\n",
       "      <td>District</td>\n",
       "      <td>90</td>\n",
       "      <td>60</td>\n",
       "      <td>1910635</td>\n",
       "    </tr>\n",
       "    <tr>\n",
       "      <th>3</th>\n",
       "      <td>Huang High School</td>\n",
       "      <td>District</td>\n",
       "      <td>67</td>\n",
       "      <td>58</td>\n",
       "      <td>1910635</td>\n",
       "    </tr>\n",
       "    <tr>\n",
       "      <th>4</th>\n",
       "      <td>Huang High School</td>\n",
       "      <td>District</td>\n",
       "      <td>97</td>\n",
       "      <td>84</td>\n",
       "      <td>1910635</td>\n",
       "    </tr>\n",
       "  </tbody>\n",
       "</table>\n",
       "</div>"
      ],
      "text/plain": [
       "         school_name      type  reading_score  math_score   budget\n",
       "0  Huang High School  District             66          79  1910635\n",
       "1  Huang High School  District             94          61  1910635\n",
       "2  Huang High School  District             90          60  1910635\n",
       "3  Huang High School  District             67          58  1910635\n",
       "4  Huang High School  District             97          84  1910635"
      ]
     },
     "execution_count": 36,
     "metadata": {},
     "output_type": "execute_result"
    }
   ],
   "source": [
    "school_summary_df = school_data_complete_df[[\"school_name\", \"type\", \"reading_score\", \"math_score\", \"budget\"]]\n",
    "school_summary_df.head()"
   ]
  },
  {
   "cell_type": "code",
   "execution_count": 37,
   "id": "441a231c",
   "metadata": {},
   "outputs": [
    {
     "data": {
      "text/plain": [
       "Index(['school_name', 'type', 'reading_score', 'math_score', 'budget'], dtype='object')"
      ]
     },
     "execution_count": 37,
     "metadata": {},
     "output_type": "execute_result"
    }
   ],
   "source": [
    "school_summary_df.columns"
   ]
  },
  {
   "cell_type": "code",
   "execution_count": 38,
   "id": "2d223698",
   "metadata": {},
   "outputs": [
    {
     "data": {
      "text/html": [
       "<div>\n",
       "<style scoped>\n",
       "    .dataframe tbody tr th:only-of-type {\n",
       "        vertical-align: middle;\n",
       "    }\n",
       "\n",
       "    .dataframe tbody tr th {\n",
       "        vertical-align: top;\n",
       "    }\n",
       "\n",
       "    .dataframe thead th {\n",
       "        text-align: right;\n",
       "    }\n",
       "</style>\n",
       "<table border=\"1\" class=\"dataframe\">\n",
       "  <thead>\n",
       "    <tr style=\"text-align: right;\">\n",
       "      <th></th>\n",
       "      <th>type</th>\n",
       "      <th>reading_score</th>\n",
       "      <th>math_score</th>\n",
       "      <th>budget</th>\n",
       "    </tr>\n",
       "    <tr>\n",
       "      <th>school_name</th>\n",
       "      <th></th>\n",
       "      <th></th>\n",
       "      <th></th>\n",
       "      <th></th>\n",
       "    </tr>\n",
       "  </thead>\n",
       "  <tbody>\n",
       "    <tr>\n",
       "      <th>Huang High School</th>\n",
       "      <td>District</td>\n",
       "      <td>66</td>\n",
       "      <td>79</td>\n",
       "      <td>1910635</td>\n",
       "    </tr>\n",
       "    <tr>\n",
       "      <th>Huang High School</th>\n",
       "      <td>District</td>\n",
       "      <td>94</td>\n",
       "      <td>61</td>\n",
       "      <td>1910635</td>\n",
       "    </tr>\n",
       "    <tr>\n",
       "      <th>Huang High School</th>\n",
       "      <td>District</td>\n",
       "      <td>90</td>\n",
       "      <td>60</td>\n",
       "      <td>1910635</td>\n",
       "    </tr>\n",
       "    <tr>\n",
       "      <th>Huang High School</th>\n",
       "      <td>District</td>\n",
       "      <td>67</td>\n",
       "      <td>58</td>\n",
       "      <td>1910635</td>\n",
       "    </tr>\n",
       "    <tr>\n",
       "      <th>Huang High School</th>\n",
       "      <td>District</td>\n",
       "      <td>97</td>\n",
       "      <td>84</td>\n",
       "      <td>1910635</td>\n",
       "    </tr>\n",
       "  </tbody>\n",
       "</table>\n",
       "</div>"
      ],
      "text/plain": [
       "                       type  reading_score  math_score   budget\n",
       "school_name                                                    \n",
       "Huang High School  District             66          79  1910635\n",
       "Huang High School  District             94          61  1910635\n",
       "Huang High School  District             90          60  1910635\n",
       "Huang High School  District             67          58  1910635\n",
       "Huang High School  District             97          84  1910635"
      ]
     },
     "execution_count": 38,
     "metadata": {},
     "output_type": "execute_result"
    }
   ],
   "source": [
    "df = school_summary_df.set_index(\"school_name\")\n",
    "df.head()"
   ]
  },
  {
   "cell_type": "markdown",
   "id": "2d294a0b",
   "metadata": {},
   "source": [
    "Summary Metrics for Huang High School"
   ]
  },
  {
   "cell_type": "code",
   "execution_count": 40,
   "id": "79e58487",
   "metadata": {
    "scrolled": true
   },
   "outputs": [
    {
     "data": {
      "text/plain": [
       "reading_score    81.182722\n",
       "math_score       76.629414\n",
       "dtype: float64"
      ]
     },
     "execution_count": 40,
     "metadata": {},
     "output_type": "execute_result"
    }
   ],
   "source": [
    "huang_df = df.loc[\"Huang High School\"]\n",
    "average = huang_df[[\"reading_score\", \"math_score\",]].mean()\n",
    "average\n"
   ]
  },
  {
   "cell_type": "code",
   "execution_count": 41,
   "id": "291652b9",
   "metadata": {},
   "outputs": [
    {
     "data": {
      "text/html": [
       "<div>\n",
       "<style scoped>\n",
       "    .dataframe tbody tr th:only-of-type {\n",
       "        vertical-align: middle;\n",
       "    }\n",
       "\n",
       "    .dataframe tbody tr th {\n",
       "        vertical-align: top;\n",
       "    }\n",
       "\n",
       "    .dataframe thead th {\n",
       "        text-align: right;\n",
       "    }\n",
       "</style>\n",
       "<table border=\"1\" class=\"dataframe\">\n",
       "  <thead>\n",
       "    <tr style=\"text-align: right;\">\n",
       "      <th></th>\n",
       "      <th>type</th>\n",
       "      <th>reading_score</th>\n",
       "      <th>math_score</th>\n",
       "      <th>budget</th>\n",
       "    </tr>\n",
       "    <tr>\n",
       "      <th>school_name</th>\n",
       "      <th></th>\n",
       "      <th></th>\n",
       "      <th></th>\n",
       "      <th></th>\n",
       "    </tr>\n",
       "  </thead>\n",
       "  <tbody>\n",
       "    <tr>\n",
       "      <th>Huang High School</th>\n",
       "      <td>District</td>\n",
       "      <td>66</td>\n",
       "      <td>79</td>\n",
       "      <td>1910635</td>\n",
       "    </tr>\n",
       "    <tr>\n",
       "      <th>Huang High School</th>\n",
       "      <td>District</td>\n",
       "      <td>94</td>\n",
       "      <td>61</td>\n",
       "      <td>1910635</td>\n",
       "    </tr>\n",
       "    <tr>\n",
       "      <th>Huang High School</th>\n",
       "      <td>District</td>\n",
       "      <td>90</td>\n",
       "      <td>60</td>\n",
       "      <td>1910635</td>\n",
       "    </tr>\n",
       "    <tr>\n",
       "      <th>Huang High School</th>\n",
       "      <td>District</td>\n",
       "      <td>67</td>\n",
       "      <td>58</td>\n",
       "      <td>1910635</td>\n",
       "    </tr>\n",
       "    <tr>\n",
       "      <th>Huang High School</th>\n",
       "      <td>District</td>\n",
       "      <td>97</td>\n",
       "      <td>84</td>\n",
       "      <td>1910635</td>\n",
       "    </tr>\n",
       "    <tr>\n",
       "      <th>...</th>\n",
       "      <td>...</td>\n",
       "      <td>...</td>\n",
       "      <td>...</td>\n",
       "      <td>...</td>\n",
       "    </tr>\n",
       "    <tr>\n",
       "      <th>Huang High School</th>\n",
       "      <td>District</td>\n",
       "      <td>98</td>\n",
       "      <td>95</td>\n",
       "      <td>1910635</td>\n",
       "    </tr>\n",
       "    <tr>\n",
       "      <th>Huang High School</th>\n",
       "      <td>District</td>\n",
       "      <td>64</td>\n",
       "      <td>81</td>\n",
       "      <td>1910635</td>\n",
       "    </tr>\n",
       "    <tr>\n",
       "      <th>Huang High School</th>\n",
       "      <td>District</td>\n",
       "      <td>66</td>\n",
       "      <td>73</td>\n",
       "      <td>1910635</td>\n",
       "    </tr>\n",
       "    <tr>\n",
       "      <th>Huang High School</th>\n",
       "      <td>District</td>\n",
       "      <td>70</td>\n",
       "      <td>85</td>\n",
       "      <td>1910635</td>\n",
       "    </tr>\n",
       "    <tr>\n",
       "      <th>Huang High School</th>\n",
       "      <td>District</td>\n",
       "      <td>82</td>\n",
       "      <td>73</td>\n",
       "      <td>1910635</td>\n",
       "    </tr>\n",
       "  </tbody>\n",
       "</table>\n",
       "<p>2917 rows × 4 columns</p>\n",
       "</div>"
      ],
      "text/plain": [
       "                       type  reading_score  math_score   budget\n",
       "school_name                                                    \n",
       "Huang High School  District             66          79  1910635\n",
       "Huang High School  District             94          61  1910635\n",
       "Huang High School  District             90          60  1910635\n",
       "Huang High School  District             67          58  1910635\n",
       "Huang High School  District             97          84  1910635\n",
       "...                     ...            ...         ...      ...\n",
       "Huang High School  District             98          95  1910635\n",
       "Huang High School  District             64          81  1910635\n",
       "Huang High School  District             66          73  1910635\n",
       "Huang High School  District             70          85  1910635\n",
       "Huang High School  District             82          73  1910635\n",
       "\n",
       "[2917 rows x 4 columns]"
      ]
     },
     "execution_count": 41,
     "metadata": {},
     "output_type": "execute_result"
    }
   ],
   "source": [
    "huang_df = df.loc[\"Huang High School\"]\n",
    "huang_df"
   ]
  },
  {
   "cell_type": "code",
   "execution_count": 42,
   "id": "c3ff41a6",
   "metadata": {},
   "outputs": [
    {
     "data": {
      "text/plain": [
       "budget    1910635.0\n",
       "dtype: float64"
      ]
     },
     "execution_count": 42,
     "metadata": {},
     "output_type": "execute_result"
    }
   ],
   "source": [
    "huang_df = df.loc[\"Huang High School\"]\n",
    "b = huang_df[[\"budget\"]].mean()\n",
    "b"
   ]
  },
  {
   "cell_type": "code",
   "execution_count": 310,
   "id": "596b78ed",
   "metadata": {},
   "outputs": [
    {
     "data": {
      "text/plain": [
       "budget    655.0\n",
       "dtype: float64"
      ]
     },
     "execution_count": 310,
     "metadata": {},
     "output_type": "execute_result"
    }
   ],
   "source": [
    "huang_df = df.loc[\"Huang High School\"]\n",
    "b = huang_df[[\"budget\"]].mean()/2917\n",
    "b"
   ]
  },
  {
   "cell_type": "code",
   "execution_count": 43,
   "id": "34968e03",
   "metadata": {
    "scrolled": true
   },
   "outputs": [
    {
     "data": {
      "text/html": [
       "<div>\n",
       "<style scoped>\n",
       "    .dataframe tbody tr th:only-of-type {\n",
       "        vertical-align: middle;\n",
       "    }\n",
       "\n",
       "    .dataframe tbody tr th {\n",
       "        vertical-align: top;\n",
       "    }\n",
       "\n",
       "    .dataframe thead th {\n",
       "        text-align: right;\n",
       "    }\n",
       "</style>\n",
       "<table border=\"1\" class=\"dataframe\">\n",
       "  <thead>\n",
       "    <tr style=\"text-align: right;\">\n",
       "      <th></th>\n",
       "      <th>type</th>\n",
       "      <th>reading_score</th>\n",
       "      <th>math_score</th>\n",
       "      <th>budget</th>\n",
       "    </tr>\n",
       "    <tr>\n",
       "      <th>school_name</th>\n",
       "      <th></th>\n",
       "      <th></th>\n",
       "      <th></th>\n",
       "      <th></th>\n",
       "    </tr>\n",
       "  </thead>\n",
       "  <tbody>\n",
       "    <tr>\n",
       "      <th>Huang High School</th>\n",
       "      <td>District</td>\n",
       "      <td>66</td>\n",
       "      <td>79</td>\n",
       "      <td>1910635</td>\n",
       "    </tr>\n",
       "    <tr>\n",
       "      <th>Huang High School</th>\n",
       "      <td>District</td>\n",
       "      <td>97</td>\n",
       "      <td>84</td>\n",
       "      <td>1910635</td>\n",
       "    </tr>\n",
       "    <tr>\n",
       "      <th>Huang High School</th>\n",
       "      <td>District</td>\n",
       "      <td>94</td>\n",
       "      <td>94</td>\n",
       "      <td>1910635</td>\n",
       "    </tr>\n",
       "    <tr>\n",
       "      <th>Huang High School</th>\n",
       "      <td>District</td>\n",
       "      <td>82</td>\n",
       "      <td>80</td>\n",
       "      <td>1910635</td>\n",
       "    </tr>\n",
       "    <tr>\n",
       "      <th>Huang High School</th>\n",
       "      <td>District</td>\n",
       "      <td>95</td>\n",
       "      <td>87</td>\n",
       "      <td>1910635</td>\n",
       "    </tr>\n",
       "    <tr>\n",
       "      <th>...</th>\n",
       "      <td>...</td>\n",
       "      <td>...</td>\n",
       "      <td>...</td>\n",
       "      <td>...</td>\n",
       "    </tr>\n",
       "    <tr>\n",
       "      <th>Huang High School</th>\n",
       "      <td>District</td>\n",
       "      <td>98</td>\n",
       "      <td>95</td>\n",
       "      <td>1910635</td>\n",
       "    </tr>\n",
       "    <tr>\n",
       "      <th>Huang High School</th>\n",
       "      <td>District</td>\n",
       "      <td>64</td>\n",
       "      <td>81</td>\n",
       "      <td>1910635</td>\n",
       "    </tr>\n",
       "    <tr>\n",
       "      <th>Huang High School</th>\n",
       "      <td>District</td>\n",
       "      <td>66</td>\n",
       "      <td>73</td>\n",
       "      <td>1910635</td>\n",
       "    </tr>\n",
       "    <tr>\n",
       "      <th>Huang High School</th>\n",
       "      <td>District</td>\n",
       "      <td>70</td>\n",
       "      <td>85</td>\n",
       "      <td>1910635</td>\n",
       "    </tr>\n",
       "    <tr>\n",
       "      <th>Huang High School</th>\n",
       "      <td>District</td>\n",
       "      <td>82</td>\n",
       "      <td>73</td>\n",
       "      <td>1910635</td>\n",
       "    </tr>\n",
       "  </tbody>\n",
       "</table>\n",
       "<p>1916 rows × 4 columns</p>\n",
       "</div>"
      ],
      "text/plain": [
       "                       type  reading_score  math_score   budget\n",
       "school_name                                                    \n",
       "Huang High School  District             66          79  1910635\n",
       "Huang High School  District             97          84  1910635\n",
       "Huang High School  District             94          94  1910635\n",
       "Huang High School  District             82          80  1910635\n",
       "Huang High School  District             95          87  1910635\n",
       "...                     ...            ...         ...      ...\n",
       "Huang High School  District             98          95  1910635\n",
       "Huang High School  District             64          81  1910635\n",
       "Huang High School  District             66          73  1910635\n",
       "Huang High School  District             70          85  1910635\n",
       "Huang High School  District             82          73  1910635\n",
       "\n",
       "[1916 rows x 4 columns]"
      ]
     },
     "execution_count": 43,
     "metadata": {},
     "output_type": "execute_result"
    }
   ],
   "source": [
    "huangpm_df = huang_df.loc[(huang_df[\"math_score\"]>=70)]\n",
    "huangpm_df"
   ]
  },
  {
   "cell_type": "code",
   "execution_count": 44,
   "id": "d9aa543d",
   "metadata": {},
   "outputs": [
    {
     "data": {
      "text/plain": [
       "65.68392183750429"
      ]
     },
     "execution_count": 44,
     "metadata": {},
     "output_type": "execute_result"
    }
   ],
   "source": [
    "huang_pm = (1916/2917)*100\n",
    "huang_pm"
   ]
  },
  {
   "cell_type": "code",
   "execution_count": 319,
   "id": "a95ad502",
   "metadata": {},
   "outputs": [
    {
     "data": {
      "text/html": [
       "<div>\n",
       "<style scoped>\n",
       "    .dataframe tbody tr th:only-of-type {\n",
       "        vertical-align: middle;\n",
       "    }\n",
       "\n",
       "    .dataframe tbody tr th {\n",
       "        vertical-align: top;\n",
       "    }\n",
       "\n",
       "    .dataframe thead th {\n",
       "        text-align: right;\n",
       "    }\n",
       "</style>\n",
       "<table border=\"1\" class=\"dataframe\">\n",
       "  <thead>\n",
       "    <tr style=\"text-align: right;\">\n",
       "      <th></th>\n",
       "      <th>type</th>\n",
       "      <th>reading_score</th>\n",
       "      <th>math_score</th>\n",
       "      <th>budget</th>\n",
       "    </tr>\n",
       "    <tr>\n",
       "      <th>school_name</th>\n",
       "      <th></th>\n",
       "      <th></th>\n",
       "      <th></th>\n",
       "      <th></th>\n",
       "    </tr>\n",
       "  </thead>\n",
       "  <tbody>\n",
       "    <tr>\n",
       "      <th>Huang High School</th>\n",
       "      <td>District</td>\n",
       "      <td>94</td>\n",
       "      <td>61</td>\n",
       "      <td>1910635</td>\n",
       "    </tr>\n",
       "    <tr>\n",
       "      <th>Huang High School</th>\n",
       "      <td>District</td>\n",
       "      <td>90</td>\n",
       "      <td>60</td>\n",
       "      <td>1910635</td>\n",
       "    </tr>\n",
       "    <tr>\n",
       "      <th>Huang High School</th>\n",
       "      <td>District</td>\n",
       "      <td>97</td>\n",
       "      <td>84</td>\n",
       "      <td>1910635</td>\n",
       "    </tr>\n",
       "    <tr>\n",
       "      <th>Huang High School</th>\n",
       "      <td>District</td>\n",
       "      <td>94</td>\n",
       "      <td>94</td>\n",
       "      <td>1910635</td>\n",
       "    </tr>\n",
       "    <tr>\n",
       "      <th>Huang High School</th>\n",
       "      <td>District</td>\n",
       "      <td>82</td>\n",
       "      <td>80</td>\n",
       "      <td>1910635</td>\n",
       "    </tr>\n",
       "    <tr>\n",
       "      <th>...</th>\n",
       "      <td>...</td>\n",
       "      <td>...</td>\n",
       "      <td>...</td>\n",
       "      <td>...</td>\n",
       "    </tr>\n",
       "    <tr>\n",
       "      <th>Huang High School</th>\n",
       "      <td>District</td>\n",
       "      <td>80</td>\n",
       "      <td>77</td>\n",
       "      <td>1910635</td>\n",
       "    </tr>\n",
       "    <tr>\n",
       "      <th>Huang High School</th>\n",
       "      <td>District</td>\n",
       "      <td>94</td>\n",
       "      <td>95</td>\n",
       "      <td>1910635</td>\n",
       "    </tr>\n",
       "    <tr>\n",
       "      <th>Huang High School</th>\n",
       "      <td>District</td>\n",
       "      <td>98</td>\n",
       "      <td>95</td>\n",
       "      <td>1910635</td>\n",
       "    </tr>\n",
       "    <tr>\n",
       "      <th>Huang High School</th>\n",
       "      <td>District</td>\n",
       "      <td>70</td>\n",
       "      <td>85</td>\n",
       "      <td>1910635</td>\n",
       "    </tr>\n",
       "    <tr>\n",
       "      <th>Huang High School</th>\n",
       "      <td>District</td>\n",
       "      <td>82</td>\n",
       "      <td>73</td>\n",
       "      <td>1910635</td>\n",
       "    </tr>\n",
       "  </tbody>\n",
       "</table>\n",
       "<p>2372 rows × 4 columns</p>\n",
       "</div>"
      ],
      "text/plain": [
       "                       type  reading_score  math_score   budget\n",
       "school_name                                                    \n",
       "Huang High School  District             94          61  1910635\n",
       "Huang High School  District             90          60  1910635\n",
       "Huang High School  District             97          84  1910635\n",
       "Huang High School  District             94          94  1910635\n",
       "Huang High School  District             82          80  1910635\n",
       "...                     ...            ...         ...      ...\n",
       "Huang High School  District             80          77  1910635\n",
       "Huang High School  District             94          95  1910635\n",
       "Huang High School  District             98          95  1910635\n",
       "Huang High School  District             70          85  1910635\n",
       "Huang High School  District             82          73  1910635\n",
       "\n",
       "[2372 rows x 4 columns]"
      ]
     },
     "execution_count": 319,
     "metadata": {},
     "output_type": "execute_result"
    }
   ],
   "source": [
    "huangpr_df = huang_df.loc[(huang_df[\"reading_score\"]>=70)]\n",
    "huangpr_df"
   ]
  },
  {
   "cell_type": "code",
   "execution_count": 45,
   "id": "700455a0",
   "metadata": {},
   "outputs": [
    {
     "data": {
      "text/plain": [
       "81.31642098045938"
      ]
     },
     "execution_count": 45,
     "metadata": {},
     "output_type": "execute_result"
    }
   ],
   "source": [
    "huang_pr = (2372/2917)*100\n",
    "huang_pr"
   ]
  },
  {
   "cell_type": "code",
   "execution_count": 46,
   "id": "d2bae7e5",
   "metadata": {
    "scrolled": true
   },
   "outputs": [
    {
     "data": {
      "text/html": [
       "<div>\n",
       "<style scoped>\n",
       "    .dataframe tbody tr th:only-of-type {\n",
       "        vertical-align: middle;\n",
       "    }\n",
       "\n",
       "    .dataframe tbody tr th {\n",
       "        vertical-align: top;\n",
       "    }\n",
       "\n",
       "    .dataframe thead th {\n",
       "        text-align: right;\n",
       "    }\n",
       "</style>\n",
       "<table border=\"1\" class=\"dataframe\">\n",
       "  <thead>\n",
       "    <tr style=\"text-align: right;\">\n",
       "      <th></th>\n",
       "      <th>type</th>\n",
       "      <th>reading_score</th>\n",
       "      <th>math_score</th>\n",
       "      <th>budget</th>\n",
       "    </tr>\n",
       "    <tr>\n",
       "      <th>school_name</th>\n",
       "      <th></th>\n",
       "      <th></th>\n",
       "      <th></th>\n",
       "      <th></th>\n",
       "    </tr>\n",
       "  </thead>\n",
       "  <tbody>\n",
       "    <tr>\n",
       "      <th>Huang High School</th>\n",
       "      <td>District</td>\n",
       "      <td>97</td>\n",
       "      <td>84</td>\n",
       "      <td>1910635</td>\n",
       "    </tr>\n",
       "    <tr>\n",
       "      <th>Huang High School</th>\n",
       "      <td>District</td>\n",
       "      <td>94</td>\n",
       "      <td>94</td>\n",
       "      <td>1910635</td>\n",
       "    </tr>\n",
       "    <tr>\n",
       "      <th>Huang High School</th>\n",
       "      <td>District</td>\n",
       "      <td>82</td>\n",
       "      <td>80</td>\n",
       "      <td>1910635</td>\n",
       "    </tr>\n",
       "    <tr>\n",
       "      <th>Huang High School</th>\n",
       "      <td>District</td>\n",
       "      <td>95</td>\n",
       "      <td>87</td>\n",
       "      <td>1910635</td>\n",
       "    </tr>\n",
       "    <tr>\n",
       "      <th>Huang High School</th>\n",
       "      <td>District</td>\n",
       "      <td>96</td>\n",
       "      <td>84</td>\n",
       "      <td>1910635</td>\n",
       "    </tr>\n",
       "    <tr>\n",
       "      <th>...</th>\n",
       "      <td>...</td>\n",
       "      <td>...</td>\n",
       "      <td>...</td>\n",
       "      <td>...</td>\n",
       "    </tr>\n",
       "    <tr>\n",
       "      <th>Huang High School</th>\n",
       "      <td>District</td>\n",
       "      <td>80</td>\n",
       "      <td>77</td>\n",
       "      <td>1910635</td>\n",
       "    </tr>\n",
       "    <tr>\n",
       "      <th>Huang High School</th>\n",
       "      <td>District</td>\n",
       "      <td>94</td>\n",
       "      <td>95</td>\n",
       "      <td>1910635</td>\n",
       "    </tr>\n",
       "    <tr>\n",
       "      <th>Huang High School</th>\n",
       "      <td>District</td>\n",
       "      <td>98</td>\n",
       "      <td>95</td>\n",
       "      <td>1910635</td>\n",
       "    </tr>\n",
       "    <tr>\n",
       "      <th>Huang High School</th>\n",
       "      <td>District</td>\n",
       "      <td>70</td>\n",
       "      <td>85</td>\n",
       "      <td>1910635</td>\n",
       "    </tr>\n",
       "    <tr>\n",
       "      <th>Huang High School</th>\n",
       "      <td>District</td>\n",
       "      <td>82</td>\n",
       "      <td>73</td>\n",
       "      <td>1910635</td>\n",
       "    </tr>\n",
       "  </tbody>\n",
       "</table>\n",
       "<p>1561 rows × 4 columns</p>\n",
       "</div>"
      ],
      "text/plain": [
       "                       type  reading_score  math_score   budget\n",
       "school_name                                                    \n",
       "Huang High School  District             97          84  1910635\n",
       "Huang High School  District             94          94  1910635\n",
       "Huang High School  District             82          80  1910635\n",
       "Huang High School  District             95          87  1910635\n",
       "Huang High School  District             96          84  1910635\n",
       "...                     ...            ...         ...      ...\n",
       "Huang High School  District             80          77  1910635\n",
       "Huang High School  District             94          95  1910635\n",
       "Huang High School  District             98          95  1910635\n",
       "Huang High School  District             70          85  1910635\n",
       "Huang High School  District             82          73  1910635\n",
       "\n",
       "[1561 rows x 4 columns]"
      ]
     },
     "execution_count": 46,
     "metadata": {},
     "output_type": "execute_result"
    }
   ],
   "source": [
    "pass_combined_mrh_df  = huang_df.loc[(huang_df[\"reading_score\"]>=70) & (huang_df[\"math_score\"]>=70)]\n",
    "pass_combined_mrh_df"
   ]
  },
  {
   "cell_type": "code",
   "execution_count": 47,
   "id": "3d3a43b0",
   "metadata": {},
   "outputs": [
    {
     "data": {
      "text/plain": [
       "53.51388412752828"
      ]
     },
     "execution_count": 47,
     "metadata": {},
     "output_type": "execute_result"
    }
   ],
   "source": [
    "huang_prm = (1561/2917)*100\n",
    "huang_prm"
   ]
  },
  {
   "cell_type": "markdown",
   "id": "c7344f33",
   "metadata": {},
   "source": [
    "\n",
    "\n",
    "\n",
    "\n",
    "\n"
   ]
  },
  {
   "cell_type": "code",
   "execution_count": null,
   "id": "b1ab7fbf",
   "metadata": {},
   "outputs": [],
   "source": [
    "Summary Metrics for Figueroa High School"
   ]
  },
  {
   "cell_type": "code",
   "execution_count": 48,
   "id": "2f5e0331",
   "metadata": {},
   "outputs": [
    {
     "data": {
      "text/html": [
       "<div>\n",
       "<style scoped>\n",
       "    .dataframe tbody tr th:only-of-type {\n",
       "        vertical-align: middle;\n",
       "    }\n",
       "\n",
       "    .dataframe tbody tr th {\n",
       "        vertical-align: top;\n",
       "    }\n",
       "\n",
       "    .dataframe thead th {\n",
       "        text-align: right;\n",
       "    }\n",
       "</style>\n",
       "<table border=\"1\" class=\"dataframe\">\n",
       "  <thead>\n",
       "    <tr style=\"text-align: right;\">\n",
       "      <th></th>\n",
       "      <th>type</th>\n",
       "      <th>reading_score</th>\n",
       "      <th>math_score</th>\n",
       "      <th>budget</th>\n",
       "    </tr>\n",
       "    <tr>\n",
       "      <th>school_name</th>\n",
       "      <th></th>\n",
       "      <th></th>\n",
       "      <th></th>\n",
       "      <th></th>\n",
       "    </tr>\n",
       "  </thead>\n",
       "  <tbody>\n",
       "    <tr>\n",
       "      <th>Huang High School</th>\n",
       "      <td>District</td>\n",
       "      <td>66</td>\n",
       "      <td>79</td>\n",
       "      <td>1910635</td>\n",
       "    </tr>\n",
       "    <tr>\n",
       "      <th>Huang High School</th>\n",
       "      <td>District</td>\n",
       "      <td>94</td>\n",
       "      <td>61</td>\n",
       "      <td>1910635</td>\n",
       "    </tr>\n",
       "    <tr>\n",
       "      <th>Huang High School</th>\n",
       "      <td>District</td>\n",
       "      <td>90</td>\n",
       "      <td>60</td>\n",
       "      <td>1910635</td>\n",
       "    </tr>\n",
       "    <tr>\n",
       "      <th>Huang High School</th>\n",
       "      <td>District</td>\n",
       "      <td>67</td>\n",
       "      <td>58</td>\n",
       "      <td>1910635</td>\n",
       "    </tr>\n",
       "    <tr>\n",
       "      <th>Huang High School</th>\n",
       "      <td>District</td>\n",
       "      <td>97</td>\n",
       "      <td>84</td>\n",
       "      <td>1910635</td>\n",
       "    </tr>\n",
       "  </tbody>\n",
       "</table>\n",
       "</div>"
      ],
      "text/plain": [
       "                       type  reading_score  math_score   budget\n",
       "school_name                                                    \n",
       "Huang High School  District             66          79  1910635\n",
       "Huang High School  District             94          61  1910635\n",
       "Huang High School  District             90          60  1910635\n",
       "Huang High School  District             67          58  1910635\n",
       "Huang High School  District             97          84  1910635"
      ]
     },
     "execution_count": 48,
     "metadata": {},
     "output_type": "execute_result"
    }
   ],
   "source": [
    "df = school_summary_df.set_index(\"school_name\")\n",
    "df.head()"
   ]
  },
  {
   "cell_type": "code",
   "execution_count": 49,
   "id": "fa75bb4f",
   "metadata": {
    "scrolled": true
   },
   "outputs": [
    {
     "data": {
      "text/html": [
       "<div>\n",
       "<style scoped>\n",
       "    .dataframe tbody tr th:only-of-type {\n",
       "        vertical-align: middle;\n",
       "    }\n",
       "\n",
       "    .dataframe tbody tr th {\n",
       "        vertical-align: top;\n",
       "    }\n",
       "\n",
       "    .dataframe thead th {\n",
       "        text-align: right;\n",
       "    }\n",
       "</style>\n",
       "<table border=\"1\" class=\"dataframe\">\n",
       "  <thead>\n",
       "    <tr style=\"text-align: right;\">\n",
       "      <th></th>\n",
       "      <th>type</th>\n",
       "      <th>reading_score</th>\n",
       "      <th>math_score</th>\n",
       "      <th>budget</th>\n",
       "    </tr>\n",
       "    <tr>\n",
       "      <th>school_name</th>\n",
       "      <th></th>\n",
       "      <th></th>\n",
       "      <th></th>\n",
       "      <th></th>\n",
       "    </tr>\n",
       "  </thead>\n",
       "  <tbody>\n",
       "    <tr>\n",
       "      <th>Figueroa High School</th>\n",
       "      <td>District</td>\n",
       "      <td>85</td>\n",
       "      <td>87</td>\n",
       "      <td>1884411</td>\n",
       "    </tr>\n",
       "    <tr>\n",
       "      <th>Figueroa High School</th>\n",
       "      <td>District</td>\n",
       "      <td>97</td>\n",
       "      <td>84</td>\n",
       "      <td>1884411</td>\n",
       "    </tr>\n",
       "    <tr>\n",
       "      <th>Figueroa High School</th>\n",
       "      <td>District</td>\n",
       "      <td>67</td>\n",
       "      <td>77</td>\n",
       "      <td>1884411</td>\n",
       "    </tr>\n",
       "    <tr>\n",
       "      <th>Figueroa High School</th>\n",
       "      <td>District</td>\n",
       "      <td>97</td>\n",
       "      <td>64</td>\n",
       "      <td>1884411</td>\n",
       "    </tr>\n",
       "    <tr>\n",
       "      <th>Figueroa High School</th>\n",
       "      <td>District</td>\n",
       "      <td>79</td>\n",
       "      <td>64</td>\n",
       "      <td>1884411</td>\n",
       "    </tr>\n",
       "    <tr>\n",
       "      <th>...</th>\n",
       "      <td>...</td>\n",
       "      <td>...</td>\n",
       "      <td>...</td>\n",
       "      <td>...</td>\n",
       "    </tr>\n",
       "    <tr>\n",
       "      <th>Figueroa High School</th>\n",
       "      <td>District</td>\n",
       "      <td>81</td>\n",
       "      <td>92</td>\n",
       "      <td>1884411</td>\n",
       "    </tr>\n",
       "    <tr>\n",
       "      <th>Figueroa High School</th>\n",
       "      <td>District</td>\n",
       "      <td>99</td>\n",
       "      <td>66</td>\n",
       "      <td>1884411</td>\n",
       "    </tr>\n",
       "    <tr>\n",
       "      <th>Figueroa High School</th>\n",
       "      <td>District</td>\n",
       "      <td>98</td>\n",
       "      <td>64</td>\n",
       "      <td>1884411</td>\n",
       "    </tr>\n",
       "    <tr>\n",
       "      <th>Figueroa High School</th>\n",
       "      <td>District</td>\n",
       "      <td>91</td>\n",
       "      <td>83</td>\n",
       "      <td>1884411</td>\n",
       "    </tr>\n",
       "    <tr>\n",
       "      <th>Figueroa High School</th>\n",
       "      <td>District</td>\n",
       "      <td>99</td>\n",
       "      <td>65</td>\n",
       "      <td>1884411</td>\n",
       "    </tr>\n",
       "  </tbody>\n",
       "</table>\n",
       "<p>2949 rows × 4 columns</p>\n",
       "</div>"
      ],
      "text/plain": [
       "                          type  reading_score  math_score   budget\n",
       "school_name                                                       \n",
       "Figueroa High School  District             85          87  1884411\n",
       "Figueroa High School  District             97          84  1884411\n",
       "Figueroa High School  District             67          77  1884411\n",
       "Figueroa High School  District             97          64  1884411\n",
       "Figueroa High School  District             79          64  1884411\n",
       "...                        ...            ...         ...      ...\n",
       "Figueroa High School  District             81          92  1884411\n",
       "Figueroa High School  District             99          66  1884411\n",
       "Figueroa High School  District             98          64  1884411\n",
       "Figueroa High School  District             91          83  1884411\n",
       "Figueroa High School  District             99          65  1884411\n",
       "\n",
       "[2949 rows x 4 columns]"
      ]
     },
     "execution_count": 49,
     "metadata": {},
     "output_type": "execute_result"
    }
   ],
   "source": [
    "Figueroa_df = df.loc[\"Figueroa High School\"]\n",
    "Figueroa_df"
   ]
  },
  {
   "cell_type": "code",
   "execution_count": 57,
   "id": "426828b2",
   "metadata": {},
   "outputs": [
    {
     "data": {
      "text/plain": [
       "reading_score    81.158020\n",
       "math_score       76.711767\n",
       "dtype: float64"
      ]
     },
     "execution_count": 57,
     "metadata": {},
     "output_type": "execute_result"
    }
   ],
   "source": [
    "Figueroa_df= df.loc[\"Figueroa High School\"]\n",
    "average =  Figueroa_df[[\"reading_score\", \"math_score\"]].mean()\n",
    "average "
   ]
  },
  {
   "cell_type": "code",
   "execution_count": 51,
   "id": "8c91eab3",
   "metadata": {},
   "outputs": [
    {
     "data": {
      "text/html": [
       "<div>\n",
       "<style scoped>\n",
       "    .dataframe tbody tr th:only-of-type {\n",
       "        vertical-align: middle;\n",
       "    }\n",
       "\n",
       "    .dataframe tbody tr th {\n",
       "        vertical-align: top;\n",
       "    }\n",
       "\n",
       "    .dataframe thead th {\n",
       "        text-align: right;\n",
       "    }\n",
       "</style>\n",
       "<table border=\"1\" class=\"dataframe\">\n",
       "  <thead>\n",
       "    <tr style=\"text-align: right;\">\n",
       "      <th></th>\n",
       "      <th>type</th>\n",
       "      <th>reading_score</th>\n",
       "      <th>math_score</th>\n",
       "      <th>budget</th>\n",
       "    </tr>\n",
       "    <tr>\n",
       "      <th>school_name</th>\n",
       "      <th></th>\n",
       "      <th></th>\n",
       "      <th></th>\n",
       "      <th></th>\n",
       "    </tr>\n",
       "  </thead>\n",
       "  <tbody>\n",
       "    <tr>\n",
       "      <th>Figueroa High School</th>\n",
       "      <td>District</td>\n",
       "      <td>85</td>\n",
       "      <td>87</td>\n",
       "      <td>1884411</td>\n",
       "    </tr>\n",
       "    <tr>\n",
       "      <th>Figueroa High School</th>\n",
       "      <td>District</td>\n",
       "      <td>97</td>\n",
       "      <td>84</td>\n",
       "      <td>1884411</td>\n",
       "    </tr>\n",
       "    <tr>\n",
       "      <th>Figueroa High School</th>\n",
       "      <td>District</td>\n",
       "      <td>67</td>\n",
       "      <td>77</td>\n",
       "      <td>1884411</td>\n",
       "    </tr>\n",
       "    <tr>\n",
       "      <th>Figueroa High School</th>\n",
       "      <td>District</td>\n",
       "      <td>97</td>\n",
       "      <td>64</td>\n",
       "      <td>1884411</td>\n",
       "    </tr>\n",
       "    <tr>\n",
       "      <th>Figueroa High School</th>\n",
       "      <td>District</td>\n",
       "      <td>79</td>\n",
       "      <td>64</td>\n",
       "      <td>1884411</td>\n",
       "    </tr>\n",
       "    <tr>\n",
       "      <th>...</th>\n",
       "      <td>...</td>\n",
       "      <td>...</td>\n",
       "      <td>...</td>\n",
       "      <td>...</td>\n",
       "    </tr>\n",
       "    <tr>\n",
       "      <th>Figueroa High School</th>\n",
       "      <td>District</td>\n",
       "      <td>81</td>\n",
       "      <td>92</td>\n",
       "      <td>1884411</td>\n",
       "    </tr>\n",
       "    <tr>\n",
       "      <th>Figueroa High School</th>\n",
       "      <td>District</td>\n",
       "      <td>99</td>\n",
       "      <td>66</td>\n",
       "      <td>1884411</td>\n",
       "    </tr>\n",
       "    <tr>\n",
       "      <th>Figueroa High School</th>\n",
       "      <td>District</td>\n",
       "      <td>98</td>\n",
       "      <td>64</td>\n",
       "      <td>1884411</td>\n",
       "    </tr>\n",
       "    <tr>\n",
       "      <th>Figueroa High School</th>\n",
       "      <td>District</td>\n",
       "      <td>91</td>\n",
       "      <td>83</td>\n",
       "      <td>1884411</td>\n",
       "    </tr>\n",
       "    <tr>\n",
       "      <th>Figueroa High School</th>\n",
       "      <td>District</td>\n",
       "      <td>99</td>\n",
       "      <td>65</td>\n",
       "      <td>1884411</td>\n",
       "    </tr>\n",
       "  </tbody>\n",
       "</table>\n",
       "<p>2949 rows × 4 columns</p>\n",
       "</div>"
      ],
      "text/plain": [
       "                          type  reading_score  math_score   budget\n",
       "school_name                                                       \n",
       "Figueroa High School  District             85          87  1884411\n",
       "Figueroa High School  District             97          84  1884411\n",
       "Figueroa High School  District             67          77  1884411\n",
       "Figueroa High School  District             97          64  1884411\n",
       "Figueroa High School  District             79          64  1884411\n",
       "...                        ...            ...         ...      ...\n",
       "Figueroa High School  District             81          92  1884411\n",
       "Figueroa High School  District             99          66  1884411\n",
       "Figueroa High School  District             98          64  1884411\n",
       "Figueroa High School  District             91          83  1884411\n",
       "Figueroa High School  District             99          65  1884411\n",
       "\n",
       "[2949 rows x 4 columns]"
      ]
     },
     "execution_count": 51,
     "metadata": {},
     "output_type": "execute_result"
    }
   ],
   "source": [
    "Figueroa_df = df.loc[\"Figueroa High School\"]\n",
    "Figueroa_df"
   ]
  },
  {
   "cell_type": "code",
   "execution_count": 58,
   "id": "2142bfb4",
   "metadata": {},
   "outputs": [
    {
     "data": {
      "text/plain": [
       "budget    1884411.0\n",
       "dtype: float64"
      ]
     },
     "execution_count": 58,
     "metadata": {},
     "output_type": "execute_result"
    }
   ],
   "source": [
    "Figueroa_df = df.loc[\"Figueroa High School\"]\n",
    "b = Figueroa_df[[\"budget\"]].mean()\n",
    "b"
   ]
  },
  {
   "cell_type": "code",
   "execution_count": 83,
   "id": "cfcbedaf",
   "metadata": {},
   "outputs": [
    {
     "data": {
      "text/plain": [
       "budget    639.0\n",
       "dtype: float64"
      ]
     },
     "execution_count": 83,
     "metadata": {},
     "output_type": "execute_result"
    }
   ],
   "source": [
    "Figueroa_df = df.loc[\"Figueroa High School\"]\n",
    "b = Figueroa_df[[\"budget\"]].mean()/2949\n",
    "b"
   ]
  },
  {
   "cell_type": "code",
   "execution_count": 61,
   "id": "049c972a",
   "metadata": {},
   "outputs": [
    {
     "data": {
      "text/html": [
       "<div>\n",
       "<style scoped>\n",
       "    .dataframe tbody tr th:only-of-type {\n",
       "        vertical-align: middle;\n",
       "    }\n",
       "\n",
       "    .dataframe tbody tr th {\n",
       "        vertical-align: top;\n",
       "    }\n",
       "\n",
       "    .dataframe thead th {\n",
       "        text-align: right;\n",
       "    }\n",
       "</style>\n",
       "<table border=\"1\" class=\"dataframe\">\n",
       "  <thead>\n",
       "    <tr style=\"text-align: right;\">\n",
       "      <th></th>\n",
       "      <th>type</th>\n",
       "      <th>reading_score</th>\n",
       "      <th>math_score</th>\n",
       "      <th>budget</th>\n",
       "    </tr>\n",
       "    <tr>\n",
       "      <th>school_name</th>\n",
       "      <th></th>\n",
       "      <th></th>\n",
       "      <th></th>\n",
       "      <th></th>\n",
       "    </tr>\n",
       "  </thead>\n",
       "  <tbody>\n",
       "    <tr>\n",
       "      <th>Figueroa High School</th>\n",
       "      <td>District</td>\n",
       "      <td>85</td>\n",
       "      <td>87</td>\n",
       "      <td>1884411</td>\n",
       "    </tr>\n",
       "    <tr>\n",
       "      <th>Figueroa High School</th>\n",
       "      <td>District</td>\n",
       "      <td>97</td>\n",
       "      <td>84</td>\n",
       "      <td>1884411</td>\n",
       "    </tr>\n",
       "    <tr>\n",
       "      <th>Figueroa High School</th>\n",
       "      <td>District</td>\n",
       "      <td>67</td>\n",
       "      <td>77</td>\n",
       "      <td>1884411</td>\n",
       "    </tr>\n",
       "    <tr>\n",
       "      <th>Figueroa High School</th>\n",
       "      <td>District</td>\n",
       "      <td>72</td>\n",
       "      <td>93</td>\n",
       "      <td>1884411</td>\n",
       "    </tr>\n",
       "    <tr>\n",
       "      <th>Figueroa High School</th>\n",
       "      <td>District</td>\n",
       "      <td>66</td>\n",
       "      <td>90</td>\n",
       "      <td>1884411</td>\n",
       "    </tr>\n",
       "    <tr>\n",
       "      <th>...</th>\n",
       "      <td>...</td>\n",
       "      <td>...</td>\n",
       "      <td>...</td>\n",
       "      <td>...</td>\n",
       "    </tr>\n",
       "    <tr>\n",
       "      <th>Figueroa High School</th>\n",
       "      <td>District</td>\n",
       "      <td>78</td>\n",
       "      <td>71</td>\n",
       "      <td>1884411</td>\n",
       "    </tr>\n",
       "    <tr>\n",
       "      <th>Figueroa High School</th>\n",
       "      <td>District</td>\n",
       "      <td>75</td>\n",
       "      <td>91</td>\n",
       "      <td>1884411</td>\n",
       "    </tr>\n",
       "    <tr>\n",
       "      <th>Figueroa High School</th>\n",
       "      <td>District</td>\n",
       "      <td>81</td>\n",
       "      <td>92</td>\n",
       "      <td>1884411</td>\n",
       "    </tr>\n",
       "    <tr>\n",
       "      <th>Figueroa High School</th>\n",
       "      <td>District</td>\n",
       "      <td>81</td>\n",
       "      <td>92</td>\n",
       "      <td>1884411</td>\n",
       "    </tr>\n",
       "    <tr>\n",
       "      <th>Figueroa High School</th>\n",
       "      <td>District</td>\n",
       "      <td>91</td>\n",
       "      <td>83</td>\n",
       "      <td>1884411</td>\n",
       "    </tr>\n",
       "  </tbody>\n",
       "</table>\n",
       "<p>1946 rows × 4 columns</p>\n",
       "</div>"
      ],
      "text/plain": [
       "                          type  reading_score  math_score   budget\n",
       "school_name                                                       \n",
       "Figueroa High School  District             85          87  1884411\n",
       "Figueroa High School  District             97          84  1884411\n",
       "Figueroa High School  District             67          77  1884411\n",
       "Figueroa High School  District             72          93  1884411\n",
       "Figueroa High School  District             66          90  1884411\n",
       "...                        ...            ...         ...      ...\n",
       "Figueroa High School  District             78          71  1884411\n",
       "Figueroa High School  District             75          91  1884411\n",
       "Figueroa High School  District             81          92  1884411\n",
       "Figueroa High School  District             81          92  1884411\n",
       "Figueroa High School  District             91          83  1884411\n",
       "\n",
       "[1946 rows x 4 columns]"
      ]
     },
     "execution_count": 61,
     "metadata": {},
     "output_type": "execute_result"
    }
   ],
   "source": [
    "Figueroapm_df = Figueroa_df.loc[(Figueroa_df[\"math_score\"]>=70)]\n",
    "Figueroapm_df"
   ]
  },
  {
   "cell_type": "code",
   "execution_count": 62,
   "id": "cad630e9",
   "metadata": {},
   "outputs": [
    {
     "data": {
      "text/plain": [
       "65.98847066802306"
      ]
     },
     "execution_count": 62,
     "metadata": {},
     "output_type": "execute_result"
    }
   ],
   "source": [
    "huang_pm = (1946/2949)*100\n",
    "huang_pm"
   ]
  },
  {
   "cell_type": "code",
   "execution_count": 63,
   "id": "6cbf0e14",
   "metadata": {},
   "outputs": [
    {
     "data": {
      "text/html": [
       "<div>\n",
       "<style scoped>\n",
       "    .dataframe tbody tr th:only-of-type {\n",
       "        vertical-align: middle;\n",
       "    }\n",
       "\n",
       "    .dataframe tbody tr th {\n",
       "        vertical-align: top;\n",
       "    }\n",
       "\n",
       "    .dataframe thead th {\n",
       "        text-align: right;\n",
       "    }\n",
       "</style>\n",
       "<table border=\"1\" class=\"dataframe\">\n",
       "  <thead>\n",
       "    <tr style=\"text-align: right;\">\n",
       "      <th></th>\n",
       "      <th>type</th>\n",
       "      <th>reading_score</th>\n",
       "      <th>math_score</th>\n",
       "      <th>budget</th>\n",
       "    </tr>\n",
       "    <tr>\n",
       "      <th>school_name</th>\n",
       "      <th></th>\n",
       "      <th></th>\n",
       "      <th></th>\n",
       "      <th></th>\n",
       "    </tr>\n",
       "  </thead>\n",
       "  <tbody>\n",
       "    <tr>\n",
       "      <th>Figueroa High School</th>\n",
       "      <td>District</td>\n",
       "      <td>85</td>\n",
       "      <td>87</td>\n",
       "      <td>1884411</td>\n",
       "    </tr>\n",
       "    <tr>\n",
       "      <th>Figueroa High School</th>\n",
       "      <td>District</td>\n",
       "      <td>97</td>\n",
       "      <td>84</td>\n",
       "      <td>1884411</td>\n",
       "    </tr>\n",
       "    <tr>\n",
       "      <th>Figueroa High School</th>\n",
       "      <td>District</td>\n",
       "      <td>97</td>\n",
       "      <td>64</td>\n",
       "      <td>1884411</td>\n",
       "    </tr>\n",
       "    <tr>\n",
       "      <th>Figueroa High School</th>\n",
       "      <td>District</td>\n",
       "      <td>79</td>\n",
       "      <td>64</td>\n",
       "      <td>1884411</td>\n",
       "    </tr>\n",
       "    <tr>\n",
       "      <th>Figueroa High School</th>\n",
       "      <td>District</td>\n",
       "      <td>72</td>\n",
       "      <td>93</td>\n",
       "      <td>1884411</td>\n",
       "    </tr>\n",
       "    <tr>\n",
       "      <th>...</th>\n",
       "      <td>...</td>\n",
       "      <td>...</td>\n",
       "      <td>...</td>\n",
       "      <td>...</td>\n",
       "    </tr>\n",
       "    <tr>\n",
       "      <th>Figueroa High School</th>\n",
       "      <td>District</td>\n",
       "      <td>81</td>\n",
       "      <td>92</td>\n",
       "      <td>1884411</td>\n",
       "    </tr>\n",
       "    <tr>\n",
       "      <th>Figueroa High School</th>\n",
       "      <td>District</td>\n",
       "      <td>99</td>\n",
       "      <td>66</td>\n",
       "      <td>1884411</td>\n",
       "    </tr>\n",
       "    <tr>\n",
       "      <th>Figueroa High School</th>\n",
       "      <td>District</td>\n",
       "      <td>98</td>\n",
       "      <td>64</td>\n",
       "      <td>1884411</td>\n",
       "    </tr>\n",
       "    <tr>\n",
       "      <th>Figueroa High School</th>\n",
       "      <td>District</td>\n",
       "      <td>91</td>\n",
       "      <td>83</td>\n",
       "      <td>1884411</td>\n",
       "    </tr>\n",
       "    <tr>\n",
       "      <th>Figueroa High School</th>\n",
       "      <td>District</td>\n",
       "      <td>99</td>\n",
       "      <td>65</td>\n",
       "      <td>1884411</td>\n",
       "    </tr>\n",
       "  </tbody>\n",
       "</table>\n",
       "<p>2381 rows × 4 columns</p>\n",
       "</div>"
      ],
      "text/plain": [
       "                          type  reading_score  math_score   budget\n",
       "school_name                                                       \n",
       "Figueroa High School  District             85          87  1884411\n",
       "Figueroa High School  District             97          84  1884411\n",
       "Figueroa High School  District             97          64  1884411\n",
       "Figueroa High School  District             79          64  1884411\n",
       "Figueroa High School  District             72          93  1884411\n",
       "...                        ...            ...         ...      ...\n",
       "Figueroa High School  District             81          92  1884411\n",
       "Figueroa High School  District             99          66  1884411\n",
       "Figueroa High School  District             98          64  1884411\n",
       "Figueroa High School  District             91          83  1884411\n",
       "Figueroa High School  District             99          65  1884411\n",
       "\n",
       "[2381 rows x 4 columns]"
      ]
     },
     "execution_count": 63,
     "metadata": {},
     "output_type": "execute_result"
    }
   ],
   "source": [
    "Figueroapr_df = Figueroa_df.loc[(Figueroa_df[\"reading_score\"]>=70)]\n",
    "Figueroapr_df"
   ]
  },
  {
   "cell_type": "code",
   "execution_count": 64,
   "id": "1e5bb9cc",
   "metadata": {},
   "outputs": [
    {
     "data": {
      "text/plain": [
       "80.73923363852154"
      ]
     },
     "execution_count": 64,
     "metadata": {},
     "output_type": "execute_result"
    }
   ],
   "source": [
    "Figueroa_pr = (2381/2949)*100\n",
    "Figueroa_pr"
   ]
  },
  {
   "cell_type": "code",
   "execution_count": 65,
   "id": "3cc40910",
   "metadata": {},
   "outputs": [
    {
     "data": {
      "text/html": [
       "<div>\n",
       "<style scoped>\n",
       "    .dataframe tbody tr th:only-of-type {\n",
       "        vertical-align: middle;\n",
       "    }\n",
       "\n",
       "    .dataframe tbody tr th {\n",
       "        vertical-align: top;\n",
       "    }\n",
       "\n",
       "    .dataframe thead th {\n",
       "        text-align: right;\n",
       "    }\n",
       "</style>\n",
       "<table border=\"1\" class=\"dataframe\">\n",
       "  <thead>\n",
       "    <tr style=\"text-align: right;\">\n",
       "      <th></th>\n",
       "      <th>type</th>\n",
       "      <th>reading_score</th>\n",
       "      <th>math_score</th>\n",
       "      <th>budget</th>\n",
       "    </tr>\n",
       "    <tr>\n",
       "      <th>school_name</th>\n",
       "      <th></th>\n",
       "      <th></th>\n",
       "      <th></th>\n",
       "      <th></th>\n",
       "    </tr>\n",
       "  </thead>\n",
       "  <tbody>\n",
       "    <tr>\n",
       "      <th>Figueroa High School</th>\n",
       "      <td>District</td>\n",
       "      <td>85</td>\n",
       "      <td>87</td>\n",
       "      <td>1884411</td>\n",
       "    </tr>\n",
       "    <tr>\n",
       "      <th>Figueroa High School</th>\n",
       "      <td>District</td>\n",
       "      <td>97</td>\n",
       "      <td>84</td>\n",
       "      <td>1884411</td>\n",
       "    </tr>\n",
       "    <tr>\n",
       "      <th>Figueroa High School</th>\n",
       "      <td>District</td>\n",
       "      <td>72</td>\n",
       "      <td>93</td>\n",
       "      <td>1884411</td>\n",
       "    </tr>\n",
       "    <tr>\n",
       "      <th>Figueroa High School</th>\n",
       "      <td>District</td>\n",
       "      <td>81</td>\n",
       "      <td>75</td>\n",
       "      <td>1884411</td>\n",
       "    </tr>\n",
       "    <tr>\n",
       "      <th>Figueroa High School</th>\n",
       "      <td>District</td>\n",
       "      <td>76</td>\n",
       "      <td>77</td>\n",
       "      <td>1884411</td>\n",
       "    </tr>\n",
       "    <tr>\n",
       "      <th>...</th>\n",
       "      <td>...</td>\n",
       "      <td>...</td>\n",
       "      <td>...</td>\n",
       "      <td>...</td>\n",
       "    </tr>\n",
       "    <tr>\n",
       "      <th>Figueroa High School</th>\n",
       "      <td>District</td>\n",
       "      <td>78</td>\n",
       "      <td>71</td>\n",
       "      <td>1884411</td>\n",
       "    </tr>\n",
       "    <tr>\n",
       "      <th>Figueroa High School</th>\n",
       "      <td>District</td>\n",
       "      <td>75</td>\n",
       "      <td>91</td>\n",
       "      <td>1884411</td>\n",
       "    </tr>\n",
       "    <tr>\n",
       "      <th>Figueroa High School</th>\n",
       "      <td>District</td>\n",
       "      <td>81</td>\n",
       "      <td>92</td>\n",
       "      <td>1884411</td>\n",
       "    </tr>\n",
       "    <tr>\n",
       "      <th>Figueroa High School</th>\n",
       "      <td>District</td>\n",
       "      <td>81</td>\n",
       "      <td>92</td>\n",
       "      <td>1884411</td>\n",
       "    </tr>\n",
       "    <tr>\n",
       "      <th>Figueroa High School</th>\n",
       "      <td>District</td>\n",
       "      <td>91</td>\n",
       "      <td>83</td>\n",
       "      <td>1884411</td>\n",
       "    </tr>\n",
       "  </tbody>\n",
       "</table>\n",
       "<p>1569 rows × 4 columns</p>\n",
       "</div>"
      ],
      "text/plain": [
       "                          type  reading_score  math_score   budget\n",
       "school_name                                                       \n",
       "Figueroa High School  District             85          87  1884411\n",
       "Figueroa High School  District             97          84  1884411\n",
       "Figueroa High School  District             72          93  1884411\n",
       "Figueroa High School  District             81          75  1884411\n",
       "Figueroa High School  District             76          77  1884411\n",
       "...                        ...            ...         ...      ...\n",
       "Figueroa High School  District             78          71  1884411\n",
       "Figueroa High School  District             75          91  1884411\n",
       "Figueroa High School  District             81          92  1884411\n",
       "Figueroa High School  District             81          92  1884411\n",
       "Figueroa High School  District             91          83  1884411\n",
       "\n",
       "[1569 rows x 4 columns]"
      ]
     },
     "execution_count": 65,
     "metadata": {},
     "output_type": "execute_result"
    }
   ],
   "source": [
    "pass_combined_mrh_df  = Figueroa_df.loc[(Figueroa_df[\"reading_score\"]>=70) & (Figueroa_df[\"math_score\"]>=70)]\n",
    "pass_combined_mrh_df"
   ]
  },
  {
   "cell_type": "code",
   "execution_count": 66,
   "id": "7ff26f5d",
   "metadata": {},
   "outputs": [
    {
     "data": {
      "text/plain": [
       "53.20447609359105"
      ]
     },
     "execution_count": 66,
     "metadata": {},
     "output_type": "execute_result"
    }
   ],
   "source": [
    "huang_prm = (1569/2949)*100\n",
    "huang_prm"
   ]
  },
  {
   "cell_type": "markdown",
   "id": "a5f38b5a",
   "metadata": {},
   "source": [
    "Summary Metrics for Hernandez High School"
   ]
  },
  {
   "cell_type": "code",
   "execution_count": 52,
   "id": "fd27697c",
   "metadata": {
    "scrolled": true
   },
   "outputs": [
    {
     "data": {
      "text/plain": [
       "reading_score    80.934412\n",
       "math_score       77.289752\n",
       "dtype: float64"
      ]
     },
     "execution_count": 52,
     "metadata": {},
     "output_type": "execute_result"
    }
   ],
   "source": [
    "hernandez_df = df.loc[\"Hernandez High School\"]\n",
    "average =  hernandez_df[[\"reading_score\", \"math_score\"]].mean()\n",
    "average "
   ]
  },
  {
   "cell_type": "code",
   "execution_count": 67,
   "id": "2c9e8e60",
   "metadata": {},
   "outputs": [
    {
     "data": {
      "text/html": [
       "<div>\n",
       "<style scoped>\n",
       "    .dataframe tbody tr th:only-of-type {\n",
       "        vertical-align: middle;\n",
       "    }\n",
       "\n",
       "    .dataframe tbody tr th {\n",
       "        vertical-align: top;\n",
       "    }\n",
       "\n",
       "    .dataframe thead th {\n",
       "        text-align: right;\n",
       "    }\n",
       "</style>\n",
       "<table border=\"1\" class=\"dataframe\">\n",
       "  <thead>\n",
       "    <tr style=\"text-align: right;\">\n",
       "      <th></th>\n",
       "      <th>type</th>\n",
       "      <th>reading_score</th>\n",
       "      <th>math_score</th>\n",
       "      <th>budget</th>\n",
       "    </tr>\n",
       "    <tr>\n",
       "      <th>school_name</th>\n",
       "      <th></th>\n",
       "      <th></th>\n",
       "      <th></th>\n",
       "      <th></th>\n",
       "    </tr>\n",
       "  </thead>\n",
       "  <tbody>\n",
       "    <tr>\n",
       "      <th>Hernandez High School</th>\n",
       "      <td>District</td>\n",
       "      <td>70</td>\n",
       "      <td>88</td>\n",
       "      <td>3022020</td>\n",
       "    </tr>\n",
       "    <tr>\n",
       "      <th>Hernandez High School</th>\n",
       "      <td>District</td>\n",
       "      <td>97</td>\n",
       "      <td>93</td>\n",
       "      <td>3022020</td>\n",
       "    </tr>\n",
       "    <tr>\n",
       "      <th>Hernandez High School</th>\n",
       "      <td>District</td>\n",
       "      <td>83</td>\n",
       "      <td>81</td>\n",
       "      <td>3022020</td>\n",
       "    </tr>\n",
       "    <tr>\n",
       "      <th>Hernandez High School</th>\n",
       "      <td>District</td>\n",
       "      <td>77</td>\n",
       "      <td>91</td>\n",
       "      <td>3022020</td>\n",
       "    </tr>\n",
       "    <tr>\n",
       "      <th>Hernandez High School</th>\n",
       "      <td>District</td>\n",
       "      <td>84</td>\n",
       "      <td>93</td>\n",
       "      <td>3022020</td>\n",
       "    </tr>\n",
       "    <tr>\n",
       "      <th>...</th>\n",
       "      <td>...</td>\n",
       "      <td>...</td>\n",
       "      <td>...</td>\n",
       "      <td>...</td>\n",
       "    </tr>\n",
       "    <tr>\n",
       "      <th>Hernandez High School</th>\n",
       "      <td>District</td>\n",
       "      <td>96</td>\n",
       "      <td>64</td>\n",
       "      <td>3022020</td>\n",
       "    </tr>\n",
       "    <tr>\n",
       "      <th>Hernandez High School</th>\n",
       "      <td>District</td>\n",
       "      <td>96</td>\n",
       "      <td>63</td>\n",
       "      <td>3022020</td>\n",
       "    </tr>\n",
       "    <tr>\n",
       "      <th>Hernandez High School</th>\n",
       "      <td>District</td>\n",
       "      <td>71</td>\n",
       "      <td>91</td>\n",
       "      <td>3022020</td>\n",
       "    </tr>\n",
       "    <tr>\n",
       "      <th>Hernandez High School</th>\n",
       "      <td>District</td>\n",
       "      <td>74</td>\n",
       "      <td>68</td>\n",
       "      <td>3022020</td>\n",
       "    </tr>\n",
       "    <tr>\n",
       "      <th>Hernandez High School</th>\n",
       "      <td>District</td>\n",
       "      <td>64</td>\n",
       "      <td>81</td>\n",
       "      <td>3022020</td>\n",
       "    </tr>\n",
       "  </tbody>\n",
       "</table>\n",
       "<p>4635 rows × 4 columns</p>\n",
       "</div>"
      ],
      "text/plain": [
       "                           type  reading_score  math_score   budget\n",
       "school_name                                                        \n",
       "Hernandez High School  District             70          88  3022020\n",
       "Hernandez High School  District             97          93  3022020\n",
       "Hernandez High School  District             83          81  3022020\n",
       "Hernandez High School  District             77          91  3022020\n",
       "Hernandez High School  District             84          93  3022020\n",
       "...                         ...            ...         ...      ...\n",
       "Hernandez High School  District             96          64  3022020\n",
       "Hernandez High School  District             96          63  3022020\n",
       "Hernandez High School  District             71          91  3022020\n",
       "Hernandez High School  District             74          68  3022020\n",
       "Hernandez High School  District             64          81  3022020\n",
       "\n",
       "[4635 rows x 4 columns]"
      ]
     },
     "execution_count": 67,
     "metadata": {},
     "output_type": "execute_result"
    }
   ],
   "source": [
    "Hernandez_df = df.loc[\"Hernandez High School\"]\n",
    "Hernandez_df"
   ]
  },
  {
   "cell_type": "code",
   "execution_count": 68,
   "id": "af654846",
   "metadata": {},
   "outputs": [
    {
     "data": {
      "text/plain": [
       "budget    3022020.0\n",
       "dtype: float64"
      ]
     },
     "execution_count": 68,
     "metadata": {},
     "output_type": "execute_result"
    }
   ],
   "source": [
    "Hernandez_df = df.loc[\"Hernandez High School\"]\n",
    "b = Hernandez_df[[\"budget\"]].mean()\n",
    "b"
   ]
  },
  {
   "cell_type": "code",
   "execution_count": 82,
   "id": "6dad5038",
   "metadata": {},
   "outputs": [
    {
     "data": {
      "text/plain": [
       "budget    652.0\n",
       "dtype: float64"
      ]
     },
     "execution_count": 82,
     "metadata": {},
     "output_type": "execute_result"
    }
   ],
   "source": [
    "Hernandez_df = df.loc[\"Hernandez High School\"]\n",
    "b = Hernandez_df[[\"budget\"]].mean()/4635\n",
    "b"
   ]
  },
  {
   "cell_type": "code",
   "execution_count": 70,
   "id": "3c89122b",
   "metadata": {},
   "outputs": [
    {
     "data": {
      "text/html": [
       "<div>\n",
       "<style scoped>\n",
       "    .dataframe tbody tr th:only-of-type {\n",
       "        vertical-align: middle;\n",
       "    }\n",
       "\n",
       "    .dataframe tbody tr th {\n",
       "        vertical-align: top;\n",
       "    }\n",
       "\n",
       "    .dataframe thead th {\n",
       "        text-align: right;\n",
       "    }\n",
       "</style>\n",
       "<table border=\"1\" class=\"dataframe\">\n",
       "  <thead>\n",
       "    <tr style=\"text-align: right;\">\n",
       "      <th></th>\n",
       "      <th>type</th>\n",
       "      <th>reading_score</th>\n",
       "      <th>math_score</th>\n",
       "      <th>budget</th>\n",
       "    </tr>\n",
       "    <tr>\n",
       "      <th>school_name</th>\n",
       "      <th></th>\n",
       "      <th></th>\n",
       "      <th></th>\n",
       "      <th></th>\n",
       "    </tr>\n",
       "  </thead>\n",
       "  <tbody>\n",
       "    <tr>\n",
       "      <th>Hernandez High School</th>\n",
       "      <td>District</td>\n",
       "      <td>70</td>\n",
       "      <td>88</td>\n",
       "      <td>3022020</td>\n",
       "    </tr>\n",
       "    <tr>\n",
       "      <th>Hernandez High School</th>\n",
       "      <td>District</td>\n",
       "      <td>97</td>\n",
       "      <td>93</td>\n",
       "      <td>3022020</td>\n",
       "    </tr>\n",
       "    <tr>\n",
       "      <th>Hernandez High School</th>\n",
       "      <td>District</td>\n",
       "      <td>83</td>\n",
       "      <td>81</td>\n",
       "      <td>3022020</td>\n",
       "    </tr>\n",
       "    <tr>\n",
       "      <th>Hernandez High School</th>\n",
       "      <td>District</td>\n",
       "      <td>77</td>\n",
       "      <td>91</td>\n",
       "      <td>3022020</td>\n",
       "    </tr>\n",
       "    <tr>\n",
       "      <th>Hernandez High School</th>\n",
       "      <td>District</td>\n",
       "      <td>84</td>\n",
       "      <td>93</td>\n",
       "      <td>3022020</td>\n",
       "    </tr>\n",
       "    <tr>\n",
       "      <th>...</th>\n",
       "      <td>...</td>\n",
       "      <td>...</td>\n",
       "      <td>...</td>\n",
       "      <td>...</td>\n",
       "    </tr>\n",
       "    <tr>\n",
       "      <th>Hernandez High School</th>\n",
       "      <td>District</td>\n",
       "      <td>93</td>\n",
       "      <td>95</td>\n",
       "      <td>3022020</td>\n",
       "    </tr>\n",
       "    <tr>\n",
       "      <th>Hernandez High School</th>\n",
       "      <td>District</td>\n",
       "      <td>64</td>\n",
       "      <td>77</td>\n",
       "      <td>3022020</td>\n",
       "    </tr>\n",
       "    <tr>\n",
       "      <th>Hernandez High School</th>\n",
       "      <td>District</td>\n",
       "      <td>63</td>\n",
       "      <td>88</td>\n",
       "      <td>3022020</td>\n",
       "    </tr>\n",
       "    <tr>\n",
       "      <th>Hernandez High School</th>\n",
       "      <td>District</td>\n",
       "      <td>71</td>\n",
       "      <td>91</td>\n",
       "      <td>3022020</td>\n",
       "    </tr>\n",
       "    <tr>\n",
       "      <th>Hernandez High School</th>\n",
       "      <td>District</td>\n",
       "      <td>64</td>\n",
       "      <td>81</td>\n",
       "      <td>3022020</td>\n",
       "    </tr>\n",
       "  </tbody>\n",
       "</table>\n",
       "<p>3094 rows × 4 columns</p>\n",
       "</div>"
      ],
      "text/plain": [
       "                           type  reading_score  math_score   budget\n",
       "school_name                                                        \n",
       "Hernandez High School  District             70          88  3022020\n",
       "Hernandez High School  District             97          93  3022020\n",
       "Hernandez High School  District             83          81  3022020\n",
       "Hernandez High School  District             77          91  3022020\n",
       "Hernandez High School  District             84          93  3022020\n",
       "...                         ...            ...         ...      ...\n",
       "Hernandez High School  District             93          95  3022020\n",
       "Hernandez High School  District             64          77  3022020\n",
       "Hernandez High School  District             63          88  3022020\n",
       "Hernandez High School  District             71          91  3022020\n",
       "Hernandez High School  District             64          81  3022020\n",
       "\n",
       "[3094 rows x 4 columns]"
      ]
     },
     "execution_count": 70,
     "metadata": {},
     "output_type": "execute_result"
    }
   ],
   "source": [
    "Hernandezpm_df = Hernandez_df.loc[(Hernandez_df[\"math_score\"]>=70)]\n",
    "Hernandezpm_df"
   ]
  },
  {
   "cell_type": "code",
   "execution_count": 71,
   "id": "0ad1fe53",
   "metadata": {},
   "outputs": [
    {
     "data": {
      "text/plain": [
       "66.7529665587918"
      ]
     },
     "execution_count": 71,
     "metadata": {},
     "output_type": "execute_result"
    }
   ],
   "source": [
    "Hernandez_pm = (3094/4635)*100\n",
    "Hernandez_pm"
   ]
  },
  {
   "cell_type": "code",
   "execution_count": 72,
   "id": "9842e6c8",
   "metadata": {},
   "outputs": [
    {
     "data": {
      "text/html": [
       "<div>\n",
       "<style scoped>\n",
       "    .dataframe tbody tr th:only-of-type {\n",
       "        vertical-align: middle;\n",
       "    }\n",
       "\n",
       "    .dataframe tbody tr th {\n",
       "        vertical-align: top;\n",
       "    }\n",
       "\n",
       "    .dataframe thead th {\n",
       "        text-align: right;\n",
       "    }\n",
       "</style>\n",
       "<table border=\"1\" class=\"dataframe\">\n",
       "  <thead>\n",
       "    <tr style=\"text-align: right;\">\n",
       "      <th></th>\n",
       "      <th>type</th>\n",
       "      <th>reading_score</th>\n",
       "      <th>math_score</th>\n",
       "      <th>budget</th>\n",
       "    </tr>\n",
       "    <tr>\n",
       "      <th>school_name</th>\n",
       "      <th></th>\n",
       "      <th></th>\n",
       "      <th></th>\n",
       "      <th></th>\n",
       "    </tr>\n",
       "  </thead>\n",
       "  <tbody>\n",
       "    <tr>\n",
       "      <th>Hernandez High School</th>\n",
       "      <td>District</td>\n",
       "      <td>70</td>\n",
       "      <td>88</td>\n",
       "      <td>3022020</td>\n",
       "    </tr>\n",
       "    <tr>\n",
       "      <th>Hernandez High School</th>\n",
       "      <td>District</td>\n",
       "      <td>97</td>\n",
       "      <td>93</td>\n",
       "      <td>3022020</td>\n",
       "    </tr>\n",
       "    <tr>\n",
       "      <th>Hernandez High School</th>\n",
       "      <td>District</td>\n",
       "      <td>83</td>\n",
       "      <td>81</td>\n",
       "      <td>3022020</td>\n",
       "    </tr>\n",
       "    <tr>\n",
       "      <th>Hernandez High School</th>\n",
       "      <td>District</td>\n",
       "      <td>77</td>\n",
       "      <td>91</td>\n",
       "      <td>3022020</td>\n",
       "    </tr>\n",
       "    <tr>\n",
       "      <th>Hernandez High School</th>\n",
       "      <td>District</td>\n",
       "      <td>84</td>\n",
       "      <td>93</td>\n",
       "      <td>3022020</td>\n",
       "    </tr>\n",
       "    <tr>\n",
       "      <th>...</th>\n",
       "      <td>...</td>\n",
       "      <td>...</td>\n",
       "      <td>...</td>\n",
       "      <td>...</td>\n",
       "    </tr>\n",
       "    <tr>\n",
       "      <th>Hernandez High School</th>\n",
       "      <td>District</td>\n",
       "      <td>81</td>\n",
       "      <td>66</td>\n",
       "      <td>3022020</td>\n",
       "    </tr>\n",
       "    <tr>\n",
       "      <th>Hernandez High School</th>\n",
       "      <td>District</td>\n",
       "      <td>96</td>\n",
       "      <td>64</td>\n",
       "      <td>3022020</td>\n",
       "    </tr>\n",
       "    <tr>\n",
       "      <th>Hernandez High School</th>\n",
       "      <td>District</td>\n",
       "      <td>96</td>\n",
       "      <td>63</td>\n",
       "      <td>3022020</td>\n",
       "    </tr>\n",
       "    <tr>\n",
       "      <th>Hernandez High School</th>\n",
       "      <td>District</td>\n",
       "      <td>71</td>\n",
       "      <td>91</td>\n",
       "      <td>3022020</td>\n",
       "    </tr>\n",
       "    <tr>\n",
       "      <th>Hernandez High School</th>\n",
       "      <td>District</td>\n",
       "      <td>74</td>\n",
       "      <td>68</td>\n",
       "      <td>3022020</td>\n",
       "    </tr>\n",
       "  </tbody>\n",
       "</table>\n",
       "<p>3748 rows × 4 columns</p>\n",
       "</div>"
      ],
      "text/plain": [
       "                           type  reading_score  math_score   budget\n",
       "school_name                                                        \n",
       "Hernandez High School  District             70          88  3022020\n",
       "Hernandez High School  District             97          93  3022020\n",
       "Hernandez High School  District             83          81  3022020\n",
       "Hernandez High School  District             77          91  3022020\n",
       "Hernandez High School  District             84          93  3022020\n",
       "...                         ...            ...         ...      ...\n",
       "Hernandez High School  District             81          66  3022020\n",
       "Hernandez High School  District             96          64  3022020\n",
       "Hernandez High School  District             96          63  3022020\n",
       "Hernandez High School  District             71          91  3022020\n",
       "Hernandez High School  District             74          68  3022020\n",
       "\n",
       "[3748 rows x 4 columns]"
      ]
     },
     "execution_count": 72,
     "metadata": {},
     "output_type": "execute_result"
    }
   ],
   "source": [
    "Hernandezpr_df = Hernandez_df.loc[(Hernandez_df[\"reading_score\"]>=70)]\n",
    "Hernandezpr_df"
   ]
  },
  {
   "cell_type": "code",
   "execution_count": 74,
   "id": "6df80cbe",
   "metadata": {},
   "outputs": [
    {
     "data": {
      "text/plain": [
       "80.86299892125135"
      ]
     },
     "execution_count": 74,
     "metadata": {},
     "output_type": "execute_result"
    }
   ],
   "source": [
    "Hernandez_pr = (3748/4635)*100\n",
    "Hernandez_pr"
   ]
  },
  {
   "cell_type": "code",
   "execution_count": 76,
   "id": "2af57bec",
   "metadata": {},
   "outputs": [
    {
     "data": {
      "text/html": [
       "<div>\n",
       "<style scoped>\n",
       "    .dataframe tbody tr th:only-of-type {\n",
       "        vertical-align: middle;\n",
       "    }\n",
       "\n",
       "    .dataframe tbody tr th {\n",
       "        vertical-align: top;\n",
       "    }\n",
       "\n",
       "    .dataframe thead th {\n",
       "        text-align: right;\n",
       "    }\n",
       "</style>\n",
       "<table border=\"1\" class=\"dataframe\">\n",
       "  <thead>\n",
       "    <tr style=\"text-align: right;\">\n",
       "      <th></th>\n",
       "      <th>type</th>\n",
       "      <th>reading_score</th>\n",
       "      <th>math_score</th>\n",
       "      <th>budget</th>\n",
       "    </tr>\n",
       "    <tr>\n",
       "      <th>school_name</th>\n",
       "      <th></th>\n",
       "      <th></th>\n",
       "      <th></th>\n",
       "      <th></th>\n",
       "    </tr>\n",
       "  </thead>\n",
       "  <tbody>\n",
       "    <tr>\n",
       "      <th>Hernandez High School</th>\n",
       "      <td>District</td>\n",
       "      <td>70</td>\n",
       "      <td>88</td>\n",
       "      <td>3022020</td>\n",
       "    </tr>\n",
       "    <tr>\n",
       "      <th>Hernandez High School</th>\n",
       "      <td>District</td>\n",
       "      <td>97</td>\n",
       "      <td>93</td>\n",
       "      <td>3022020</td>\n",
       "    </tr>\n",
       "    <tr>\n",
       "      <th>Hernandez High School</th>\n",
       "      <td>District</td>\n",
       "      <td>83</td>\n",
       "      <td>81</td>\n",
       "      <td>3022020</td>\n",
       "    </tr>\n",
       "    <tr>\n",
       "      <th>Hernandez High School</th>\n",
       "      <td>District</td>\n",
       "      <td>77</td>\n",
       "      <td>91</td>\n",
       "      <td>3022020</td>\n",
       "    </tr>\n",
       "    <tr>\n",
       "      <th>Hernandez High School</th>\n",
       "      <td>District</td>\n",
       "      <td>84</td>\n",
       "      <td>93</td>\n",
       "      <td>3022020</td>\n",
       "    </tr>\n",
       "    <tr>\n",
       "      <th>...</th>\n",
       "      <td>...</td>\n",
       "      <td>...</td>\n",
       "      <td>...</td>\n",
       "      <td>...</td>\n",
       "    </tr>\n",
       "    <tr>\n",
       "      <th>Hernandez High School</th>\n",
       "      <td>District</td>\n",
       "      <td>74</td>\n",
       "      <td>78</td>\n",
       "      <td>3022020</td>\n",
       "    </tr>\n",
       "    <tr>\n",
       "      <th>Hernandez High School</th>\n",
       "      <td>District</td>\n",
       "      <td>73</td>\n",
       "      <td>73</td>\n",
       "      <td>3022020</td>\n",
       "    </tr>\n",
       "    <tr>\n",
       "      <th>Hernandez High School</th>\n",
       "      <td>District</td>\n",
       "      <td>93</td>\n",
       "      <td>87</td>\n",
       "      <td>3022020</td>\n",
       "    </tr>\n",
       "    <tr>\n",
       "      <th>Hernandez High School</th>\n",
       "      <td>District</td>\n",
       "      <td>93</td>\n",
       "      <td>95</td>\n",
       "      <td>3022020</td>\n",
       "    </tr>\n",
       "    <tr>\n",
       "      <th>Hernandez High School</th>\n",
       "      <td>District</td>\n",
       "      <td>71</td>\n",
       "      <td>91</td>\n",
       "      <td>3022020</td>\n",
       "    </tr>\n",
       "  </tbody>\n",
       "</table>\n",
       "<p>2481 rows × 4 columns</p>\n",
       "</div>"
      ],
      "text/plain": [
       "                           type  reading_score  math_score   budget\n",
       "school_name                                                        \n",
       "Hernandez High School  District             70          88  3022020\n",
       "Hernandez High School  District             97          93  3022020\n",
       "Hernandez High School  District             83          81  3022020\n",
       "Hernandez High School  District             77          91  3022020\n",
       "Hernandez High School  District             84          93  3022020\n",
       "...                         ...            ...         ...      ...\n",
       "Hernandez High School  District             74          78  3022020\n",
       "Hernandez High School  District             73          73  3022020\n",
       "Hernandez High School  District             93          87  3022020\n",
       "Hernandez High School  District             93          95  3022020\n",
       "Hernandez High School  District             71          91  3022020\n",
       "\n",
       "[2481 rows x 4 columns]"
      ]
     },
     "execution_count": 76,
     "metadata": {},
     "output_type": "execute_result"
    }
   ],
   "source": [
    "pass_combined_mrh_df  = Hernandez_df.loc[(Hernandez_df[\"reading_score\"]>=70) & (Hernandez_df[\"math_score\"]>=70)]\n",
    "pass_combined_mrh_df"
   ]
  },
  {
   "cell_type": "code",
   "execution_count": 77,
   "id": "1b8b9cca",
   "metadata": {},
   "outputs": [
    {
     "data": {
      "text/plain": [
       "53.52750809061489"
      ]
     },
     "execution_count": 77,
     "metadata": {},
     "output_type": "execute_result"
    }
   ],
   "source": [
    "Hernandez_prm = (2481/4635)*100\n",
    "Hernandez_prm"
   ]
  },
  {
   "cell_type": "code",
   "execution_count": null,
   "id": "0dbd8663",
   "metadata": {},
   "outputs": [],
   "source": []
  },
  {
   "cell_type": "markdown",
   "id": "3ece9b6b",
   "metadata": {},
   "source": [
    "Summary Metrics for Griffin High School"
   ]
  },
  {
   "cell_type": "code",
   "execution_count": 80,
   "id": "be3eab17",
   "metadata": {
    "scrolled": true
   },
   "outputs": [
    {
     "data": {
      "text/plain": [
       "reading_score    83.816757\n",
       "math_score       83.351499\n",
       "dtype: float64"
      ]
     },
     "execution_count": 80,
     "metadata": {},
     "output_type": "execute_result"
    }
   ],
   "source": [
    "Griffin_df = df.loc[\"Griffin High School\"]\n",
    "average =  Griffin_df[[\"reading_score\", \"math_score\"]].mean()\n",
    "average "
   ]
  },
  {
   "cell_type": "code",
   "execution_count": 81,
   "id": "ba42af05",
   "metadata": {},
   "outputs": [
    {
     "data": {
      "text/html": [
       "<div>\n",
       "<style scoped>\n",
       "    .dataframe tbody tr th:only-of-type {\n",
       "        vertical-align: middle;\n",
       "    }\n",
       "\n",
       "    .dataframe tbody tr th {\n",
       "        vertical-align: top;\n",
       "    }\n",
       "\n",
       "    .dataframe thead th {\n",
       "        text-align: right;\n",
       "    }\n",
       "</style>\n",
       "<table border=\"1\" class=\"dataframe\">\n",
       "  <thead>\n",
       "    <tr style=\"text-align: right;\">\n",
       "      <th></th>\n",
       "      <th>type</th>\n",
       "      <th>reading_score</th>\n",
       "      <th>math_score</th>\n",
       "      <th>budget</th>\n",
       "    </tr>\n",
       "    <tr>\n",
       "      <th>school_name</th>\n",
       "      <th></th>\n",
       "      <th></th>\n",
       "      <th></th>\n",
       "      <th></th>\n",
       "    </tr>\n",
       "  </thead>\n",
       "  <tbody>\n",
       "    <tr>\n",
       "      <th>Griffin High School</th>\n",
       "      <td>Charter</td>\n",
       "      <td>79</td>\n",
       "      <td>68</td>\n",
       "      <td>917500</td>\n",
       "    </tr>\n",
       "    <tr>\n",
       "      <th>Griffin High School</th>\n",
       "      <td>Charter</td>\n",
       "      <td>91</td>\n",
       "      <td>81</td>\n",
       "      <td>917500</td>\n",
       "    </tr>\n",
       "    <tr>\n",
       "      <th>Griffin High School</th>\n",
       "      <td>Charter</td>\n",
       "      <td>78</td>\n",
       "      <td>89</td>\n",
       "      <td>917500</td>\n",
       "    </tr>\n",
       "    <tr>\n",
       "      <th>Griffin High School</th>\n",
       "      <td>Charter</td>\n",
       "      <td>91</td>\n",
       "      <td>85</td>\n",
       "      <td>917500</td>\n",
       "    </tr>\n",
       "    <tr>\n",
       "      <th>Griffin High School</th>\n",
       "      <td>Charter</td>\n",
       "      <td>76</td>\n",
       "      <td>83</td>\n",
       "      <td>917500</td>\n",
       "    </tr>\n",
       "    <tr>\n",
       "      <th>...</th>\n",
       "      <td>...</td>\n",
       "      <td>...</td>\n",
       "      <td>...</td>\n",
       "      <td>...</td>\n",
       "    </tr>\n",
       "    <tr>\n",
       "      <th>Griffin High School</th>\n",
       "      <td>Charter</td>\n",
       "      <td>90</td>\n",
       "      <td>94</td>\n",
       "      <td>917500</td>\n",
       "    </tr>\n",
       "    <tr>\n",
       "      <th>Griffin High School</th>\n",
       "      <td>Charter</td>\n",
       "      <td>99</td>\n",
       "      <td>75</td>\n",
       "      <td>917500</td>\n",
       "    </tr>\n",
       "    <tr>\n",
       "      <th>Griffin High School</th>\n",
       "      <td>Charter</td>\n",
       "      <td>80</td>\n",
       "      <td>91</td>\n",
       "      <td>917500</td>\n",
       "    </tr>\n",
       "    <tr>\n",
       "      <th>Griffin High School</th>\n",
       "      <td>Charter</td>\n",
       "      <td>91</td>\n",
       "      <td>96</td>\n",
       "      <td>917500</td>\n",
       "    </tr>\n",
       "    <tr>\n",
       "      <th>Griffin High School</th>\n",
       "      <td>Charter</td>\n",
       "      <td>91</td>\n",
       "      <td>99</td>\n",
       "      <td>917500</td>\n",
       "    </tr>\n",
       "  </tbody>\n",
       "</table>\n",
       "<p>1468 rows × 4 columns</p>\n",
       "</div>"
      ],
      "text/plain": [
       "                        type  reading_score  math_score  budget\n",
       "school_name                                                    \n",
       "Griffin High School  Charter             79          68  917500\n",
       "Griffin High School  Charter             91          81  917500\n",
       "Griffin High School  Charter             78          89  917500\n",
       "Griffin High School  Charter             91          85  917500\n",
       "Griffin High School  Charter             76          83  917500\n",
       "...                      ...            ...         ...     ...\n",
       "Griffin High School  Charter             90          94  917500\n",
       "Griffin High School  Charter             99          75  917500\n",
       "Griffin High School  Charter             80          91  917500\n",
       "Griffin High School  Charter             91          96  917500\n",
       "Griffin High School  Charter             91          99  917500\n",
       "\n",
       "[1468 rows x 4 columns]"
      ]
     },
     "execution_count": 81,
     "metadata": {},
     "output_type": "execute_result"
    }
   ],
   "source": [
    "Griffin_df = df.loc[\"Griffin High School\"]\n",
    "Griffin_df"
   ]
  },
  {
   "cell_type": "code",
   "execution_count": 84,
   "id": "968bddda",
   "metadata": {},
   "outputs": [
    {
     "data": {
      "text/plain": [
       "budget    917500.0\n",
       "dtype: float64"
      ]
     },
     "execution_count": 84,
     "metadata": {},
     "output_type": "execute_result"
    }
   ],
   "source": [
    "Griffin_df = df.loc[\"Griffin High School\"]\n",
    "b = Griffin_df[[\"budget\"]].mean()\n",
    "b"
   ]
  },
  {
   "cell_type": "code",
   "execution_count": 85,
   "id": "1b3f60cc",
   "metadata": {},
   "outputs": [
    {
     "data": {
      "text/plain": [
       "budget    1301.52248\n",
       "dtype: float64"
      ]
     },
     "execution_count": 85,
     "metadata": {},
     "output_type": "execute_result"
    }
   ],
   "source": [
    "huang_df = df.loc[\"Huang High School\"]\n",
    "b = huang_df[[\"budget\"]].mean()/1468\n",
    "b"
   ]
  },
  {
   "cell_type": "code",
   "execution_count": 86,
   "id": "a09e1b62",
   "metadata": {},
   "outputs": [
    {
     "data": {
      "text/html": [
       "<div>\n",
       "<style scoped>\n",
       "    .dataframe tbody tr th:only-of-type {\n",
       "        vertical-align: middle;\n",
       "    }\n",
       "\n",
       "    .dataframe tbody tr th {\n",
       "        vertical-align: top;\n",
       "    }\n",
       "\n",
       "    .dataframe thead th {\n",
       "        text-align: right;\n",
       "    }\n",
       "</style>\n",
       "<table border=\"1\" class=\"dataframe\">\n",
       "  <thead>\n",
       "    <tr style=\"text-align: right;\">\n",
       "      <th></th>\n",
       "      <th>type</th>\n",
       "      <th>reading_score</th>\n",
       "      <th>math_score</th>\n",
       "      <th>budget</th>\n",
       "    </tr>\n",
       "    <tr>\n",
       "      <th>school_name</th>\n",
       "      <th></th>\n",
       "      <th></th>\n",
       "      <th></th>\n",
       "      <th></th>\n",
       "    </tr>\n",
       "  </thead>\n",
       "  <tbody>\n",
       "    <tr>\n",
       "      <th>Griffin High School</th>\n",
       "      <td>Charter</td>\n",
       "      <td>91</td>\n",
       "      <td>81</td>\n",
       "      <td>917500</td>\n",
       "    </tr>\n",
       "    <tr>\n",
       "      <th>Griffin High School</th>\n",
       "      <td>Charter</td>\n",
       "      <td>78</td>\n",
       "      <td>89</td>\n",
       "      <td>917500</td>\n",
       "    </tr>\n",
       "    <tr>\n",
       "      <th>Griffin High School</th>\n",
       "      <td>Charter</td>\n",
       "      <td>91</td>\n",
       "      <td>85</td>\n",
       "      <td>917500</td>\n",
       "    </tr>\n",
       "    <tr>\n",
       "      <th>Griffin High School</th>\n",
       "      <td>Charter</td>\n",
       "      <td>76</td>\n",
       "      <td>83</td>\n",
       "      <td>917500</td>\n",
       "    </tr>\n",
       "    <tr>\n",
       "      <th>Griffin High School</th>\n",
       "      <td>Charter</td>\n",
       "      <td>76</td>\n",
       "      <td>71</td>\n",
       "      <td>917500</td>\n",
       "    </tr>\n",
       "    <tr>\n",
       "      <th>...</th>\n",
       "      <td>...</td>\n",
       "      <td>...</td>\n",
       "      <td>...</td>\n",
       "      <td>...</td>\n",
       "    </tr>\n",
       "    <tr>\n",
       "      <th>Griffin High School</th>\n",
       "      <td>Charter</td>\n",
       "      <td>90</td>\n",
       "      <td>94</td>\n",
       "      <td>917500</td>\n",
       "    </tr>\n",
       "    <tr>\n",
       "      <th>Griffin High School</th>\n",
       "      <td>Charter</td>\n",
       "      <td>99</td>\n",
       "      <td>75</td>\n",
       "      <td>917500</td>\n",
       "    </tr>\n",
       "    <tr>\n",
       "      <th>Griffin High School</th>\n",
       "      <td>Charter</td>\n",
       "      <td>80</td>\n",
       "      <td>91</td>\n",
       "      <td>917500</td>\n",
       "    </tr>\n",
       "    <tr>\n",
       "      <th>Griffin High School</th>\n",
       "      <td>Charter</td>\n",
       "      <td>91</td>\n",
       "      <td>96</td>\n",
       "      <td>917500</td>\n",
       "    </tr>\n",
       "    <tr>\n",
       "      <th>Griffin High School</th>\n",
       "      <td>Charter</td>\n",
       "      <td>91</td>\n",
       "      <td>99</td>\n",
       "      <td>917500</td>\n",
       "    </tr>\n",
       "  </tbody>\n",
       "</table>\n",
       "<p>1371 rows × 4 columns</p>\n",
       "</div>"
      ],
      "text/plain": [
       "                        type  reading_score  math_score  budget\n",
       "school_name                                                    \n",
       "Griffin High School  Charter             91          81  917500\n",
       "Griffin High School  Charter             78          89  917500\n",
       "Griffin High School  Charter             91          85  917500\n",
       "Griffin High School  Charter             76          83  917500\n",
       "Griffin High School  Charter             76          71  917500\n",
       "...                      ...            ...         ...     ...\n",
       "Griffin High School  Charter             90          94  917500\n",
       "Griffin High School  Charter             99          75  917500\n",
       "Griffin High School  Charter             80          91  917500\n",
       "Griffin High School  Charter             91          96  917500\n",
       "Griffin High School  Charter             91          99  917500\n",
       "\n",
       "[1371 rows x 4 columns]"
      ]
     },
     "execution_count": 86,
     "metadata": {},
     "output_type": "execute_result"
    }
   ],
   "source": [
    "Griffinpm_df = Griffin_df.loc[(Griffin_df[\"math_score\"]>=70)]\n",
    "Griffinpm_df"
   ]
  },
  {
   "cell_type": "code",
   "execution_count": 87,
   "id": "abd4bbb9",
   "metadata": {},
   "outputs": [
    {
     "data": {
      "text/plain": [
       "93.39237057220708"
      ]
     },
     "execution_count": 87,
     "metadata": {},
     "output_type": "execute_result"
    }
   ],
   "source": [
    "huang_pm = (1371/1468)*100\n",
    "huang_pm"
   ]
  },
  {
   "cell_type": "code",
   "execution_count": 88,
   "id": "e13bea4e",
   "metadata": {},
   "outputs": [
    {
     "data": {
      "text/html": [
       "<div>\n",
       "<style scoped>\n",
       "    .dataframe tbody tr th:only-of-type {\n",
       "        vertical-align: middle;\n",
       "    }\n",
       "\n",
       "    .dataframe tbody tr th {\n",
       "        vertical-align: top;\n",
       "    }\n",
       "\n",
       "    .dataframe thead th {\n",
       "        text-align: right;\n",
       "    }\n",
       "</style>\n",
       "<table border=\"1\" class=\"dataframe\">\n",
       "  <thead>\n",
       "    <tr style=\"text-align: right;\">\n",
       "      <th></th>\n",
       "      <th>type</th>\n",
       "      <th>reading_score</th>\n",
       "      <th>math_score</th>\n",
       "      <th>budget</th>\n",
       "    </tr>\n",
       "    <tr>\n",
       "      <th>school_name</th>\n",
       "      <th></th>\n",
       "      <th></th>\n",
       "      <th></th>\n",
       "      <th></th>\n",
       "    </tr>\n",
       "  </thead>\n",
       "  <tbody>\n",
       "    <tr>\n",
       "      <th>Griffin High School</th>\n",
       "      <td>Charter</td>\n",
       "      <td>79</td>\n",
       "      <td>68</td>\n",
       "      <td>917500</td>\n",
       "    </tr>\n",
       "    <tr>\n",
       "      <th>Griffin High School</th>\n",
       "      <td>Charter</td>\n",
       "      <td>91</td>\n",
       "      <td>81</td>\n",
       "      <td>917500</td>\n",
       "    </tr>\n",
       "    <tr>\n",
       "      <th>Griffin High School</th>\n",
       "      <td>Charter</td>\n",
       "      <td>78</td>\n",
       "      <td>89</td>\n",
       "      <td>917500</td>\n",
       "    </tr>\n",
       "    <tr>\n",
       "      <th>Griffin High School</th>\n",
       "      <td>Charter</td>\n",
       "      <td>91</td>\n",
       "      <td>85</td>\n",
       "      <td>917500</td>\n",
       "    </tr>\n",
       "    <tr>\n",
       "      <th>Griffin High School</th>\n",
       "      <td>Charter</td>\n",
       "      <td>76</td>\n",
       "      <td>83</td>\n",
       "      <td>917500</td>\n",
       "    </tr>\n",
       "    <tr>\n",
       "      <th>...</th>\n",
       "      <td>...</td>\n",
       "      <td>...</td>\n",
       "      <td>...</td>\n",
       "      <td>...</td>\n",
       "    </tr>\n",
       "    <tr>\n",
       "      <th>Griffin High School</th>\n",
       "      <td>Charter</td>\n",
       "      <td>90</td>\n",
       "      <td>94</td>\n",
       "      <td>917500</td>\n",
       "    </tr>\n",
       "    <tr>\n",
       "      <th>Griffin High School</th>\n",
       "      <td>Charter</td>\n",
       "      <td>99</td>\n",
       "      <td>75</td>\n",
       "      <td>917500</td>\n",
       "    </tr>\n",
       "    <tr>\n",
       "      <th>Griffin High School</th>\n",
       "      <td>Charter</td>\n",
       "      <td>80</td>\n",
       "      <td>91</td>\n",
       "      <td>917500</td>\n",
       "    </tr>\n",
       "    <tr>\n",
       "      <th>Griffin High School</th>\n",
       "      <td>Charter</td>\n",
       "      <td>91</td>\n",
       "      <td>96</td>\n",
       "      <td>917500</td>\n",
       "    </tr>\n",
       "    <tr>\n",
       "      <th>Griffin High School</th>\n",
       "      <td>Charter</td>\n",
       "      <td>91</td>\n",
       "      <td>99</td>\n",
       "      <td>917500</td>\n",
       "    </tr>\n",
       "  </tbody>\n",
       "</table>\n",
       "<p>1426 rows × 4 columns</p>\n",
       "</div>"
      ],
      "text/plain": [
       "                        type  reading_score  math_score  budget\n",
       "school_name                                                    \n",
       "Griffin High School  Charter             79          68  917500\n",
       "Griffin High School  Charter             91          81  917500\n",
       "Griffin High School  Charter             78          89  917500\n",
       "Griffin High School  Charter             91          85  917500\n",
       "Griffin High School  Charter             76          83  917500\n",
       "...                      ...            ...         ...     ...\n",
       "Griffin High School  Charter             90          94  917500\n",
       "Griffin High School  Charter             99          75  917500\n",
       "Griffin High School  Charter             80          91  917500\n",
       "Griffin High School  Charter             91          96  917500\n",
       "Griffin High School  Charter             91          99  917500\n",
       "\n",
       "[1426 rows x 4 columns]"
      ]
     },
     "execution_count": 88,
     "metadata": {},
     "output_type": "execute_result"
    }
   ],
   "source": [
    "Griffinpr_df = Griffin_df.loc[(Griffin_df[\"reading_score\"]>=70)]\n",
    "Griffinpr_df"
   ]
  },
  {
   "cell_type": "code",
   "execution_count": 89,
   "id": "4142b7e3",
   "metadata": {},
   "outputs": [
    {
     "data": {
      "text/plain": [
       "97.13896457765668"
      ]
     },
     "execution_count": 89,
     "metadata": {},
     "output_type": "execute_result"
    }
   ],
   "source": [
    "Griffin_pr = (1426/1468)*100\n",
    "Griffin_pr"
   ]
  },
  {
   "cell_type": "code",
   "execution_count": 90,
   "id": "5ecf7eed",
   "metadata": {},
   "outputs": [
    {
     "data": {
      "text/html": [
       "<div>\n",
       "<style scoped>\n",
       "    .dataframe tbody tr th:only-of-type {\n",
       "        vertical-align: middle;\n",
       "    }\n",
       "\n",
       "    .dataframe tbody tr th {\n",
       "        vertical-align: top;\n",
       "    }\n",
       "\n",
       "    .dataframe thead th {\n",
       "        text-align: right;\n",
       "    }\n",
       "</style>\n",
       "<table border=\"1\" class=\"dataframe\">\n",
       "  <thead>\n",
       "    <tr style=\"text-align: right;\">\n",
       "      <th></th>\n",
       "      <th>type</th>\n",
       "      <th>reading_score</th>\n",
       "      <th>math_score</th>\n",
       "      <th>budget</th>\n",
       "    </tr>\n",
       "    <tr>\n",
       "      <th>school_name</th>\n",
       "      <th></th>\n",
       "      <th></th>\n",
       "      <th></th>\n",
       "      <th></th>\n",
       "    </tr>\n",
       "  </thead>\n",
       "  <tbody>\n",
       "    <tr>\n",
       "      <th>Griffin High School</th>\n",
       "      <td>Charter</td>\n",
       "      <td>91</td>\n",
       "      <td>81</td>\n",
       "      <td>917500</td>\n",
       "    </tr>\n",
       "    <tr>\n",
       "      <th>Griffin High School</th>\n",
       "      <td>Charter</td>\n",
       "      <td>78</td>\n",
       "      <td>89</td>\n",
       "      <td>917500</td>\n",
       "    </tr>\n",
       "    <tr>\n",
       "      <th>Griffin High School</th>\n",
       "      <td>Charter</td>\n",
       "      <td>91</td>\n",
       "      <td>85</td>\n",
       "      <td>917500</td>\n",
       "    </tr>\n",
       "    <tr>\n",
       "      <th>Griffin High School</th>\n",
       "      <td>Charter</td>\n",
       "      <td>76</td>\n",
       "      <td>83</td>\n",
       "      <td>917500</td>\n",
       "    </tr>\n",
       "    <tr>\n",
       "      <th>Griffin High School</th>\n",
       "      <td>Charter</td>\n",
       "      <td>76</td>\n",
       "      <td>71</td>\n",
       "      <td>917500</td>\n",
       "    </tr>\n",
       "    <tr>\n",
       "      <th>...</th>\n",
       "      <td>...</td>\n",
       "      <td>...</td>\n",
       "      <td>...</td>\n",
       "      <td>...</td>\n",
       "    </tr>\n",
       "    <tr>\n",
       "      <th>Griffin High School</th>\n",
       "      <td>Charter</td>\n",
       "      <td>90</td>\n",
       "      <td>94</td>\n",
       "      <td>917500</td>\n",
       "    </tr>\n",
       "    <tr>\n",
       "      <th>Griffin High School</th>\n",
       "      <td>Charter</td>\n",
       "      <td>99</td>\n",
       "      <td>75</td>\n",
       "      <td>917500</td>\n",
       "    </tr>\n",
       "    <tr>\n",
       "      <th>Griffin High School</th>\n",
       "      <td>Charter</td>\n",
       "      <td>80</td>\n",
       "      <td>91</td>\n",
       "      <td>917500</td>\n",
       "    </tr>\n",
       "    <tr>\n",
       "      <th>Griffin High School</th>\n",
       "      <td>Charter</td>\n",
       "      <td>91</td>\n",
       "      <td>96</td>\n",
       "      <td>917500</td>\n",
       "    </tr>\n",
       "    <tr>\n",
       "      <th>Griffin High School</th>\n",
       "      <td>Charter</td>\n",
       "      <td>91</td>\n",
       "      <td>99</td>\n",
       "      <td>917500</td>\n",
       "    </tr>\n",
       "  </tbody>\n",
       "</table>\n",
       "<p>1330 rows × 4 columns</p>\n",
       "</div>"
      ],
      "text/plain": [
       "                        type  reading_score  math_score  budget\n",
       "school_name                                                    \n",
       "Griffin High School  Charter             91          81  917500\n",
       "Griffin High School  Charter             78          89  917500\n",
       "Griffin High School  Charter             91          85  917500\n",
       "Griffin High School  Charter             76          83  917500\n",
       "Griffin High School  Charter             76          71  917500\n",
       "...                      ...            ...         ...     ...\n",
       "Griffin High School  Charter             90          94  917500\n",
       "Griffin High School  Charter             99          75  917500\n",
       "Griffin High School  Charter             80          91  917500\n",
       "Griffin High School  Charter             91          96  917500\n",
       "Griffin High School  Charter             91          99  917500\n",
       "\n",
       "[1330 rows x 4 columns]"
      ]
     },
     "execution_count": 90,
     "metadata": {},
     "output_type": "execute_result"
    }
   ],
   "source": [
    "pass_combined_mrh_df  = Griffin_df.loc[(Griffin_df[\"reading_score\"]>=70) & (Griffin_df[\"math_score\"]>=70)]\n",
    "pass_combined_mrh_df"
   ]
  },
  {
   "cell_type": "code",
   "execution_count": 91,
   "id": "5170845c",
   "metadata": {},
   "outputs": [
    {
     "data": {
      "text/plain": [
       "90.59945504087193"
      ]
     },
     "execution_count": 91,
     "metadata": {},
     "output_type": "execute_result"
    }
   ],
   "source": [
    "Griffin_prm = (1330/1468)*100\n",
    "Griffin_prm"
   ]
  },
  {
   "cell_type": "code",
   "execution_count": null,
   "id": "90bdaa63",
   "metadata": {},
   "outputs": [],
   "source": []
  },
  {
   "cell_type": "markdown",
   "id": "82334694",
   "metadata": {},
   "source": [
    "Summary Metrics for Shelton High School"
   ]
  },
  {
   "cell_type": "code",
   "execution_count": 286,
   "id": "5689e83d",
   "metadata": {},
   "outputs": [
    {
     "data": {
      "text/plain": [
       "reading_score    83.725724\n",
       "math_score       83.359455\n",
       "dtype: float64"
      ]
     },
     "execution_count": 286,
     "metadata": {},
     "output_type": "execute_result"
    }
   ],
   "source": [
    "shelton_df = df.loc[\"Shelton High School\"]\n",
    "average =  shelton_df[[\"reading_score\", \"math_score\"]].mean()\n",
    "average "
   ]
  },
  {
   "cell_type": "code",
   "execution_count": null,
   "id": "23cbaab0",
   "metadata": {},
   "outputs": [],
   "source": [
    "huang_df = df.loc[\"Huang High School\"]\n",
    "huang_df"
   ]
  },
  {
   "cell_type": "code",
   "execution_count": null,
   "id": "6918c75f",
   "metadata": {},
   "outputs": [],
   "source": [
    "huang_df = df.loc[\"Huang High School\"]\n",
    "b = huang_df[[\"budget\"]].mean()\n",
    "b"
   ]
  },
  {
   "cell_type": "code",
   "execution_count": null,
   "id": "405b7665",
   "metadata": {},
   "outputs": [],
   "source": [
    "huang_df = df.loc[\"Huang High School\"]\n",
    "b = huang_df[[\"budget\"]].mean()/2917\n",
    "b"
   ]
  },
  {
   "cell_type": "code",
   "execution_count": null,
   "id": "ecaf3c85",
   "metadata": {},
   "outputs": [],
   "source": [
    "huangpm_df = huang_df.loc[(huang_df[\"math_score\"]>=70)]\n",
    "huangpm_df"
   ]
  },
  {
   "cell_type": "code",
   "execution_count": null,
   "id": "e771115e",
   "metadata": {},
   "outputs": [],
   "source": [
    "huang_pm = (1916/2917)*100\n",
    "huang_pm"
   ]
  },
  {
   "cell_type": "code",
   "execution_count": null,
   "id": "8c652b1f",
   "metadata": {},
   "outputs": [],
   "source": [
    "huangpr_df = huang_df.loc[(huang_df[\"reading_score\"]>=70)]\n",
    "huangpr_df"
   ]
  },
  {
   "cell_type": "code",
   "execution_count": null,
   "id": "95e89c00",
   "metadata": {},
   "outputs": [],
   "source": [
    "huang_pr = (2372/2917)*100\n",
    "huang_pr"
   ]
  },
  {
   "cell_type": "code",
   "execution_count": null,
   "id": "c1f9544a",
   "metadata": {},
   "outputs": [],
   "source": [
    "pass_combined_mrh_df  = huang_df.loc[(huang_df[\"reading_score\"]>=70) & (huang_df[\"math_score\"]>=70)]\n",
    "pass_combined_mrh_df"
   ]
  },
  {
   "cell_type": "code",
   "execution_count": null,
   "id": "3bed852c",
   "metadata": {},
   "outputs": [],
   "source": [
    "huang_prm = (1561/2917)*100\n",
    "huang_prm"
   ]
  },
  {
   "cell_type": "code",
   "execution_count": null,
   "id": "b828689d",
   "metadata": {},
   "outputs": [],
   "source": []
  },
  {
   "cell_type": "markdown",
   "id": "259f7cfc",
   "metadata": {},
   "source": [
    "Summary Metrics for Wilson High School"
   ]
  },
  {
   "cell_type": "code",
   "execution_count": 288,
   "id": "93e74cf8",
   "metadata": {},
   "outputs": [
    {
     "data": {
      "text/plain": [
       "reading_score    83.989488\n",
       "math_score       83.274201\n",
       "dtype: float64"
      ]
     },
     "execution_count": 288,
     "metadata": {},
     "output_type": "execute_result"
    }
   ],
   "source": [
    "wilson_df = df.loc[[\"Wilson High School\"]]\n",
    "average =  wilson_df[[\"reading_score\", \"math_score\"]].mean()\n",
    "average "
   ]
  },
  {
   "cell_type": "code",
   "execution_count": null,
   "id": "3fb28aaf",
   "metadata": {},
   "outputs": [],
   "source": [
    "huang_df = df.loc[\"Huang High School\"]\n",
    "huang_df"
   ]
  },
  {
   "cell_type": "code",
   "execution_count": null,
   "id": "b70ca012",
   "metadata": {},
   "outputs": [],
   "source": [
    "huang_df = df.loc[\"Huang High School\"]\n",
    "b = huang_df[[\"budget\"]].mean()\n",
    "b"
   ]
  },
  {
   "cell_type": "code",
   "execution_count": null,
   "id": "793f0581",
   "metadata": {},
   "outputs": [],
   "source": [
    "huang_df = df.loc[\"Huang High School\"]\n",
    "b = huang_df[[\"budget\"]].mean()/2917\n",
    "b"
   ]
  },
  {
   "cell_type": "code",
   "execution_count": null,
   "id": "6e5be7f4",
   "metadata": {},
   "outputs": [],
   "source": [
    "huangpm_df = huang_df.loc[(huang_df[\"math_score\"]>=70)]\n",
    "huangpm_df"
   ]
  },
  {
   "cell_type": "code",
   "execution_count": null,
   "id": "2243c395",
   "metadata": {},
   "outputs": [],
   "source": [
    "huang_pm = (1916/2917)*100\n",
    "huang_pm"
   ]
  },
  {
   "cell_type": "code",
   "execution_count": null,
   "id": "87f9c3a6",
   "metadata": {},
   "outputs": [],
   "source": [
    "huangpr_df = huang_df.loc[(huang_df[\"reading_score\"]>=70)]\n",
    "huangpr_df"
   ]
  },
  {
   "cell_type": "code",
   "execution_count": null,
   "id": "3e6a1230",
   "metadata": {},
   "outputs": [],
   "source": [
    "huang_pr = (2372/2917)*100\n",
    "huang_pr"
   ]
  },
  {
   "cell_type": "code",
   "execution_count": null,
   "id": "e81cbd9c",
   "metadata": {},
   "outputs": [],
   "source": [
    "pass_combined_mrh_df  = huang_df.loc[(huang_df[\"reading_score\"]>=70) & (huang_df[\"math_score\"]>=70)]\n",
    "pass_combined_mrh_df"
   ]
  },
  {
   "cell_type": "code",
   "execution_count": null,
   "id": "390888a1",
   "metadata": {},
   "outputs": [],
   "source": [
    "huang_prm = (1561/2917)*100\n",
    "huang_prm"
   ]
  },
  {
   "cell_type": "code",
   "execution_count": null,
   "id": "089ed74c",
   "metadata": {},
   "outputs": [],
   "source": []
  },
  {
   "cell_type": "markdown",
   "id": "037c5e06",
   "metadata": {},
   "source": [
    "Summary Metrics for Cabrera High School"
   ]
  },
  {
   "cell_type": "code",
   "execution_count": 289,
   "id": "650d19c0",
   "metadata": {},
   "outputs": [
    {
     "data": {
      "text/plain": [
       "reading_score    83.975780\n",
       "math_score       83.061895\n",
       "dtype: float64"
      ]
     },
     "execution_count": 289,
     "metadata": {},
     "output_type": "execute_result"
    }
   ],
   "source": [
    "cabrera_df = df.loc[\"Cabrera High School\"]\n",
    "average =  cabrera_df[[\"reading_score\", \"math_score\"]].mean()\n",
    "average "
   ]
  },
  {
   "cell_type": "code",
   "execution_count": null,
   "id": "a52edf94",
   "metadata": {},
   "outputs": [],
   "source": [
    "huang_df = df.loc[\"Huang High School\"]\n",
    "huang_df"
   ]
  },
  {
   "cell_type": "code",
   "execution_count": null,
   "id": "3d7c9132",
   "metadata": {},
   "outputs": [],
   "source": [
    "huang_df = df.loc[\"Huang High School\"]\n",
    "b = huang_df[[\"budget\"]].mean()\n",
    "b"
   ]
  },
  {
   "cell_type": "code",
   "execution_count": null,
   "id": "05489598",
   "metadata": {},
   "outputs": [],
   "source": [
    "huang_df = df.loc[\"Huang High School\"]\n",
    "b = huang_df[[\"budget\"]].mean()/2917\n",
    "b"
   ]
  },
  {
   "cell_type": "code",
   "execution_count": null,
   "id": "a38004b0",
   "metadata": {},
   "outputs": [],
   "source": [
    "huangpm_df = huang_df.loc[(huang_df[\"math_score\"]>=70)]\n",
    "huangpm_df"
   ]
  },
  {
   "cell_type": "code",
   "execution_count": null,
   "id": "c4b27cd1",
   "metadata": {},
   "outputs": [],
   "source": [
    "huang_pm = (1916/2917)*100\n",
    "huang_pm"
   ]
  },
  {
   "cell_type": "code",
   "execution_count": null,
   "id": "fe94c601",
   "metadata": {},
   "outputs": [],
   "source": [
    "huangpr_df = huang_df.loc[(huang_df[\"reading_score\"]>=70)]\n",
    "huangpr_df"
   ]
  },
  {
   "cell_type": "code",
   "execution_count": null,
   "id": "6a568795",
   "metadata": {},
   "outputs": [],
   "source": [
    "huang_pr = (2372/2917)*100\n",
    "huang_pr"
   ]
  },
  {
   "cell_type": "code",
   "execution_count": null,
   "id": "44a55fc7",
   "metadata": {},
   "outputs": [],
   "source": [
    "pass_combined_mrh_df  = huang_df.loc[(huang_df[\"reading_score\"]>=70) & (huang_df[\"math_score\"]>=70)]\n",
    "pass_combined_mrh_df"
   ]
  },
  {
   "cell_type": "code",
   "execution_count": null,
   "id": "5b0f85ac",
   "metadata": {},
   "outputs": [],
   "source": [
    "huang_prm = (1561/2917)*100\n",
    "huang_prm"
   ]
  },
  {
   "cell_type": "code",
   "execution_count": null,
   "id": "fb7fb0d2",
   "metadata": {},
   "outputs": [],
   "source": []
  },
  {
   "cell_type": "markdown",
   "id": "55b19474",
   "metadata": {},
   "source": [
    "Summary Metrics for Bailey High School"
   ]
  },
  {
   "cell_type": "code",
   "execution_count": 290,
   "id": "5b22a514",
   "metadata": {},
   "outputs": [
    {
     "data": {
      "text/plain": [
       "reading_score    81.033963\n",
       "math_score       77.048432\n",
       "dtype: float64"
      ]
     },
     "execution_count": 290,
     "metadata": {},
     "output_type": "execute_result"
    }
   ],
   "source": [
    "bailey_df = df.loc[\"Bailey High School\"]\n",
    "average =  bailey_df[[\"reading_score\", \"math_score\"]].mean()\n",
    "average "
   ]
  },
  {
   "cell_type": "code",
   "execution_count": null,
   "id": "e7124df3",
   "metadata": {},
   "outputs": [],
   "source": [
    "huang_df = df.loc[\"Huang High School\"]\n",
    "huang_df"
   ]
  },
  {
   "cell_type": "code",
   "execution_count": null,
   "id": "240eca85",
   "metadata": {},
   "outputs": [],
   "source": [
    "huang_df = df.loc[\"Huang High School\"]\n",
    "b = huang_df[[\"budget\"]].mean()\n",
    "b"
   ]
  },
  {
   "cell_type": "code",
   "execution_count": null,
   "id": "e1088a01",
   "metadata": {},
   "outputs": [],
   "source": [
    "huang_df = df.loc[\"Huang High School\"]\n",
    "b = huang_df[[\"budget\"]].mean()/2917\n",
    "b"
   ]
  },
  {
   "cell_type": "code",
   "execution_count": null,
   "id": "6865a5f4",
   "metadata": {},
   "outputs": [],
   "source": [
    "huangpm_df = huang_df.loc[(huang_df[\"math_score\"]>=70)]\n",
    "huangpm_df"
   ]
  },
  {
   "cell_type": "code",
   "execution_count": null,
   "id": "0e369061",
   "metadata": {},
   "outputs": [],
   "source": [
    "huang_pm = (1916/2917)*100\n",
    "huang_pm"
   ]
  },
  {
   "cell_type": "code",
   "execution_count": null,
   "id": "87dfec9a",
   "metadata": {},
   "outputs": [],
   "source": [
    "huangpr_df = huang_df.loc[(huang_df[\"reading_score\"]>=70)]\n",
    "huangpr_df"
   ]
  },
  {
   "cell_type": "code",
   "execution_count": null,
   "id": "1347c989",
   "metadata": {},
   "outputs": [],
   "source": [
    "huang_pr = (2372/2917)*100\n",
    "huang_pr"
   ]
  },
  {
   "cell_type": "code",
   "execution_count": null,
   "id": "6955a96d",
   "metadata": {},
   "outputs": [],
   "source": [
    "pass_combined_mrh_df  = huang_df.loc[(huang_df[\"reading_score\"]>=70) & (huang_df[\"math_score\"]>=70)]\n",
    "pass_combined_mrh_df"
   ]
  },
  {
   "cell_type": "code",
   "execution_count": null,
   "id": "dc2b3976",
   "metadata": {},
   "outputs": [],
   "source": [
    "huang_prm = (1561/2917)*100\n",
    "huang_prm"
   ]
  },
  {
   "cell_type": "code",
   "execution_count": null,
   "id": "a87b7842",
   "metadata": {},
   "outputs": [],
   "source": []
  },
  {
   "cell_type": "markdown",
   "id": "9002e1ff",
   "metadata": {},
   "source": [
    "Summary Metrics for Holden High School"
   ]
  },
  {
   "cell_type": "code",
   "execution_count": 291,
   "id": "136fd914",
   "metadata": {},
   "outputs": [
    {
     "data": {
      "text/plain": [
       "reading_score    83.814988\n",
       "math_score       83.803279\n",
       "dtype: float64"
      ]
     },
     "execution_count": 291,
     "metadata": {},
     "output_type": "execute_result"
    }
   ],
   "source": [
    "holden_df = df.loc[\"Holden High School\"]\n",
    "average =  holden_df[[\"reading_score\", \"math_score\"]].mean()\n",
    "average "
   ]
  },
  {
   "cell_type": "code",
   "execution_count": null,
   "id": "3f1fc44d",
   "metadata": {},
   "outputs": [],
   "source": [
    "huang_df = df.loc[\"Huang High School\"]\n",
    "huang_df"
   ]
  },
  {
   "cell_type": "code",
   "execution_count": null,
   "id": "8b09379e",
   "metadata": {},
   "outputs": [],
   "source": [
    "huang_df = df.loc[\"Huang High School\"]\n",
    "b = huang_df[[\"budget\"]].mean()\n",
    "b"
   ]
  },
  {
   "cell_type": "code",
   "execution_count": null,
   "id": "aa124b0d",
   "metadata": {},
   "outputs": [],
   "source": [
    "huang_df = df.loc[\"Huang High School\"]\n",
    "b = huang_df[[\"budget\"]].mean()/2917\n",
    "b"
   ]
  },
  {
   "cell_type": "code",
   "execution_count": null,
   "id": "6f44510d",
   "metadata": {},
   "outputs": [],
   "source": [
    "huangpm_df = huang_df.loc[(huang_df[\"math_score\"]>=70)]\n",
    "huangpm_df"
   ]
  },
  {
   "cell_type": "code",
   "execution_count": null,
   "id": "3f6f793c",
   "metadata": {},
   "outputs": [],
   "source": [
    "huang_pm = (1916/2917)*100\n",
    "huang_pm"
   ]
  },
  {
   "cell_type": "code",
   "execution_count": null,
   "id": "e2a7b34c",
   "metadata": {},
   "outputs": [],
   "source": [
    "huangpr_df = huang_df.loc[(huang_df[\"reading_score\"]>=70)]\n",
    "huangpr_df"
   ]
  },
  {
   "cell_type": "code",
   "execution_count": null,
   "id": "731ddff6",
   "metadata": {},
   "outputs": [],
   "source": [
    "huang_pr = (2372/2917)*100\n",
    "huang_pr"
   ]
  },
  {
   "cell_type": "code",
   "execution_count": null,
   "id": "b483e6ad",
   "metadata": {},
   "outputs": [],
   "source": [
    "pass_combined_mrh_df  = huang_df.loc[(huang_df[\"reading_score\"]>=70) & (huang_df[\"math_score\"]>=70)]\n",
    "pass_combined_mrh_df"
   ]
  },
  {
   "cell_type": "code",
   "execution_count": null,
   "id": "23e17a25",
   "metadata": {},
   "outputs": [],
   "source": [
    "huang_prm = (1561/2917)*100\n",
    "huang_prm"
   ]
  },
  {
   "cell_type": "code",
   "execution_count": null,
   "id": "c351863e",
   "metadata": {},
   "outputs": [],
   "source": []
  },
  {
   "cell_type": "markdown",
   "id": "89e3d62a",
   "metadata": {},
   "source": [
    "Summary Metrics for Pena High School"
   ]
  },
  {
   "cell_type": "code",
   "execution_count": 292,
   "id": "38e84962",
   "metadata": {},
   "outputs": [
    {
     "data": {
      "text/plain": [
       "reading_score    84.044699\n",
       "math_score       83.839917\n",
       "dtype: float64"
      ]
     },
     "execution_count": 292,
     "metadata": {},
     "output_type": "execute_result"
    }
   ],
   "source": [
    "pena_df = df.loc[\"Pena High School\"]\n",
    "average =  pena_df[[\"reading_score\", \"math_score\"]].mean()\n",
    "average "
   ]
  },
  {
   "cell_type": "code",
   "execution_count": null,
   "id": "9b8862c0",
   "metadata": {},
   "outputs": [],
   "source": [
    "huang_df = df.loc[\"Huang High School\"]\n",
    "huang_df"
   ]
  },
  {
   "cell_type": "code",
   "execution_count": null,
   "id": "b0ce5761",
   "metadata": {},
   "outputs": [],
   "source": [
    "huang_df = df.loc[\"Huang High School\"]\n",
    "b = huang_df[[\"budget\"]].mean()\n",
    "b"
   ]
  },
  {
   "cell_type": "code",
   "execution_count": null,
   "id": "c0f5955c",
   "metadata": {},
   "outputs": [],
   "source": [
    "huang_df = df.loc[\"Huang High School\"]\n",
    "b = huang_df[[\"budget\"]].mean()/2917\n",
    "b"
   ]
  },
  {
   "cell_type": "code",
   "execution_count": null,
   "id": "78c83470",
   "metadata": {},
   "outputs": [],
   "source": [
    "huangpm_df = huang_df.loc[(huang_df[\"math_score\"]>=70)]\n",
    "huangpm_df"
   ]
  },
  {
   "cell_type": "code",
   "execution_count": null,
   "id": "1a860a68",
   "metadata": {},
   "outputs": [],
   "source": [
    "huang_pm = (1916/2917)*100\n",
    "huang_pm"
   ]
  },
  {
   "cell_type": "code",
   "execution_count": null,
   "id": "3b76c37c",
   "metadata": {},
   "outputs": [],
   "source": [
    "huangpr_df = huang_df.loc[(huang_df[\"reading_score\"]>=70)]\n",
    "huangpr_df"
   ]
  },
  {
   "cell_type": "code",
   "execution_count": null,
   "id": "6094894c",
   "metadata": {},
   "outputs": [],
   "source": [
    "huang_pr = (2372/2917)*100\n",
    "huang_pr"
   ]
  },
  {
   "cell_type": "code",
   "execution_count": null,
   "id": "5e5cd03c",
   "metadata": {},
   "outputs": [],
   "source": [
    "pass_combined_mrh_df  = huang_df.loc[(huang_df[\"reading_score\"]>=70) & (huang_df[\"math_score\"]>=70)]\n",
    "pass_combined_mrh_df"
   ]
  },
  {
   "cell_type": "code",
   "execution_count": null,
   "id": "18e956d6",
   "metadata": {},
   "outputs": [],
   "source": [
    "huang_prm = (1561/2917)*100\n",
    "huang_prm"
   ]
  },
  {
   "cell_type": "markdown",
   "id": "1ad239e0",
   "metadata": {},
   "source": [
    "Summary Metrics for Wright High School"
   ]
  },
  {
   "cell_type": "code",
   "execution_count": 293,
   "id": "e5d54115",
   "metadata": {},
   "outputs": [
    {
     "data": {
      "text/plain": [
       "reading_score    83.955000\n",
       "math_score       83.682222\n",
       "dtype: float64"
      ]
     },
     "execution_count": 293,
     "metadata": {},
     "output_type": "execute_result"
    }
   ],
   "source": [
    "wright_df = df.loc[\"Wright High School\"]\n",
    "average =  wright_df[[\"reading_score\", \"math_score\"]].mean()\n",
    "average "
   ]
  },
  {
   "cell_type": "code",
   "execution_count": null,
   "id": "a55bf164",
   "metadata": {},
   "outputs": [],
   "source": [
    "huang_df = df.loc[\"Huang High School\"]\n",
    "huang_df"
   ]
  },
  {
   "cell_type": "code",
   "execution_count": null,
   "id": "0b3d73f5",
   "metadata": {},
   "outputs": [],
   "source": [
    "huang_df = df.loc[\"Huang High School\"]\n",
    "b = huang_df[[\"budget\"]].mean()\n",
    "b"
   ]
  },
  {
   "cell_type": "code",
   "execution_count": null,
   "id": "2855593d",
   "metadata": {},
   "outputs": [],
   "source": [
    "huang_df = df.loc[\"Huang High School\"]\n",
    "b = huang_df[[\"budget\"]].mean()/2917\n",
    "b"
   ]
  },
  {
   "cell_type": "code",
   "execution_count": null,
   "id": "11f90777",
   "metadata": {},
   "outputs": [],
   "source": [
    "huangpm_df = huang_df.loc[(huang_df[\"math_score\"]>=70)]\n",
    "huangpm_df"
   ]
  },
  {
   "cell_type": "code",
   "execution_count": null,
   "id": "c3271d4f",
   "metadata": {},
   "outputs": [],
   "source": [
    "huang_pm = (1916/2917)*100\n",
    "huang_pm"
   ]
  },
  {
   "cell_type": "code",
   "execution_count": null,
   "id": "585a9f73",
   "metadata": {},
   "outputs": [],
   "source": [
    "huangpr_df = huang_df.loc[(huang_df[\"reading_score\"]>=70)]\n",
    "huangpr_df"
   ]
  },
  {
   "cell_type": "code",
   "execution_count": null,
   "id": "dd2f9547",
   "metadata": {},
   "outputs": [],
   "source": [
    "huang_pr = (2372/2917)*100\n",
    "huang_pr"
   ]
  },
  {
   "cell_type": "code",
   "execution_count": null,
   "id": "d5180891",
   "metadata": {},
   "outputs": [],
   "source": [
    "pass_combined_mrh_df  = huang_df.loc[(huang_df[\"reading_score\"]>=70) & (huang_df[\"math_score\"]>=70)]\n",
    "pass_combined_mrh_df"
   ]
  },
  {
   "cell_type": "code",
   "execution_count": null,
   "id": "d2f41a2e",
   "metadata": {},
   "outputs": [],
   "source": [
    "huang_prm = (1561/2917)*100\n",
    "huang_prm"
   ]
  },
  {
   "cell_type": "code",
   "execution_count": null,
   "id": "d4bf7c74",
   "metadata": {},
   "outputs": [],
   "source": []
  },
  {
   "cell_type": "markdown",
   "id": "7040ea65",
   "metadata": {},
   "source": [
    "Summary Metrics for Rodriguez High School"
   ]
  },
  {
   "cell_type": "code",
   "execution_count": 294,
   "id": "7069043e",
   "metadata": {},
   "outputs": [
    {
     "data": {
      "text/plain": [
       "reading_score    80.744686\n",
       "math_score       76.842711\n",
       "dtype: float64"
      ]
     },
     "execution_count": 294,
     "metadata": {},
     "output_type": "execute_result"
    }
   ],
   "source": [
    "rodriguez_df = df.loc[\"Rodriguez High School\"]\n",
    "average =  rodriguez_df[[\"reading_score\", \"math_score\"]].mean()\n",
    "average "
   ]
  },
  {
   "cell_type": "code",
   "execution_count": null,
   "id": "8745984a",
   "metadata": {},
   "outputs": [],
   "source": [
    "huang_df = df.loc[\"Huang High School\"]\n",
    "huang_df"
   ]
  },
  {
   "cell_type": "code",
   "execution_count": null,
   "id": "8af06811",
   "metadata": {},
   "outputs": [],
   "source": [
    "huang_df = df.loc[\"Huang High School\"]\n",
    "b = huang_df[[\"budget\"]].mean()\n",
    "b"
   ]
  },
  {
   "cell_type": "code",
   "execution_count": null,
   "id": "7f68395d",
   "metadata": {},
   "outputs": [],
   "source": [
    "huang_df = df.loc[\"Huang High School\"]\n",
    "b = huang_df[[\"budget\"]].mean()/2917\n",
    "b"
   ]
  },
  {
   "cell_type": "code",
   "execution_count": null,
   "id": "00fcf5d4",
   "metadata": {},
   "outputs": [],
   "source": [
    "huangpm_df = huang_df.loc[(huang_df[\"math_score\"]>=70)]\n",
    "huangpm_df"
   ]
  },
  {
   "cell_type": "code",
   "execution_count": null,
   "id": "7efefd0c",
   "metadata": {},
   "outputs": [],
   "source": [
    "huang_pm = (1916/2917)*100\n",
    "huang_pm"
   ]
  },
  {
   "cell_type": "code",
   "execution_count": null,
   "id": "1661e394",
   "metadata": {},
   "outputs": [],
   "source": [
    "huangpr_df = huang_df.loc[(huang_df[\"reading_score\"]>=70)]\n",
    "huangpr_df"
   ]
  },
  {
   "cell_type": "code",
   "execution_count": null,
   "id": "17e5bad0",
   "metadata": {},
   "outputs": [],
   "source": [
    "huang_pr = (2372/2917)*100\n",
    "huang_pr"
   ]
  },
  {
   "cell_type": "code",
   "execution_count": null,
   "id": "810e22de",
   "metadata": {},
   "outputs": [],
   "source": [
    "pass_combined_mrh_df  = huang_df.loc[(huang_df[\"reading_score\"]>=70) & (huang_df[\"math_score\"]>=70)]\n",
    "pass_combined_mrh_df"
   ]
  },
  {
   "cell_type": "code",
   "execution_count": null,
   "id": "c4d03bd2",
   "metadata": {},
   "outputs": [],
   "source": [
    "huang_prm = (1561/2917)*100\n",
    "huang_prm"
   ]
  },
  {
   "cell_type": "code",
   "execution_count": null,
   "id": "4c2e0764",
   "metadata": {},
   "outputs": [],
   "source": []
  },
  {
   "cell_type": "markdown",
   "id": "0d34888b",
   "metadata": {},
   "source": [
    "Summary Metrics for Johnson High School"
   ]
  },
  {
   "cell_type": "code",
   "execution_count": 295,
   "id": "994eae53",
   "metadata": {},
   "outputs": [
    {
     "data": {
      "text/plain": [
       "reading_score    80.966394\n",
       "math_score       77.072464\n",
       "dtype: float64"
      ]
     },
     "execution_count": 295,
     "metadata": {},
     "output_type": "execute_result"
    }
   ],
   "source": [
    "johnson_df = df.loc[\"Johnson High School\"]\n",
    "average =  johnson_df[[\"reading_score\", \"math_score\"]].mean()\n",
    "average "
   ]
  },
  {
   "cell_type": "code",
   "execution_count": null,
   "id": "7f1b0ba8",
   "metadata": {},
   "outputs": [],
   "source": [
    "huang_df = df.loc[\"Huang High School\"]\n",
    "huang_df"
   ]
  },
  {
   "cell_type": "code",
   "execution_count": null,
   "id": "cf1638c0",
   "metadata": {},
   "outputs": [],
   "source": [
    "huang_df = df.loc[\"Huang High School\"]\n",
    "b = huang_df[[\"budget\"]].mean()\n",
    "b"
   ]
  },
  {
   "cell_type": "code",
   "execution_count": null,
   "id": "ebf9c868",
   "metadata": {},
   "outputs": [],
   "source": [
    "huang_df = df.loc[\"Huang High School\"]\n",
    "b = huang_df[[\"budget\"]].mean()/2917\n",
    "b"
   ]
  },
  {
   "cell_type": "code",
   "execution_count": null,
   "id": "c8625b6f",
   "metadata": {},
   "outputs": [],
   "source": [
    "huangpm_df = huang_df.loc[(huang_df[\"math_score\"]>=70)]\n",
    "huangpm_df"
   ]
  },
  {
   "cell_type": "code",
   "execution_count": null,
   "id": "b5a9ff44",
   "metadata": {},
   "outputs": [],
   "source": [
    "huang_pm = (1916/2917)*100\n",
    "huang_pm"
   ]
  },
  {
   "cell_type": "code",
   "execution_count": null,
   "id": "1d79c360",
   "metadata": {},
   "outputs": [],
   "source": [
    "huangpr_df = huang_df.loc[(huang_df[\"reading_score\"]>=70)]\n",
    "huangpr_df"
   ]
  },
  {
   "cell_type": "code",
   "execution_count": null,
   "id": "2ed78c21",
   "metadata": {},
   "outputs": [],
   "source": [
    "huang_pr = (2372/2917)*100\n",
    "huang_pr"
   ]
  },
  {
   "cell_type": "code",
   "execution_count": null,
   "id": "9e53769b",
   "metadata": {},
   "outputs": [],
   "source": [
    "pass_combined_mrh_df  = huang_df.loc[(huang_df[\"reading_score\"]>=70) & (huang_df[\"math_score\"]>=70)]\n",
    "pass_combined_mrh_df"
   ]
  },
  {
   "cell_type": "code",
   "execution_count": null,
   "id": "715fed93",
   "metadata": {},
   "outputs": [],
   "source": [
    "huang_prm = (1561/2917)*100\n",
    "huang_prm"
   ]
  },
  {
   "cell_type": "code",
   "execution_count": null,
   "id": "1e88a151",
   "metadata": {},
   "outputs": [],
   "source": []
  },
  {
   "cell_type": "markdown",
   "id": "3f4f3a45",
   "metadata": {},
   "source": [
    "Summary Metrics for Ford High School"
   ]
  },
  {
   "cell_type": "code",
   "execution_count": 296,
   "id": "4e23b6bb",
   "metadata": {},
   "outputs": [
    {
     "data": {
      "text/plain": [
       "reading_score    80.746258\n",
       "math_score       77.102592\n",
       "dtype: float64"
      ]
     },
     "execution_count": 296,
     "metadata": {},
     "output_type": "execute_result"
    }
   ],
   "source": [
    "ford_df = df.loc[\"Ford High School\"]\n",
    "average =  ford_df[[\"reading_score\", \"math_score\"]].mean()\n",
    "average "
   ]
  },
  {
   "cell_type": "code",
   "execution_count": null,
   "id": "02d9db1e",
   "metadata": {},
   "outputs": [],
   "source": [
    "huang_df = df.loc[\"Huang High School\"]\n",
    "huang_df"
   ]
  },
  {
   "cell_type": "code",
   "execution_count": null,
   "id": "6ceece88",
   "metadata": {},
   "outputs": [],
   "source": [
    "huang_df = df.loc[\"Huang High School\"]\n",
    "b = huang_df[[\"budget\"]].mean()\n",
    "b"
   ]
  },
  {
   "cell_type": "code",
   "execution_count": null,
   "id": "277dcef4",
   "metadata": {},
   "outputs": [],
   "source": [
    "huang_df = df.loc[\"Huang High School\"]\n",
    "b = huang_df[[\"budget\"]].mean()/2917\n",
    "b"
   ]
  },
  {
   "cell_type": "code",
   "execution_count": null,
   "id": "d2456a4d",
   "metadata": {},
   "outputs": [],
   "source": [
    "huangpm_df = huang_df.loc[(huang_df[\"math_score\"]>=70)]\n",
    "huangpm_df"
   ]
  },
  {
   "cell_type": "code",
   "execution_count": null,
   "id": "183f4523",
   "metadata": {},
   "outputs": [],
   "source": [
    "huang_pm = (1916/2917)*100\n",
    "huang_pm"
   ]
  },
  {
   "cell_type": "code",
   "execution_count": null,
   "id": "0b7e7b2d",
   "metadata": {},
   "outputs": [],
   "source": [
    "huangpr_df = huang_df.loc[(huang_df[\"reading_score\"]>=70)]\n",
    "huangpr_df"
   ]
  },
  {
   "cell_type": "code",
   "execution_count": null,
   "id": "f904ff34",
   "metadata": {},
   "outputs": [],
   "source": [
    "huang_pr = (2372/2917)*100\n",
    "huang_pr"
   ]
  },
  {
   "cell_type": "code",
   "execution_count": null,
   "id": "9e4c3edc",
   "metadata": {},
   "outputs": [],
   "source": [
    "pass_combined_mrh_df  = huang_df.loc[(huang_df[\"reading_score\"]>=70) & (huang_df[\"math_score\"]>=70)]\n",
    "pass_combined_mrh_df"
   ]
  },
  {
   "cell_type": "code",
   "execution_count": null,
   "id": "38605c99",
   "metadata": {},
   "outputs": [],
   "source": [
    "huang_prm = (1561/2917)*100\n",
    "huang_prm"
   ]
  },
  {
   "cell_type": "code",
   "execution_count": null,
   "id": "bc8bed82",
   "metadata": {},
   "outputs": [],
   "source": []
  },
  {
   "cell_type": "markdown",
   "id": "842461bb",
   "metadata": {},
   "source": [
    "Summary Metrics for Thomas High School"
   ]
  },
  {
   "cell_type": "code",
   "execution_count": 297,
   "id": "abf2b1d4",
   "metadata": {},
   "outputs": [
    {
     "data": {
      "text/plain": [
       "reading_score    83.848930\n",
       "math_score       83.418349\n",
       "dtype: float64"
      ]
     },
     "execution_count": 297,
     "metadata": {},
     "output_type": "execute_result"
    }
   ],
   "source": [
    "thomas_df = df.loc[\"Thomas High School\"]\n",
    "average =  thomas_df[[\"reading_score\", \"math_score\"]].mean()\n",
    "average "
   ]
  },
  {
   "cell_type": "code",
   "execution_count": null,
   "id": "21944b4e",
   "metadata": {},
   "outputs": [],
   "source": [
    "huang_df = df.loc[\"Huang High School\"]\n",
    "huang_df"
   ]
  },
  {
   "cell_type": "code",
   "execution_count": null,
   "id": "f995aeb6",
   "metadata": {},
   "outputs": [],
   "source": [
    "huang_df = df.loc[\"Huang High School\"]\n",
    "b = huang_df[[\"budget\"]].mean()\n",
    "b"
   ]
  },
  {
   "cell_type": "code",
   "execution_count": null,
   "id": "53aa1321",
   "metadata": {},
   "outputs": [],
   "source": [
    "huang_df = df.loc[\"Huang High School\"]\n",
    "b = huang_df[[\"budget\"]].mean()/2917\n",
    "b"
   ]
  },
  {
   "cell_type": "code",
   "execution_count": null,
   "id": "5fd97efd",
   "metadata": {},
   "outputs": [],
   "source": [
    "huangpm_df = huang_df.loc[(huang_df[\"math_score\"]>=70)]\n",
    "huangpm_df"
   ]
  },
  {
   "cell_type": "code",
   "execution_count": null,
   "id": "a42aea67",
   "metadata": {},
   "outputs": [],
   "source": [
    "huangpr_df = huang_df.loc[(huang_df[\"reading_score\"]>=70)]\n",
    "huangpr_df"
   ]
  },
  {
   "cell_type": "code",
   "execution_count": null,
   "id": "279490a9",
   "metadata": {},
   "outputs": [],
   "source": [
    "huang_pr = (2372/2917)*100\n",
    "huang_pr"
   ]
  },
  {
   "cell_type": "code",
   "execution_count": null,
   "id": "60fd2beb",
   "metadata": {},
   "outputs": [],
   "source": [
    "pass_combined_mrh_df  = huang_df.loc[(huang_df[\"reading_score\"]>=70) & (huang_df[\"math_score\"]>=70)]\n",
    "pass_combined_mrh_df"
   ]
  },
  {
   "cell_type": "code",
   "execution_count": null,
   "id": "67bb241e",
   "metadata": {},
   "outputs": [],
   "source": [
    "huang_prm = (1561/2917)*100\n",
    "huang_prm"
   ]
  },
  {
   "cell_type": "code",
   "execution_count": null,
   "id": "bf1b0d6a",
   "metadata": {},
   "outputs": [],
   "source": []
  },
  {
   "cell_type": "code",
   "execution_count": null,
   "id": "de1ca14e",
   "metadata": {},
   "outputs": [],
   "source": []
  },
  {
   "cell_type": "code",
   "execution_count": null,
   "id": "af469e45",
   "metadata": {},
   "outputs": [],
   "source": []
  }
 ],
 "metadata": {
  "kernelspec": {
   "display_name": "Python 3",
   "language": "python",
   "name": "python3"
  },
  "language_info": {
   "codemirror_mode": {
    "name": "ipython",
    "version": 3
   },
   "file_extension": ".py",
   "mimetype": "text/x-python",
   "name": "python",
   "nbconvert_exporter": "python",
   "pygments_lexer": "ipython3",
   "version": "3.8.8"
  }
 },
 "nbformat": 4,
 "nbformat_minor": 5
}
